{
 "cells": [
  {
   "cell_type": "code",
   "execution_count": 1,
   "metadata": {},
   "outputs": [],
   "source": [
    "import pyspark\n",
    "from pyspark.sql import SparkSession\n",
    "from pyspark.sql.functions import *\n",
    "from pyspark.sql.window import *\n",
    "from pyspark.sql.types import *"
   ]
  },
  {
   "cell_type": "code",
   "execution_count": 2,
   "metadata": {},
   "outputs": [],
   "source": [
    "spark=SparkSession.builder.appName('desafio-python').getOrCreate()"
   ]
  },
  {
   "cell_type": "code",
   "execution_count": 3,
   "metadata": {},
   "outputs": [
    {
     "data": {
      "text/html": [
       "\n",
       "<style>\n",
       "    .output-plaintext, .output-stream, .output {\n",
       "        white-space: pre !important;\n",
       "    }\n",
       "    pre { white-space: pre !important; }\n",
       "</style>\n"
      ],
      "text/plain": [
       "<IPython.core.display.HTML object>"
      ]
     },
     "execution_count": 3,
     "metadata": {},
     "output_type": "execute_result"
    }
   ],
   "source": [
    "from IPython.core.display import HTML\n",
    "HTML(r\"\"\"\n",
    "<style>\n",
    "    .output-plaintext, .output-stream, .output {\n",
    "        white-space: pre !important;\n",
    "    }\n",
    "    pre { white-space: pre !important; }\n",
    "</style>\n",
    "\"\"\")"
   ]
  },
  {
   "cell_type": "code",
   "execution_count": 4,
   "metadata": {},
   "outputs": [],
   "source": [
    "spark.conf.set('spark.sql.repl.eagerEval.enabled', True)\n",
    "spark.conf.set('spark.sql.repl.eagerEval.truncate', 30)\n",
    "spark.conf.set('spark.sql.repl.eagerEval.maxNumRows', 20)"
   ]
  },
  {
   "cell_type": "code",
   "execution_count": 5,
   "metadata": {},
   "outputs": [],
   "source": [
    "# dataframes_dict = {}\n",
    "# dataframes_dict['metadata_de_facturas']=spark.read.parquet(\"/Users/jeikorodriguez/Desktop/curso python/bkpf_vbrk.parquet\")\n",
    "# dataframes_dict['facturas_por_cliente']=spark.read.parquet(\"/Users/jeikorodriguez/Desktop/curso python/vbpa_kna1.parquet\")\n",
    "# dataframes_dict['materiales']=spark.read.parquet(\"/Users/jeikorodriguez/Desktop/curso python/vbrp_mara_marm.parquet\")\n",
    "# dataframes_dict['paises']=spark.read.parquet(\"/Users/jeikorodriguez/Desktop/curso python/T005T.parquet\")\n",
    "\n",
    "########################################################################################################################################\n",
    "\n",
    "# dataframes_dict = {}\n",
    "# dataframes_dict['metadata_de_facturas']=spark.read.parquet(\"/Users/tamara/Desktop/Principal/KRANIO/DESAFIO-PYTHON/dataset/bkpf_vbrk.parquet\")\n",
    "# dataframes_dict['facturas_por_cliente']=spark.read.parquet(\"/Users/tamara/Desktop/Principal/KRANIO/DESAFIO-PYTHON/dataset/vbpa_kna1.parquet\")\n",
    "# dataframes_dict['materiales']=spark.read.parquet(\"/Users/tamara/Desktop/Principal/KRANIO/DESAFIO-PYTHON/dataset/vbrp_mara_marm.parquet\")\n",
    "# dataframes_dict['paises']=spark.read.parquet(\"/Users/tamara/Desktop/Principal/KRANIO/DESAFIO-PYTHON/dataset/T005T.parquet\")\n",
    "\n",
    "########################################################################################################################################\n",
    "\n",
    "dataframes_dict = {}\n",
    "dataframes_dict['metadata_de_facturas']=spark.read.parquet(\"/Users/diego/Desktop/Tarea Python/bkpf_vbrk.parquet\")\n",
    "dataframes_dict['facturas_por_cliente']=spark.read.parquet(\"/Users/diego/Desktop/Tarea Python/vbpa_kna1.parquet\")\n",
    "dataframes_dict['materiales']=spark.read.parquet(\"/Users/diego/Desktop/Tarea Python/vbrp_mara_marm.parquet\")\n",
    "dataframes_dict['paises']=spark.read.parquet(\"/Users/diego/Desktop/Tarea Python/T005T.parquet\")"
   ]
  },
  {
   "cell_type": "code",
   "execution_count": 6,
   "metadata": {},
   "outputs": [
    {
     "name": "stdout",
     "output_type": "stream",
     "text": [
      "root\n",
      " |-- Numero_de_Cliente: string (nullable = true)\n",
      " |-- Mandante: string (nullable = true)\n",
      " |-- Factura: string (nullable = true)\n",
      " |-- Posicion_de_Factura: integer (nullable = true)\n",
      " |-- Tipo_de_Cliente: string (nullable = true)\n",
      " |-- Direccion: string (nullable = true)\n",
      " |-- Punto_descarga: string (nullable = true)\n",
      " |-- Clave_pais: string (nullable = true)\n",
      " |-- Indicador_direccion: string (nullable = true)\n",
      " |-- Descr_cliente_socio: string (nullable = true)\n",
      " |-- Zona_transporte: string (nullable = true)\n",
      " |-- Numero_personal: string (nullable = true)\n",
      " |-- Cliente_Solicitante: string (nullable = true)\n",
      " |-- Cliente_Pagador: string (nullable = true)\n",
      " |-- Cliente_Destinatario_de_Mercancia: string (nullable = true)\n",
      " |-- Cliente_Destinatario_de_factura: string (nullable = true)\n",
      " |-- Representante_de_ventas: string (nullable = true)\n",
      " |-- Pais: string (nullable = true)\n",
      " |-- Nombre: string (nullable = true)\n",
      " |-- Poblacion: string (nullable = true)\n",
      " |-- Codigo_postal: string (nullable = true)\n",
      " |-- Region: string (nullable = true)\n",
      " |-- Conc_busq: string (nullable = true)\n",
      " |-- Calle: string (nullable = true)\n",
      " |-- Telefono: string (nullable = true)\n",
      " |-- Nombre_1: string (nullable = true)\n",
      " |-- Poblacion_1: string (nullable = true)\n",
      " |-- Tratamiento: string (nullable = true)\n",
      " |-- Creado_el: string (nullable = true)\n",
      " |-- Creado_por: string (nullable = true)\n",
      " |-- Puestos_de_descarga: string (nullable = true)\n",
      " |-- Grupo_de_ceuntas: string (nullable = true)\n",
      " |-- Acreedor: string (nullable = true)\n",
      " |-- Nombre_3: string (nullable = true)\n",
      " |-- Nombre_4: string (nullable = true)\n",
      " |-- Distrito: string (nullable = true)\n",
      " |-- Clave_de_idioma: string (nullable = true)\n",
      " |-- N_ident_fis_1: string (nullable = true)\n",
      " |-- Telefono_2: string (nullable = true)\n",
      " |-- Zona_de_transporte: string (nullable = true)\n",
      " |-- Sociedad_GL_asociada: string (nullable = true)\n",
      " |-- Atributo_1: string (nullable = true)\n",
      " |-- Persona_fisica: string (nullable = true)\n",
      "\n",
      "root\n",
      " |-- Mandante: integer (nullable = true)\n",
      " |-- Sociedad: string (nullable = true)\n",
      " |-- N_documento: string (nullable = true)\n",
      " |-- Ejercicio: integer (nullable = true)\n",
      " |-- Clase_documento: string (nullable = true)\n",
      " |-- Fecha_documento: date (nullable = true)\n",
      " |-- Fecha_contab: date (nullable = true)\n",
      " |-- Per_contable: integer (nullable = true)\n",
      " |-- Registrado_el: string (nullable = true)\n",
      " |-- Modificado_el: string (nullable = true)\n",
      " |-- Nombre_usuario: string (nullable = true)\n",
      " |-- Referencia: string (nullable = true)\n",
      " |-- Moneda: string (nullable = true)\n",
      " |-- Moneda_grupo: string (nullable = true)\n",
      " |-- Status_doc: string (nullable = true)\n",
      " |-- Op_referencia: string (nullable = true)\n",
      " |-- Clv_referencia: string (nullable = true)\n",
      " |-- Entidad_CP: string (nullable = true)\n",
      " |-- Moneda_local: string (nullable = true)\n",
      " |-- Tipo_cotizacion1: string (nullable = true)\n",
      " |-- Tipo_cotizacion2: string (nullable = true)\n",
      " |-- Soc_desencaden: string (nullable = true)\n",
      " |-- T_C_para_imptos: string (nullable = true)\n",
      " |-- Motiv_anulacion: string (nullable = true)\n",
      " |-- Num_de_tienda: string (nullable = true)\n",
      " |-- Ctd_paginas: string (nullable = true)\n",
      " |-- Ledger: string (nullable = true)\n",
      " |-- Grupo_ledgers: string (nullable = true)\n",
      " |-- FechDeclImpuest: string (nullable = true)\n",
      " |-- Contab_dividida: string (nullable = true)\n",
      " |-- Tipo_cotizacion: string (nullable = true)\n",
      " |-- Tipo_de_orden: string (nullable = true)\n",
      " |-- Motivo: string (nullable = true)\n",
      " |-- Codigo_transaccion: string (nullable = true)\n",
      " |-- Factura: string (nullable = true)\n",
      " |-- Clase_factura: string (nullable = true)\n",
      " |-- Organiz_ventas: string (nullable = true)\n",
      " |-- Canal_distrib: string (nullable = true)\n",
      " |-- Esquema_calculo: string (nullable = true)\n",
      " |-- Condicion_doc: string (nullable = true)\n",
      " |-- Condicion_expedicion: string (nullable = true)\n",
      " |-- Fecha_factura: string (nullable = true)\n",
      " |-- Grupo_precios: string (nullable = true)\n",
      " |-- Grupo_clientes: string (nullable = true)\n",
      " |-- Zona_de_ventas: string (nullable = true)\n",
      " |-- Lista_precios: string (nullable = true)\n",
      " |-- Incoterms: string (nullable = true)\n",
      " |-- Incoterms_2: string (nullable = true)\n",
      " |-- Status_contab: string (nullable = true)\n",
      " |-- Camb_p_contab: string (nullable = true)\n",
      " |-- Dias_val_adic: string (nullable = true)\n",
      " |-- Fecha_de_valor: string (nullable = true)\n",
      " |-- Cond_pago: string (nullable = true)\n",
      " |-- Via_pago: string (nullable = true)\n",
      " |-- Gpo_imputacion: string (nullable = true)\n",
      " |-- Pais_receptor: string (nullable = true)\n",
      " |-- Region: string (nullable = true)\n",
      " |-- Cl_Fiscal_1_Clt: string (nullable = true)\n",
      " |-- Valor_neto: double (nullable = true)\n",
      " |-- Crit_agrupam: string (nullable = true)\n",
      " |-- Creado_por: string (nullable = true)\n",
      " |-- Hora: string (nullable = true)\n",
      " |-- Creado_el: string (nullable = true)\n",
      " |-- Pagador: string (nullable = true)\n",
      " |-- Solicitante: string (nullable = true)\n",
      " |-- Moneda_estad: string (nullable = true)\n",
      " |-- N_com_exterior: string (nullable = true)\n",
      " |-- DocFacturAnulad: string (nullable = true)\n",
      " |-- Acuerdo: string (nullable = true)\n",
      " |-- Cl_lista_fact: string (nullable = true)\n",
      " |-- Fec_fact_lst_fc: string (nullable = true)\n",
      " |-- Sector: string (nullable = true)\n",
      " |-- Area_ctrl_cdto: string (nullable = true)\n",
      " |-- Cta_credito: string (nullable = true)\n",
      " |-- Cambio: string (nullable = true)\n",
      " |-- JerTip_DetPrec: string (nullable = true)\n",
      " |-- N_de_pedido: string (nullable = true)\n",
      " |-- PSdeterm_impto: string (nullable = true)\n",
      " |-- Origen_N_I_F: string (nullable = true)\n",
      " |-- Pais_N_I_F: string (nullable = true)\n",
      " |-- Asignacion: string (nullable = true)\n",
      " |-- Impte_impuesto: string (nullable = true)\n",
      " |-- Sistema_logico: string (nullable = true)\n",
      " |-- Fe_conversion: string (nullable = true)\n",
      " |-- TpCambCartCred: string (nullable = true)\n",
      " |-- Refer_pago: string (nullable = true)\n",
      "\n",
      "root\n",
      " |-- Material: string (nullable = true)\n",
      " |-- Mandante: string (nullable = true)\n",
      " |-- Factura: string (nullable = true)\n",
      " |-- Posicion: integer (nullable = true)\n",
      " |-- Posicion_sup: string (nullable = true)\n",
      " |-- Ctd_facturada: double (nullable = true)\n",
      " |-- UM_venta: string (nullable = true)\n",
      " |-- UM_base: string (nullable = true)\n",
      " |-- Ctd_necesaria: string (nullable = true)\n",
      " |-- Division: string (nullable = true)\n",
      " |-- Tp_cambio: string (nullable = true)\n",
      " |-- Valor_neto: double (nullable = true)\n",
      " |-- Causante: string (nullable = true)\n",
      " |-- Posicion1: string (nullable = true)\n",
      " |-- Doc_modelo: string (nullable = true)\n",
      " |-- Posicion_modelo: string (nullable = true)\n",
      " |-- Documento_venta: string (nullable = true)\n",
      " |-- Posicion2: string (nullable = true)\n",
      " |-- Denominacion: string (nullable = true)\n",
      " |-- Material_precio: string (nullable = true)\n",
      " |-- Lote: string (nullable = true)\n",
      " |-- Grupo_articulos: string (nullable = true)\n",
      " |-- Jquia_productos: string (nullable = true)\n",
      " |-- Puesto_exped: string (nullable = true)\n",
      " |-- Sector: string (nullable = true)\n",
      " |-- Centro: string (nullable = true)\n",
      " |-- Pais: string (nullable = true)\n",
      " |-- Reg_ce_sum: string (nullable = true)\n",
      " |-- Gr_materiales: string (nullable = true)\n",
      " |-- Gr_imput_mat: string (nullable = true)\n",
      " |-- Centro_coste: string (nullable = true)\n",
      " |-- Grupo_rappels: string (nullable = true)\n",
      " |-- Grupo_comision: string (nullable = true)\n",
      " |-- Gr_vendedores: string (nullable = true)\n",
      " |-- Oficina_ventas: string (nullable = true)\n",
      " |-- Sector2: string (nullable = true)\n",
      " |-- Cl_valoracion: string (nullable = true)\n",
      " |-- Almacen: string (nullable = true)\n",
      " |-- Costes_internos: string (nullable = true)\n",
      " |-- CeBe: string (nullable = true)\n",
      " |-- Gr_materiales_1: string (nullable = true)\n",
      " |-- Asociacion_posicion_volumen: integer (nullable = true)\n",
      " |-- Gr_materiales_2: string (nullable = true)\n",
      " |-- Gr_materiales_3: string (nullable = true)\n",
      " |-- Plazo_entrega: date (nullable = true)\n",
      " |-- Fecha_entrega: date (nullable = true)\n",
      " |-- Creado_el: date (nullable = true)\n",
      " |-- Creado_por: string (nullable = true)\n",
      " |-- Ultima_modif: string (nullable = true)\n",
      " |-- Modificado_por: string (nullable = true)\n",
      " |-- Stat_act_comp: string (nullable = true)\n",
      " |-- Stat_actual: string (nullable = true)\n",
      " |-- Tipo_material: string (nullable = true)\n",
      " |-- Ramo: string (nullable = true)\n",
      " |-- N_Material_ant: string (nullable = true)\n",
      " |-- UM_de_pedido: string (nullable = true)\n",
      " |-- Numero_hojas: string (nullable = true)\n",
      " |-- Fabr_insp: string (nullable = true)\n",
      " |-- Tamano_Dimens: string (nullable = true)\n",
      " |-- Denom_estandar: string (nullable = true)\n",
      " |-- CvValoresCompr: string (nullable = true)\n",
      " |-- Peso_bruto: double (nullable = true)\n",
      " |-- Peso_neto: double (nullable = true)\n",
      " |-- Unidad_de_peso: string (nullable = true)\n",
      " |-- Cond_almacenaje: string (nullable = true)\n",
      " |-- Nivel_plf_nec: integer (nullable = true)\n",
      " |-- Gpo_transporte: string (nullable = true)\n",
      " |-- N_sust_peligr: string (nullable = true)\n",
      " |-- Cant_vales_EM: string (nullable = true)\n",
      " |-- Codigo_EAN_UPC: string (nullable = true)\n",
      " |-- Tipo_EAN: string (nullable = true)\n",
      " |-- Longitud: string (nullable = true)\n",
      " |-- Ancho: string (nullable = true)\n",
      " |-- Altura: string (nullable = true)\n",
      " |-- Unidad: string (nullable = true)\n",
      " |-- CC_Net_Change: string (nullable = true)\n",
      " |-- Peso_perm_emb: string (nullable = true)\n",
      " |-- Volumen_perm: string (nullable = true)\n",
      " |-- Toleranc_sobrepeso: string (nullable = true)\n",
      " |-- Toler_exceso_volum: string (nullable = true)\n",
      " |-- UMP_variable: string (nullable = true)\n",
      " |-- Sujeto_lote: string (nullable = true)\n",
      " |-- Capac_llenado: string (nullable = true)\n",
      " |-- Factor_apilado: string (nullable = true)\n",
      " |-- Grupo_mat_ME: string (nullable = true)\n",
      " |-- Valido_de1: string (nullable = true)\n",
      " |-- Validez_a: string (nullable = true)\n",
      " |-- Co_producto: string (nullable = true)\n",
      " |-- StatMatTodosCe: string (nullable = true)\n",
      " |-- Valido_de2: string (nullable = true)\n",
      " |-- Valido_de3: string (nullable = true)\n",
      " |-- Clasif_fiscal: string (nullable = true)\n",
      " |-- Perfil_catalogo: string (nullable = true)\n",
      " |-- TmpoHastaCaduc: string (nullable = true)\n",
      " |-- DurTotalConserv: string (nullable = true)\n",
      " |-- %TmpoCaducAlmac: string (nullable = true)\n",
      " |-- Contenido_neto: string (nullable = true)\n",
      " |-- Ctd_base_comp: string (nullable = true)\n",
      " |-- Contenido_bruto: string (nullable = true)\n",
      " |-- Metodo_convers: string (nullable = true)\n",
      " |-- Utiliz_UM: string (nullable = true)\n",
      " |-- Viscos_elevada: string (nullable = true)\n",
      " |-- A_granel_liqu: string (nullable = true)\n",
      " |-- Log_lote_nec: string (nullable = true)\n",
      " |-- Niv_fabr_mater: string (nullable = true)\n",
      " |-- Ind_periodo: string (nullable = true)\n",
      " |-- Gr_tp_pos_gral: string (nullable = true)\n",
      " |-- Fijado: string (nullable = true)\n",
      " |-- Cl_lista_surt: string (nullable = true)\n",
      " |-- Fe_cad_Fe_exp: string (nullable = true)\n",
      " |-- Capacidad_max: string (nullable = true)\n",
      " |-- Tol_sobrecap: string (nullable = true)\n",
      " |-- Long_max: string (nullable = true)\n",
      " |-- Ancho_per_emb: string (nullable = true)\n",
      " |-- Alt_max: string (nullable = true)\n",
      " |-- Per_cuarent: string (nullable = true)\n",
      " |-- ANP_Code: string (nullable = true)\n",
      " |-- Gr_unidad_carga: string (nullable = true)\n",
      " |-- Categ_estruct: string (nullable = true)\n",
      " |-- Tp_tol: string (nullable = true)\n",
      " |-- Grupo_de_cuenta: string (nullable = true)\n",
      " |-- Agrupacion_DSD: string (nullable = true)\n",
      " |-- Unidad_de_medida_Volumen_Original: string (nullable = true)\n",
      " |-- Numerador_para_conversion_Volumen_Original: double (nullable = true)\n",
      " |-- Denominador_para_conversion_Volumen_Original: double (nullable = true)\n",
      " |-- Unidad_de_medida_Volumen_Destino: string (nullable = true)\n",
      " |-- Numerador_para_conversion_Volumen_Destino: double (nullable = true)\n",
      " |-- Denominador_para_conversion_Volumen_Destino: double (nullable = true)\n",
      " |-- Volumen: double (nullable = true)\n",
      " |-- Jquia_productos_nivel_1: string (nullable = true)\n",
      " |-- Jquia_productos_nivel_2: string (nullable = true)\n",
      " |-- Jquia_productos_nivel_3: string (nullable = true)\n",
      "\n",
      "root\n",
      " |-- Mandante: integer (nullable = true)\n",
      " |-- Idioma: string (nullable = true)\n",
      " |-- Pais: string (nullable = true)\n",
      " |-- Pais_descr: string (nullable = true)\n",
      " |-- Nacionalidad: string (nullable = true)\n",
      " |-- Pais_descr_largo: string (nullable = true)\n",
      " |-- Nacionalidad_largo: string (nullable = true)\n",
      " |-- PRQ_SPREGT: string (nullable = true)\n",
      "\n"
     ]
    }
   ],
   "source": [
    "dataframes_dict['facturas_por_cliente'].printSchema()\n",
    "dataframes_dict['metadata_de_facturas'].printSchema()\n",
    "dataframes_dict['materiales'].printSchema()\n",
    "dataframes_dict['paises'].printSchema()"
   ]
  },
  {
   "cell_type": "markdown",
   "metadata": {},
   "source": [
    "#### Filtros por Mandante = 400"
   ]
  },
  {
   "cell_type": "code",
   "execution_count": 7,
   "metadata": {},
   "outputs": [],
   "source": [
    "df_metadata_facturas = dataframes_dict['metadata_de_facturas'].where(col('Mandante') == '400')"
   ]
  },
  {
   "cell_type": "code",
   "execution_count": 8,
   "metadata": {},
   "outputs": [],
   "source": [
    "df_facturas_por_cliente = dataframes_dict['facturas_por_cliente'].where(col('Mandante') == '400')"
   ]
  },
  {
   "cell_type": "code",
   "execution_count": 9,
   "metadata": {},
   "outputs": [],
   "source": [
    "df_materiales = dataframes_dict['materiales'].where(col('Mandante') == '400')"
   ]
  },
  {
   "cell_type": "code",
   "execution_count": 10,
   "metadata": {},
   "outputs": [],
   "source": [
    "df_paises = dataframes_dict['paises'].where(col('Mandante') == '400').where(col('Idioma') == 'S')\n",
    "# Ocupar sólo \"S\" Y info mandante 400"
   ]
  },
  {
   "cell_type": "markdown",
   "metadata": {},
   "source": [
    "#### SELECT DE TABLAS"
   ]
  },
  {
   "cell_type": "code",
   "execution_count": 11,
   "metadata": {},
   "outputs": [],
   "source": [
    "df_metadata_facturas = df_metadata_facturas.select('Factura', 'Clase_factura', 'Ejercicio', 'Per_contable').where(col('Factura').isNotNull())\n"
   ]
  },
  {
   "cell_type": "code",
   "execution_count": 12,
   "metadata": {},
   "outputs": [],
   "source": [
    "df_facturas_por_cliente = df_facturas_por_cliente.select('Factura','Posicion_de_Factura','Pais', 'Nombre', 'Numero_de_Cliente', 'Cliente_Solicitante', 'Cliente_Destinatario_de_Mercancia')\\\n",
    "                                                 .withColumnRenamed('Pais', 'Pais_cliente')"
   ]
  },
  {
   "cell_type": "code",
   "execution_count": 13,
   "metadata": {},
   "outputs": [],
   "source": [
    "df_materiales = df_materiales.groupBy('Factura', 'Posicion', 'Material', 'Unidad_de_medida_Volumen_Destino', 'Pais').agg(sum(col('Volumen')).alias('Volumen'))\\\n",
    "                             .withColumnRenamed('Pais', 'Pais_factura')"
   ]
  },
  {
   "cell_type": "code",
   "execution_count": 14,
   "metadata": {},
   "outputs": [],
   "source": [
    "df_paises = df_paises.select('Idioma', 'Pais' , 'Pais_descr')"
   ]
  },
  {
   "cell_type": "markdown",
   "metadata": {},
   "source": [
    "#### Join tablas"
   ]
  },
  {
   "cell_type": "code",
   "execution_count": 19,
   "metadata": {},
   "outputs": [],
   "source": [
    "def facturas_clientes_x_metadata_facturas(dataframes_dict):\n",
    "    df_result = df_facturas_por_cliente.join(df_metadata_facturas, 'Factura', 'left')\n",
    "\n",
    "    return {'add_facturas_clientes_x_metadata_facturas': df_result}\n",
    "\n",
    "def materiales_x_clase_factura(dataframes_dict):\n",
    "    df_metadata_facturas_clientes = dataframes_dict['add_facturas_clientes_x_metadata_facturas']\n",
    "    df_facturas_por_cliente_2 = df_facturas_por_cliente.select('Factura', 'Cliente_Solicitante') \n",
    "    df_result = df_materiales.join(df_facturas_por_cliente_2, 'Factura', 'left')\n",
    "\n",
    "    \n",
    "    # join_cond = [df_materiales.Factura == df_metadata_facturas_clientes.Factura]\n",
    "    # df_result = df_materiales.join(df_metadata_facturas_clientes, join_cond, 'left')\\\n",
    "    #                          .drop(df_metadata_facturas_clientes.Posicion_de_Factura)\\\n",
    "    #                          .drop(df_metadata_facturas_clientes.Factura)\n",
    "\n",
    "    return {'add_materiales_x_clase_factura': df_result}\n",
    "\n",
    "# def materiales_x_clase_factura_2(dataframes_dict):\n",
    "#     df_metadata_facturas_clientes = dataframes_dict['add_facturas_clientes_x_metadata_facturas']\n",
    "#     join_cond = [df_materiales.Factura == df_metadata_facturas_clientes.Factura, df_materiales.Posicion == df_metadata_facturas_clientes.Posicion_de_Factura]\n",
    "#     df_result = df_materiales.join(df_metadata_facturas_clientes, join_cond, 'left')\\\n",
    "#                              .drop(df_metadata_facturas_clientes.Posicion_de_Factura)\\\n",
    "#                              .drop(df_metadata_facturas_clientes.Factura)\n",
    "\n",
    " #   return {'add_materiales_x_clase_factura': df_result}\n",
    "\n",
    "# def paises_descripcion(dataframes_dict):\n",
    "#     df_materiales_facturas = dataframes_dict['add_materiales_x_clase_factura']\n",
    "#     df_result = df_materiales_facturas.join(df_paises,df_paises.Pais == df_materiales_facturas.Pais_cliente, 'left')\\\n",
    "#                                       .drop('Pais')\n",
    "\n",
    "#     return {'add_paises_descripcion': df_result}"
   ]
  },
  {
   "cell_type": "code",
   "execution_count": 23,
   "metadata": {},
   "outputs": [
    {
     "data": {
      "text/html": [
       "<table border='1'>\n",
       "<tr><th>Factura</th><th>Posicion</th><th>Material</th><th>Unidad_de_medida_Volumen_Destino</th><th>Pais_factura</th><th>Volumen</th><th>Cliente_Solicitante</th></tr>\n",
       "<tr><td>0150113050</td><td>76</td><td>M100PLY000122</td><td>M3</td><td>CL</td><td>2.8934280639431615</td><td>17309</td></tr>\n",
       "<tr><td>0150140755</td><td>23</td><td>M100PLY000107</td><td>M3</td><td>CL</td><td>2.8577280027594236</td><td>242801</td></tr>\n",
       "<tr><td>0150140755</td><td>24</td><td>M100PLY000107</td><td>M3</td><td>CL</td><td>2.8577280027594236</td><td>242801</td></tr>\n",
       "<tr><td>0933004035</td><td>10</td><td>M100PLY000248-002</td><td>M3</td><td>CL</td><td>4.465199987588047E-5</td><td>627</td></tr>\n",
       "<tr><td>0150183724</td><td>16</td><td>M100PLY000037</td><td>M3</td><td>CL</td><td>2.8224</td><td>67622</td></tr>\n",
       "<tr><td>0150141959</td><td>63</td><td>M460PPI000023</td><td>M3</td><td>CL</td><td>2.0646424568771176</td><td>C6108</td></tr>\n",
       "<tr><td>0150141959</td><td>49</td><td>M460PPI000027</td><td>M3</td><td>CL</td><td>2.907359941413402</td><td>C6108</td></tr>\n",
       "<tr><td>0150141959</td><td>128</td><td>M520MPI000035</td><td>M3</td><td>CL</td><td>3.7500632089942183</td><td>C6108</td></tr>\n",
       "<tr><td>0150193854</td><td>31</td><td>M400PPF000156</td><td>M3</td><td>CL</td><td>2.1553912371702904</td><td>C6105</td></tr>\n",
       "<tr><td>0150141345</td><td>12</td><td>M100PLY000188</td><td>M3</td><td>CL</td><td>2.7648</td><td>67622</td></tr>\n",
       "<tr><td>0150168176</td><td>58</td><td>M100PLY000017</td><td>M3</td><td>CL</td><td>2.8934280639431615</td><td>C6108</td></tr>\n",
       "<tr><td>0150136016</td><td>18</td><td>M100PLY000085</td><td>M3</td><td>CL</td><td>2.90238</td><td>48365</td></tr>\n",
       "<tr><td>0150114293</td><td>76</td><td>M100PLY000116</td><td>M3</td><td>CL</td><td>2.571936056838366</td><td>C6102</td></tr>\n",
       "<tr><td>0150129854</td><td>28</td><td>M100PLY000007</td><td>M3</td><td>CL</td><td>2.857720018853949</td><td>C6104</td></tr>\n",
       "<tr><td>0150137426</td><td>31</td><td>M520MPI000003</td><td>M3</td><td>CL</td><td>3.6704639260359913</td><td>C6101</td></tr>\n",
       "<tr><td>0150137426</td><td>86</td><td>M520MPI000003</td><td>M3</td><td>CL</td><td>3.6704639260359913</td><td>C6101</td></tr>\n",
       "<tr><td>0150111773</td><td>26</td><td>M100PLY000251</td><td>M3</td><td>CL</td><td>2.8934496027939165</td><td>164961</td></tr>\n",
       "<tr><td>0150164494</td><td>156</td><td>M140BAN_RDM099</td><td>M3</td><td>CL</td><td>2.64</td><td>68121</td></tr>\n",
       "<tr><td>0150188171</td><td>38</td><td>M100PLY000116</td><td>M3</td><td>CL</td><td>2.571936056838366</td><td>C6111</td></tr>\n",
       "<tr><td>0150188171</td><td>41</td><td>M100PLY000116</td><td>M3</td><td>CL</td><td>2.571936056838366</td><td>C6111</td></tr>\n",
       "</table>\n",
       "only showing top 20 rows\n"
      ],
      "text/plain": [
       "+----------+--------+-----------------+--------------------------------+------------+--------------------+-------------------+\n",
       "|   Factura|Posicion|         Material|Unidad_de_medida_Volumen_Destino|Pais_factura|             Volumen|Cliente_Solicitante|\n",
       "+----------+--------+-----------------+--------------------------------+------------+--------------------+-------------------+\n",
       "|0150113050|      76|    M100PLY000122|                              M3|          CL|  2.8934280639431615|              17309|\n",
       "|0150140755|      23|    M100PLY000107|                              M3|          CL|  2.8577280027594236|             242801|\n",
       "|0150140755|      24|    M100PLY000107|                              M3|          CL|  2.8577280027594236|             242801|\n",
       "|0933004035|      10|M100PLY000248-002|                              M3|          CL|4.465199987588047E-5|                627|\n",
       "|0150183724|      16|    M100PLY000037|                              M3|          CL|              2.8224|              67622|\n",
       "|0150141959|      63|    M460PPI000023|                              M3|          CL|  2.0646424568771176|              C6108|\n",
       "|0150141959|      49|    M460PPI000027|                              M3|          CL|   2.907359941413402|              C6108|\n",
       "|0150141959|     128|    M520MPI000035|                              M3|          CL|  3.7500632089942183|              C6108|\n",
       "|0150193854|      31|    M400PPF000156|                              M3|          CL|  2.1553912371702904|              C6105|\n",
       "|0150141345|      12|    M100PLY000188|                              M3|          CL|              2.7648|              67622|\n",
       "|0150168176|      58|    M100PLY000017|                              M3|          CL|  2.8934280639431615|              C6108|\n",
       "|0150136016|      18|    M100PLY000085|                              M3|          CL|             2.90238|              48365|\n",
       "|0150114293|      76|    M100PLY000116|                              M3|          CL|   2.571936056838366|              C6102|\n",
       "|0150129854|      28|    M100PLY000007|                              M3|          CL|   2.857720018853949|              C6104|\n",
       "|0150137426|      31|    M520MPI000003|                              M3|          CL|  3.6704639260359913|              C6101|\n",
       "|0150137426|      86|    M520MPI000003|                              M3|          CL|  3.6704639260359913|              C6101|\n",
       "|0150111773|      26|    M100PLY000251|                              M3|          CL|  2.8934496027939165|             164961|\n",
       "|0150164494|     156|   M140BAN_RDM099|                              M3|          CL|                2.64|              68121|\n",
       "|0150188171|      38|    M100PLY000116|                              M3|          CL|   2.571936056838366|              C6111|\n",
       "|0150188171|      41|    M100PLY000116|                              M3|          CL|   2.571936056838366|              C6111|\n",
       "+----------+--------+-----------------+--------------------------------+------------+--------------------+-------------------+\n",
       "only showing top 20 rows"
      ]
     },
     "execution_count": 23,
     "metadata": {},
     "output_type": "execute_result"
    }
   ],
   "source": [
    "dataframes_dict['add_materiales_x_clase_factura'].where(col('Cliente_Solicitante').isNotNull())"
   ]
  },
  {
   "cell_type": "code",
   "execution_count": 22,
   "metadata": {},
   "outputs": [
    {
     "data": {
      "text/plain": [
       "2798"
      ]
     },
     "execution_count": 22,
     "metadata": {},
     "output_type": "execute_result"
    }
   ],
   "source": [
    "dataframes_dict['add_facturas_clientes_x_metadata_facturas'].where(col('Cliente_Solicitante').isNotNull()).count()"
   ]
  },
  {
   "cell_type": "code",
   "execution_count": 17,
   "metadata": {},
   "outputs": [],
   "source": [
    "def main(dataframes_dict):\n",
    "\n",
    "    functions_list = [\n",
    "        facturas_clientes_x_metadata_facturas,\n",
    "        materiales_x_clase_factura,\n",
    "        paises_descripcion,\n",
    "        # Otras transformaciones\n",
    "    ]\n",
    "\n",
    "    for function in functions_list:\n",
    "        print(function)\n",
    "        result_element = function(dataframes_dict)\n",
    "        dataframes_dict.update(result_element)\n",
    "\n",
    "    return dataframes_dict['add_paises_descripcion'] # Modificar al último dataframe retornado"
   ]
  },
  {
   "cell_type": "markdown",
   "metadata": {},
   "source": [
    "#### Dataframe Resultado"
   ]
  },
  {
   "cell_type": "code",
   "execution_count": 18,
   "metadata": {},
   "outputs": [
    {
     "name": "stdout",
     "output_type": "stream",
     "text": [
      "<function facturas_clientes_x_metadata_facturas at 0x000001BF75AE7910>\n",
      "<function materiales_x_clase_factura at 0x000001BF75AE7AC0>\n",
      "<function paises_descripcion at 0x000001BF75AE69E0>\n"
     ]
    },
    {
     "ename": "AttributeError",
     "evalue": "'DataFrame' object has no attribute 'Pais_cliente'",
     "output_type": "error",
     "traceback": [
      "\u001b[1;31m---------------------------------------------------------------------------\u001b[0m",
      "\u001b[1;31mAttributeError\u001b[0m                            Traceback (most recent call last)",
      "\u001b[1;32mc:\\Users\\diego\\Desktop\\Tarea Python\\data-engineering-training\\comando-4\\pruebas.ipynb Celda 21\u001b[0m in \u001b[0;36m<cell line: 1>\u001b[1;34m()\u001b[0m\n\u001b[1;32m----> <a href='vscode-notebook-cell:/c%3A/Users/diego/Desktop/Tarea%20Python/data-engineering-training/comando-4/pruebas.ipynb#X61sZmlsZQ%3D%3D?line=0'>1</a>\u001b[0m dataframe_final \u001b[39m=\u001b[39m main(dataframes_dict)\u001b[39m.\u001b[39mselect(\u001b[39m'\u001b[39m\u001b[39mCliente_Solicitante\u001b[39m\u001b[39m'\u001b[39m, \u001b[39m'\u001b[39m\u001b[39mCliente_Destinatario_de_Mercancia\u001b[39m\u001b[39m'\u001b[39m, \u001b[39m'\u001b[39m\u001b[39mFactura\u001b[39m\u001b[39m'\u001b[39m, \u001b[39m'\u001b[39m\u001b[39mClase_factura\u001b[39m\u001b[39m'\u001b[39m, \u001b[39m'\u001b[39m\u001b[39mPosicion\u001b[39m\u001b[39m'\u001b[39m, \u001b[39m'\u001b[39m\u001b[39mMaterial\u001b[39m\u001b[39m'\u001b[39m, \u001b[39m'\u001b[39m\u001b[39mVolumen\u001b[39m\u001b[39m'\u001b[39m, \n\u001b[0;32m      <a href='vscode-notebook-cell:/c%3A/Users/diego/Desktop/Tarea%20Python/data-engineering-training/comando-4/pruebas.ipynb#X61sZmlsZQ%3D%3D?line=1'>2</a>\u001b[0m                                         \u001b[39m'\u001b[39m\u001b[39mUnidad_de_medida_Volumen_Destino\u001b[39m\u001b[39m'\u001b[39m,\u001b[39m'\u001b[39m\u001b[39mPer_contable\u001b[39m\u001b[39m'\u001b[39m, \u001b[39m'\u001b[39m\u001b[39mEjercicio\u001b[39m\u001b[39m'\u001b[39m, \u001b[39m'\u001b[39m\u001b[39mNumero_de_cliente\u001b[39m\u001b[39m'\u001b[39m, \u001b[39m'\u001b[39m\u001b[39mNombre\u001b[39m\u001b[39m'\u001b[39m, \u001b[39m'\u001b[39m\u001b[39mPais_cliente\u001b[39m\u001b[39m'\u001b[39m, \u001b[39m'\u001b[39m\u001b[39mPais_descr\u001b[39m\u001b[39m'\u001b[39m)\\\n\u001b[0;32m      <a href='vscode-notebook-cell:/c%3A/Users/diego/Desktop/Tarea%20Python/data-engineering-training/comando-4/pruebas.ipynb#X61sZmlsZQ%3D%3D?line=2'>3</a>\u001b[0m                                        \u001b[39m.\u001b[39mwithColumnRenamed(\u001b[39m'\u001b[39m\u001b[39mNombre\u001b[39m\u001b[39m'\u001b[39m, \u001b[39m'\u001b[39m\u001b[39mNombre_cliente\u001b[39m\u001b[39m'\u001b[39m)\n",
      "\u001b[1;32mc:\\Users\\diego\\Desktop\\Tarea Python\\data-engineering-training\\comando-4\\pruebas.ipynb Celda 21\u001b[0m in \u001b[0;36mmain\u001b[1;34m(dataframes_dict)\u001b[0m\n\u001b[0;32m     <a href='vscode-notebook-cell:/c%3A/Users/diego/Desktop/Tarea%20Python/data-engineering-training/comando-4/pruebas.ipynb#X61sZmlsZQ%3D%3D?line=9'>10</a>\u001b[0m \u001b[39mfor\u001b[39;00m function \u001b[39min\u001b[39;00m functions_list:\n\u001b[0;32m     <a href='vscode-notebook-cell:/c%3A/Users/diego/Desktop/Tarea%20Python/data-engineering-training/comando-4/pruebas.ipynb#X61sZmlsZQ%3D%3D?line=10'>11</a>\u001b[0m     \u001b[39mprint\u001b[39m(function)\n\u001b[1;32m---> <a href='vscode-notebook-cell:/c%3A/Users/diego/Desktop/Tarea%20Python/data-engineering-training/comando-4/pruebas.ipynb#X61sZmlsZQ%3D%3D?line=11'>12</a>\u001b[0m     result_element \u001b[39m=\u001b[39m function(dataframes_dict)\n\u001b[0;32m     <a href='vscode-notebook-cell:/c%3A/Users/diego/Desktop/Tarea%20Python/data-engineering-training/comando-4/pruebas.ipynb#X61sZmlsZQ%3D%3D?line=12'>13</a>\u001b[0m     dataframes_dict\u001b[39m.\u001b[39mupdate(result_element)\n\u001b[0;32m     <a href='vscode-notebook-cell:/c%3A/Users/diego/Desktop/Tarea%20Python/data-engineering-training/comando-4/pruebas.ipynb#X61sZmlsZQ%3D%3D?line=14'>15</a>\u001b[0m \u001b[39mreturn\u001b[39;00m dataframes_dict[\u001b[39m'\u001b[39m\u001b[39madd_paises_descripcion\u001b[39m\u001b[39m'\u001b[39m]\n",
      "\u001b[1;32mc:\\Users\\diego\\Desktop\\Tarea Python\\data-engineering-training\\comando-4\\pruebas.ipynb Celda 21\u001b[0m in \u001b[0;36mpaises_descripcion\u001b[1;34m(dataframes_dict)\u001b[0m\n\u001b[0;32m     <a href='vscode-notebook-cell:/c%3A/Users/diego/Desktop/Tarea%20Python/data-engineering-training/comando-4/pruebas.ipynb#X61sZmlsZQ%3D%3D?line=27'>28</a>\u001b[0m \u001b[39mdef\u001b[39;00m \u001b[39mpaises_descripcion\u001b[39m(dataframes_dict):\n\u001b[0;32m     <a href='vscode-notebook-cell:/c%3A/Users/diego/Desktop/Tarea%20Python/data-engineering-training/comando-4/pruebas.ipynb#X61sZmlsZQ%3D%3D?line=28'>29</a>\u001b[0m     df_materiales_facturas \u001b[39m=\u001b[39m dataframes_dict[\u001b[39m'\u001b[39m\u001b[39madd_materiales_x_clase_factura\u001b[39m\u001b[39m'\u001b[39m]\n\u001b[1;32m---> <a href='vscode-notebook-cell:/c%3A/Users/diego/Desktop/Tarea%20Python/data-engineering-training/comando-4/pruebas.ipynb#X61sZmlsZQ%3D%3D?line=29'>30</a>\u001b[0m     df_result \u001b[39m=\u001b[39m df_materiales_facturas\u001b[39m.\u001b[39mjoin(df_paises,df_paises\u001b[39m.\u001b[39mPais \u001b[39m==\u001b[39m df_materiales_facturas\u001b[39m.\u001b[39;49mPais_cliente, \u001b[39m'\u001b[39m\u001b[39mleft\u001b[39m\u001b[39m'\u001b[39m)\\\n\u001b[0;32m     <a href='vscode-notebook-cell:/c%3A/Users/diego/Desktop/Tarea%20Python/data-engineering-training/comando-4/pruebas.ipynb#X61sZmlsZQ%3D%3D?line=30'>31</a>\u001b[0m                                       \u001b[39m.\u001b[39mdrop(\u001b[39m'\u001b[39m\u001b[39mPais\u001b[39m\u001b[39m'\u001b[39m)\n\u001b[0;32m     <a href='vscode-notebook-cell:/c%3A/Users/diego/Desktop/Tarea%20Python/data-engineering-training/comando-4/pruebas.ipynb#X61sZmlsZQ%3D%3D?line=32'>33</a>\u001b[0m     \u001b[39mreturn\u001b[39;00m {\u001b[39m'\u001b[39m\u001b[39madd_paises_descripcion\u001b[39m\u001b[39m'\u001b[39m: df_result}\n",
      "File \u001b[1;32mc:\\Users\\diego\\AppData\\Local\\Programs\\Python\\Python310\\lib\\site-packages\\pyspark\\sql\\dataframe.py:1400\u001b[0m, in \u001b[0;36mDataFrame.__getattr__\u001b[1;34m(self, name)\u001b[0m\n\u001b[0;32m   1394\u001b[0m \u001b[39m\"\"\"Returns the :class:`Column` denoted by ``name``.\u001b[39;00m\n\u001b[0;32m   1395\u001b[0m \n\u001b[0;32m   1396\u001b[0m \u001b[39m>>> df.select(df.age).collect()\u001b[39;00m\n\u001b[0;32m   1397\u001b[0m \u001b[39m[Row(age=2), Row(age=5)]\u001b[39;00m\n\u001b[0;32m   1398\u001b[0m \u001b[39m\"\"\"\u001b[39;00m\n\u001b[0;32m   1399\u001b[0m \u001b[39mif\u001b[39;00m name \u001b[39mnot\u001b[39;00m \u001b[39min\u001b[39;00m \u001b[39mself\u001b[39m\u001b[39m.\u001b[39mcolumns:\n\u001b[1;32m-> 1400\u001b[0m     \u001b[39mraise\u001b[39;00m \u001b[39mAttributeError\u001b[39;00m(\n\u001b[0;32m   1401\u001b[0m         \u001b[39m\"\u001b[39m\u001b[39m'\u001b[39m\u001b[39m%s\u001b[39;00m\u001b[39m'\u001b[39m\u001b[39m object has no attribute \u001b[39m\u001b[39m'\u001b[39m\u001b[39m%s\u001b[39;00m\u001b[39m'\u001b[39m\u001b[39m\"\u001b[39m \u001b[39m%\u001b[39m (\u001b[39mself\u001b[39m\u001b[39m.\u001b[39m\u001b[39m__class__\u001b[39m\u001b[39m.\u001b[39m\u001b[39m__name__\u001b[39m, name))\n\u001b[0;32m   1402\u001b[0m jc \u001b[39m=\u001b[39m \u001b[39mself\u001b[39m\u001b[39m.\u001b[39m_jdf\u001b[39m.\u001b[39mapply(name)\n\u001b[0;32m   1403\u001b[0m \u001b[39mreturn\u001b[39;00m Column(jc)\n",
      "\u001b[1;31mAttributeError\u001b[0m: 'DataFrame' object has no attribute 'Pais_cliente'"
     ]
    }
   ],
   "source": [
    "dataframe_final = main(dataframes_dict).select('Cliente_Solicitante', 'Cliente_Destinatario_de_Mercancia', 'Factura', 'Clase_factura', 'Posicion', 'Material', 'Volumen', \n",
    "                                        'Unidad_de_medida_Volumen_Destino','Per_contable', 'Ejercicio', 'Numero_de_cliente', 'Nombre', 'Pais_cliente', 'Pais_descr')\\\n",
    "                                       .withColumnRenamed('Nombre', 'Nombre_cliente') \n"
   ]
  },
  {
   "cell_type": "markdown",
   "metadata": {},
   "source": [
    "#### Consultas"
   ]
  },
  {
   "cell_type": "markdown",
   "metadata": {},
   "source": [
    "#### Cantidad de facturas por tipo de cliente "
   ]
  },
  {
   "cell_type": "code",
   "execution_count": null,
   "metadata": {},
   "outputs": [
    {
     "data": {
      "text/plain": [
       "2800"
      ]
     },
     "execution_count": 22,
     "metadata": {},
     "output_type": "execute_result"
    }
   ],
   "source": [
    "dataframe_final.where(col('Cliente_Destinatario_de_Mercancia').isNotNull()).count()"
   ]
  },
  {
   "cell_type": "markdown",
   "metadata": {},
   "source": []
  }
 ],
 "metadata": {
  "kernelspec": {
   "display_name": "Python 3.10.6 64-bit",
   "language": "python",
   "name": "python3"
  },
  "language_info": {
   "codemirror_mode": {
    "name": "ipython",
    "version": 3
   },
   "file_extension": ".py",
   "mimetype": "text/x-python",
   "name": "python",
   "nbconvert_exporter": "python",
   "pygments_lexer": "ipython3",
   "version": "3.10.6"
  },
  "orig_nbformat": 4,
  "vscode": {
   "interpreter": {
    "hash": "98b7f83ea1f6816592be813d0a9257f9f3e2d15bf5c320e3b781c72faa584dce"
   }
  }
 },
 "nbformat": 4,
 "nbformat_minor": 2
}
