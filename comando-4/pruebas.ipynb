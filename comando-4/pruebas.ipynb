{
 "cells": [
  {
   "cell_type": "code",
   "execution_count": 1,
   "metadata": {},
   "outputs": [],
   "source": [
    "import pyspark\n",
    "from pyspark.sql import SparkSession\n",
    "from pyspark.sql.functions import *\n",
    "from pyspark.sql.window import *\n",
    "from pyspark.sql.types import *\n"
   ]
  },
  {
   "cell_type": "code",
   "execution_count": 2,
   "metadata": {},
   "outputs": [
    {
     "name": "stderr",
     "output_type": "stream",
     "text": [
      "Setting default log level to \"WARN\".\n",
      "To adjust logging level use sc.setLogLevel(newLevel). For SparkR, use setLogLevel(newLevel).\n"
     ]
    },
    {
     "name": "stdout",
     "output_type": "stream",
     "text": [
      "22/08/31 15:46:36 WARN NativeCodeLoader: Unable to load native-hadoop library for your platform... using builtin-java classes where applicable\n"
     ]
    }
   ],
   "source": [
    "spark=SparkSession.builder.appName('desafio-python').getOrCreate()"
   ]
  },
  {
   "cell_type": "code",
   "execution_count": 24,
   "metadata": {},
   "outputs": [
    {
     "data": {
      "text/html": [
       "\n",
       "<style>\n",
       "    .output-plaintext, .output-stream, .output {\n",
       "        white-space: pre !important;\n",
       "    }\n",
       "    pre { white-space: pre !important; }\n",
       "</style>\n"
      ],
      "text/plain": [
       "<IPython.core.display.HTML object>"
      ]
     },
     "execution_count": 24,
     "metadata": {},
     "output_type": "execute_result"
    }
   ],
   "source": [
    "from IPython.core.display import HTML\n",
    "HTML(r\"\"\"\n",
    "<style>\n",
    "    .output-plaintext, .output-stream, .output {\n",
    "        white-space: pre !important;\n",
    "    }\n",
    "    pre { white-space: pre !important; }\n",
    "</style>\n",
    "\"\"\")"
   ]
  },
  {
   "cell_type": "code",
   "execution_count": 33,
   "metadata": {},
   "outputs": [],
   "source": [
    "spark.conf.set('spark.sql.repl.eagerEval.enabled', True)\n",
    "spark.conf.set('spark.sql.repl.eagerEval.truncate', 30)\n",
    "spark.conf.set('spark.sql.repl.eagerEval.maxNumRows', 20)"
   ]
  },
  {
   "cell_type": "code",
   "execution_count": 4,
   "metadata": {},
   "outputs": [
    {
     "name": "stderr",
     "output_type": "stream",
     "text": [
      "                                                                                \r"
     ]
    }
   ],
   "source": [
    "# dataframes_dict = {}\n",
    "# dataframes_dict['metadata_de_facturas']=spark.read.parquet(\"/Users/jeikorodriguez/Desktop/curso python/bkpf_vbrk.parquet\")\n",
    "# dataframes_dict['facturas_por_cliente']=spark.read.parquet(\"/Users/jeikorodriguez/Desktop/curso python/vbpa_kna1.parquet\")\n",
    "# dataframes_dict['materiales']=spark.read.parquet(\"/Users/jeikorodriguez/Desktop/curso python/vbrp_mara_marm.parquet\")\n",
    "# dataframes_dict['paises']=spark.read.parquet(\"/Users/jeikorodriguez/Desktop/curso python/T005T.parquet\")\n",
    "\n",
    "########################################################################################################################################\n",
    "\n",
    "dataframes_dict = {}\n",
    "dataframes_dict['metadata_de_facturas']=spark.read.parquet(\"/Users/tamara/Desktop/Principal/KRANIO/DESAFIO-PYTHON/dataset/bkpf_vbrk.parquet\")\n",
    "dataframes_dict['facturas_por_cliente']=spark.read.parquet(\"/Users/tamara/Desktop/Principal/KRANIO/DESAFIO-PYTHON/dataset/vbpa_kna1.parquet\")\n",
    "dataframes_dict['materiales']=spark.read.parquet(\"/Users/tamara/Desktop/Principal/KRANIO/DESAFIO-PYTHON/dataset/vbrp_mara_marm.parquet\")\n",
    "dataframes_dict['paises']=spark.read.parquet(\"/Users/tamara/Desktop/Principal/KRANIO/DESAFIO-PYTHON/dataset/T005T.parquet\")\n",
    "\n",
    "########################################################################################################################################"
   ]
  },
  {
   "cell_type": "code",
   "execution_count": 36,
   "metadata": {},
   "outputs": [
    {
     "data": {
      "text/html": [
       "<table border='1'>\n",
       "<tr><th>Pais</th></tr>\n",
       "<tr><td>FI</td></tr>\n",
       "<tr><td>NL</td></tr>\n",
       "<tr><td>MX</td></tr>\n",
       "<tr><td>CN</td></tr>\n",
       "<tr><td>SV</td></tr>\n",
       "<tr><td>null</td></tr>\n",
       "<tr><td>PT</td></tr>\n",
       "<tr><td>TW</td></tr>\n",
       "<tr><td>CL</td></tr>\n",
       "<tr><td>AU</td></tr>\n",
       "<tr><td>SA</td></tr>\n",
       "<tr><td>GB</td></tr>\n",
       "<tr><td>GT</td></tr>\n",
       "<tr><td>DE</td></tr>\n",
       "<tr><td>ES</td></tr>\n",
       "<tr><td>EC</td></tr>\n",
       "<tr><td>CR</td></tr>\n",
       "<tr><td>KR</td></tr>\n",
       "<tr><td>US</td></tr>\n",
       "<tr><td>AE</td></tr>\n",
       "</table>\n",
       "only showing top 20 rows\n"
      ],
      "text/plain": [
       "+----+\n",
       "|Pais|\n",
       "+----+\n",
       "|  FI|\n",
       "|  NL|\n",
       "|  MX|\n",
       "|  CN|\n",
       "|  SV|\n",
       "|null|\n",
       "|  PT|\n",
       "|  TW|\n",
       "|  CL|\n",
       "|  AU|\n",
       "|  SA|\n",
       "|  GB|\n",
       "|  GT|\n",
       "|  DE|\n",
       "|  ES|\n",
       "|  EC|\n",
       "|  CR|\n",
       "|  KR|\n",
       "|  US|\n",
       "|  AE|\n",
       "+----+\n",
       "only showing top 20 rows"
      ]
     },
     "execution_count": 36,
     "metadata": {},
     "output_type": "execute_result"
    }
   ],
   "source": [
    "dataframes_dict['facturas_por_cliente'].select('Pais').distinct()"
   ]
  },
  {
   "cell_type": "markdown",
   "metadata": {},
   "source": [
    "#### Filtros por Mandante = 400"
   ]
  },
  {
   "cell_type": "code",
   "execution_count": 5,
   "metadata": {},
   "outputs": [],
   "source": [
    "df_metadata_facturas = dataframes_dict['metadata_de_facturas'].where(col('Mandante') == '400')"
   ]
  },
  {
   "cell_type": "code",
   "execution_count": 6,
   "metadata": {},
   "outputs": [],
   "source": [
    "df_facturas_por_cliente = dataframes_dict['facturas_por_cliente'].where(col('Mandante') == '400')"
   ]
  },
  {
   "cell_type": "code",
   "execution_count": 7,
   "metadata": {},
   "outputs": [],
   "source": [
    "df_materiales = dataframes_dict['materiales'].where(col('Mandante') == '400')"
   ]
  },
  {
   "cell_type": "code",
   "execution_count": 8,
   "metadata": {},
   "outputs": [],
   "source": [
    "df_paises = dataframes_dict['paises'].where(col('Mandante') == '400').where(col('Idioma') == 'S')\n",
    "# Ocupar sólo \"S\" Y info mandante 400"
   ]
  },
  {
   "cell_type": "markdown",
   "metadata": {},
   "source": [
    "#### SELECT DE TABLAS"
   ]
  },
  {
   "cell_type": "code",
   "execution_count": 9,
   "metadata": {},
   "outputs": [],
   "source": [
    "df_metadata_facturas = df_metadata_facturas.select('Mandante', 'Factura', 'Clase_factura',).where(col('Factura').isNotNull())\n"
   ]
  },
  {
   "cell_type": "code",
   "execution_count": 10,
   "metadata": {},
   "outputs": [],
   "source": [
    "df_facturas_por_cliente = df_facturas_por_cliente.select('Mandante','Factura','Posicion_de_Factura','Pais', 'Cliente_Solicitante', 'Cliente_Destinatario_de_Mercancia')"
   ]
  },
  {
   "cell_type": "code",
   "execution_count": 11,
   "metadata": {},
   "outputs": [],
   "source": [
    "df_materiales = df_materiales.groupBy('Factura', 'Material', 'Unidad_de_medida_Volumen_Destino', 'Pais').agg(sum(col('Volumen')).alias('Volumen'))"
   ]
  },
  {
   "cell_type": "code",
   "execution_count": 12,
   "metadata": {},
   "outputs": [],
   "source": [
    "df_paises = df_paises.select('Idioma', 'Pais' , 'Pais_descr')"
   ]
  },
  {
   "cell_type": "markdown",
   "metadata": {},
   "source": [
    "#### Join tablas"
   ]
  },
  {
   "cell_type": "code",
   "execution_count": 14,
   "metadata": {},
   "outputs": [],
   "source": [
    "def cliente_clase_factura(dataframes_dict):\n",
    "    df_result = df_facturas_por_cliente.join(df_metadata_facturas, 'Factura', 'left').drop(df_metadata_facturas.Mandante)\n",
    "\n",
    "    return {'add_cliente_clase_factura': df_result}\n",
    "\n",
    "def materiales_factura_y_clase_factura(dataframes_dict):\n",
    "    df_clase_factura = dataframes_dict['add_cliente_clase_factura']\n",
    "    df_result = df_materiales.join(df_clase_factura, 'Factura', 'left').drop(df_clase_factura.Pais).drop(df_clase_factura.Mandante)\n",
    "\n",
    "    return {'add_materiales_factura_y_clase_factura': df_result}\n",
    "\n",
    "def paises_descriptivos(dataframes_dict):\n",
    "    df_clase_factura = dataframes_dict['add_materiales_factura_y_clase_factura']\n",
    "    df_paises_desc = df_clase_factura.join(df_paises, 'Pais', 'left')\n",
    "\n",
    "    return {'add_mat_factura_y_clase_factura': df_paises_desc}\n",
    "\n"
   ]
  },
  {
   "cell_type": "code",
   "execution_count": 27,
   "metadata": {},
   "outputs": [
    {
     "data": {
      "text/html": [
       "<table border='1'>\n",
       "<tr><th>Pais</th></tr>\n",
       "<tr><td>CL</td></tr>\n",
       "</table>\n"
      ],
      "text/plain": [
       "+----+\n",
       "|Pais|\n",
       "+----+\n",
       "|  CL|\n",
       "+----+"
      ]
     },
     "execution_count": 27,
     "metadata": {},
     "output_type": "execute_result"
    }
   ],
   "source": [
    "dataframes_dict['add_mat_factura_y_clase_factura'].select('Pais').distinct()"
   ]
  },
  {
   "cell_type": "code",
   "execution_count": 16,
   "metadata": {},
   "outputs": [],
   "source": [
    "def gen_srv_desafio_python(dataframes_dict):\n",
    "\n",
    "    functions_list = [\n",
    "        cliente_clase_factura,\n",
    "        materiales_factura_y_clase_factura,\n",
    "        paises_descriptivos,\n",
    "        # Otras transformaciones\n",
    "    ]\n",
    "\n",
    "    for function in functions_list:\n",
    "        print(function)\n",
    "        result_element = function(dataframes_dict)\n",
    "        dataframes_dict.update(result_element)\n",
    "\n",
    "    return dataframes_dict['add_mat_factura_y_clase_factura'] # Modificar al último dataframe retornado"
   ]
  },
  {
   "cell_type": "code",
   "execution_count": 17,
   "metadata": {},
   "outputs": [
    {
     "name": "stdout",
     "output_type": "stream",
     "text": [
      "<function cliente_clase_factura at 0x10c3aa290>\n",
      "<function materiales_factura_y_clase_factura at 0x107f23f40>\n",
      "<function paises_descriptivos at 0x107f23a30>\n"
     ]
    }
   ],
   "source": [
    "test = gen_srv_desafio_python(dataframes_dict)"
   ]
  },
  {
   "cell_type": "code",
   "execution_count": 19,
   "metadata": {},
   "outputs": [
    {
     "data": {
      "text/plain": [
       "80708"
      ]
     },
     "execution_count": 19,
     "metadata": {},
     "output_type": "execute_result"
    }
   ],
   "source": [
    "dataframes_dict['materiales'].count()"
   ]
  }
 ],
 "metadata": {
  "kernelspec": {
   "display_name": "Python 3.10.6 64-bit",
   "language": "python",
   "name": "python3"
  },
  "language_info": {
   "codemirror_mode": {
    "name": "ipython",
    "version": 3
   },
   "file_extension": ".py",
   "mimetype": "text/x-python",
   "name": "python",
   "nbconvert_exporter": "python",
   "pygments_lexer": "ipython3",
   "version": "3.10.6"
  },
  "orig_nbformat": 4,
  "vscode": {
   "interpreter": {
    "hash": "b0fa6594d8f4cbf19f97940f81e996739fb7646882a419484c72d19e05852a7e"
   }
  }
 },
 "nbformat": 4,
 "nbformat_minor": 2
}
