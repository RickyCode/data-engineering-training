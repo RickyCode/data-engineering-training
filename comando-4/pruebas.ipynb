{
 "cells": [
  {
   "cell_type": "code",
   "execution_count": 2,
   "metadata": {},
   "outputs": [],
   "source": [
    "import pyspark\n",
    "from pyspark.sql import SparkSession\n",
    "from pyspark.sql.functions import *\n",
    "from pyspark.sql.window import *\n",
    "from pyspark.sql.types import *\n"
   ]
  },
  {
   "cell_type": "code",
   "execution_count": 3,
   "metadata": {},
   "outputs": [],
   "source": [
    "spark=SparkSession.builder.appName('desafio-python').getOrCreate()"
   ]
  },
  {
   "cell_type": "code",
   "execution_count": 4,
   "metadata": {},
   "outputs": [
    {
     "data": {
      "text/html": [
       "\n",
       "<style>\n",
       "    .output-plaintext, .output-stream, .output {\n",
       "        white-space: pre !important;\n",
       "    }\n",
       "    pre { white-space: pre !important; }\n",
       "</style>\n"
      ],
      "text/plain": [
       "<IPython.core.display.HTML object>"
      ]
     },
     "execution_count": 4,
     "metadata": {},
     "output_type": "execute_result"
    }
   ],
   "source": [
    "from IPython.core.display import HTML\n",
    "HTML(r\"\"\"\n",
    "<style>\n",
    "    .output-plaintext, .output-stream, .output {\n",
    "        white-space: pre !important;\n",
    "    }\n",
    "    pre { white-space: pre !important; }\n",
    "</style>\n",
    "\"\"\")"
   ]
  },
  {
   "cell_type": "code",
   "execution_count": 5,
   "metadata": {},
   "outputs": [],
   "source": [
    "spark.conf.set('spark.sql.repl.eagerEval.enabled', True)\n",
    "spark.conf.set('spark.sql.repl.eagerEval.truncate', 30)\n",
    "spark.conf.set('spark.sql.repl.eagerEval.maxNumRows', 5)"
   ]
  },
  {
   "cell_type": "code",
   "execution_count": 6,
   "metadata": {},
   "outputs": [],
   "source": [
    "dataframes_dict = {}\n",
    "dataframes_dict['metadata_de_facturas']=spark.read.parquet(\"C:/Users/Lenovo/Desktop/comando 4/dataset/bkpf_vbrk.parquet\")\n",
    "dataframes_dict['facturas_por_cliente']=spark.read.parquet(\"C:/Users/Lenovo/Desktop/comando 4/dataset/vbpa_kna1.parquet\")\n",
    "dataframes_dict['materiales']=spark.read.parquet(\"C:/Users/Lenovo/Desktop/comando 4/dataset/vbrp_mara_marm.parquet\")\n",
    "dataframes_dict['paises']=spark.read.parquet(\"C:/Users/Lenovo/Desktop/comando 4/dataset/T005T.parquet\")\n"
   ]
  },
  {
   "cell_type": "code",
   "execution_count": 8,
   "metadata": {},
   "outputs": [
    {
     "name": "stdout",
     "output_type": "stream",
     "text": [
      "+--------+--------+-----------+---------+---------------+---------------+------------+------------+-------------+-------------+--------------+------------+------+------------+----------+-------------+------------------+----------+------------+----------------+----------------+--------------+---------------+---------------+-------------+-----------+------+-------------+---------------+---------------+---------------+-------------+------+------------------+-------+-------------+--------------+-------------+---------------+-------------+--------------------+-------------+-------------+--------------+--------------+-------------+---------+-----------+-------------+-------------+-------------+--------------+---------+--------+--------------+-------------+------+---------------+----------+------------+----------+----+---------+-------+-----------+------------+--------------+---------------+-------+-------------+---------------+------+--------------+-----------+------+--------------+-----------+--------------+------------+----------+----------+--------------+--------------+-------------+--------------+----------+\n",
      "|Mandante|Sociedad|N_documento|Ejercicio|Clase_documento|Fecha_documento|Fecha_contab|Per_contable|Registrado_el|Modificado_el|Nombre_usuario|Referencia  |Moneda|Moneda_grupo|Status_doc|Op_referencia|Clv_referencia    |Entidad_CP|Moneda_local|Tipo_cotizacion1|Tipo_cotizacion2|Soc_desencaden|T_C_para_imptos|Motiv_anulacion|Num_de_tienda|Ctd_paginas|Ledger|Grupo_ledgers|FechDeclImpuest|Contab_dividida|Tipo_cotizacion|Tipo_de_orden|Motivo|Codigo_transaccion|Factura|Clase_factura|Organiz_ventas|Canal_distrib|Esquema_calculo|Condicion_doc|Condicion_expedicion|Fecha_factura|Grupo_precios|Grupo_clientes|Zona_de_ventas|Lista_precios|Incoterms|Incoterms_2|Status_contab|Camb_p_contab|Dias_val_adic|Fecha_de_valor|Cond_pago|Via_pago|Gpo_imputacion|Pais_receptor|Region|Cl_Fiscal_1_Clt|Valor_neto|Crit_agrupam|Creado_por|Hora|Creado_el|Pagador|Solicitante|Moneda_estad|N_com_exterior|DocFacturAnulad|Acuerdo|Cl_lista_fact|Fec_fact_lst_fc|Sector|Area_ctrl_cdto|Cta_credito|Cambio|JerTip_DetPrec|N_de_pedido|PSdeterm_impto|Origen_N_I_F|Pais_N_I_F|Asignacion|Impte_impuesto|Sistema_logico|Fe_conversion|TpCambCartCred|Refer_pago|\n",
      "+--------+--------+-----------+---------+---------------+---------------+------------+------------+-------------+-------------+--------------+------------+------+------------+----------+-------------+------------------+----------+------------+----------------+----------------+--------------+---------------+---------------+-------------+-----------+------+-------------+---------------+---------------+---------------+-------------+------+------------------+-------+-------------+--------------+-------------+---------------+-------------+--------------------+-------------+-------------+--------------+--------------+-------------+---------+-----------+-------------+-------------+-------------+--------------+---------+--------+--------------+-------------+------+---------------+----------+------------+----------+----+---------+-------+-----------+------------+--------------+---------------+-------+-------------+---------------+------+--------------+-----------+------+--------------+-----------+--------------+------------+----------+----------+--------------+--------------+-------------+--------------+----------+\n",
      "|400     |127     |0005047168 |2020     |KB             |null           |null        |12          |2020.12.01   |2020.12.07   |OPERACIONES   |41279   1   |CLP   |null        |null      |CTE          |41279   1 1       |null      |CLP         |M               |M               |null          |0.00000        |null           |null         |0          |null  |null         |1900.01.01     |null           |M              |null         |null  |null              |null   |null         |null          |null         |null           |null         |null                |null         |null         |null          |null          |null         |null     |null       |null         |null         |null         |null          |null     |null    |null          |null         |null  |null           |null      |null        |null      |null|null     |null   |null       |null        |null          |null           |null   |null         |null           |null  |null          |null       |null  |null          |null       |null          |null        |null      |null      |null          |null          |null         |null          |null      |\n",
      "|400     |127     |0005047181 |2020     |HR             |null           |null        |12          |2020.12.01   |1900.01.01   |KTAPIA        |FINI        |CLP   |null        |null      |BKPF         |0005047181127 2020|null      |CLP         |M               |M               |null          |0.00000        |null           |null         |0          |null  |null         |1900.01.01     |null           |M              |null         |null  |FB01              |null   |null         |null          |null         |null           |null         |null                |null         |null         |null          |null          |null         |null     |null       |null         |null         |null         |null          |null     |null    |null          |null         |null  |null           |null      |null        |null      |null|null     |null   |null       |null        |null          |null           |null   |null         |null           |null  |null          |null       |null  |null          |null       |null          |null        |null      |null      |null          |null          |null         |null          |null      |\n",
      "|400     |127     |0005047182 |2020     |HR             |null           |null        |12          |2020.12.01   |1900.01.01   |KTAPIA        |FINI        |CLP   |null        |null      |BKPF         |0005047182127 2020|null      |CLP         |M               |M               |null          |0.00000        |null           |null         |0          |null  |null         |1900.01.01     |null           |M              |null         |null  |FB01              |null   |null         |null          |null         |null           |null         |null                |null         |null         |null          |null          |null         |null     |null       |null         |null         |null         |null          |null     |null    |null          |null         |null  |null           |null      |null        |null      |null|null     |null   |null       |null        |null          |null           |null   |null         |null           |null  |null          |null       |null  |null          |null       |null          |null        |null      |null      |null          |null          |null         |null          |null      |\n",
      "|400     |127     |0005047202 |2020     |HR             |null           |null        |12          |2020.12.01   |1900.01.01   |KTAPIA        |FINI        |CLP   |null        |null      |BKPF         |0005047202127 2020|null      |CLP         |M               |M               |null          |0.00000        |null           |null         |0          |null  |null         |1900.01.01     |null           |M              |null         |null  |FB01              |null   |null         |null          |null         |null           |null         |null                |null         |null         |null          |null          |null         |null     |null       |null         |null         |null         |null          |null     |null    |null          |null         |null  |null           |null      |null        |null      |null|null     |null   |null       |null        |null          |null           |null   |null         |null           |null  |null          |null       |null  |null          |null       |null          |null        |null      |null      |null          |null          |null         |null          |null      |\n",
      "|400     |127     |0005047335 |2020     |KA             |null           |null        |12          |2020.12.01   |1900.01.01   |AREBOLLEDO    |3970823468-4|CLP   |null        |null      |BKPFF        |0005047335127 2020|null      |CLP         |M               |M               |null          |0.00000        |null           |null         |0          |null  |null         |1900.01.01     |null           |M              |null         |null  |ZFI1165           |null   |null         |null          |null         |null           |null         |null                |null         |null         |null          |null          |null         |null     |null       |null         |null         |null         |null          |null     |null    |null          |null         |null  |null           |null      |null        |null      |null|null     |null   |null       |null        |null          |null           |null   |null         |null           |null  |null          |null       |null  |null          |null       |null          |null        |null      |null      |null          |null          |null         |null          |null      |\n",
      "+--------+--------+-----------+---------+---------------+---------------+------------+------------+-------------+-------------+--------------+------------+------+------------+----------+-------------+------------------+----------+------------+----------------+----------------+--------------+---------------+---------------+-------------+-----------+------+-------------+---------------+---------------+---------------+-------------+------+------------------+-------+-------------+--------------+-------------+---------------+-------------+--------------------+-------------+-------------+--------------+--------------+-------------+---------+-----------+-------------+-------------+-------------+--------------+---------+--------+--------------+-------------+------+---------------+----------+------------+----------+----+---------+-------+-----------+------------+--------------+---------------+-------+-------------+---------------+------+--------------+-----------+------+--------------+-----------+--------------+------------+----------+----------+--------------+--------------+-------------+--------------+----------+\n",
      "only showing top 5 rows\n",
      "\n"
     ]
    }
   ],
   "source": [
    "dataframes_dict['metadata_de_facturas'].show(5,False)"
   ]
  }
 ],
 "metadata": {
  "kernelspec": {
   "display_name": "Python 3.10.6 64-bit (windows store)",
   "language": "python",
   "name": "python3"
  },
  "language_info": {
   "codemirror_mode": {
    "name": "ipython",
    "version": 3
   },
   "file_extension": ".py",
   "mimetype": "text/x-python",
   "name": "python",
   "nbconvert_exporter": "python",
   "pygments_lexer": "ipython3",
   "version": "3.10.6"
  },
  "orig_nbformat": 4,
  "vscode": {
   "interpreter": {
    "hash": "854ad7b50770bedaf0cab730b1aaabb765566ea98036f134b639e260bede141e"
   }
  }
 },
 "nbformat": 4,
 "nbformat_minor": 2
}
