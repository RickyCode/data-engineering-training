{
 "cells": [
  {
   "cell_type": "code",
   "execution_count": 1,
   "metadata": {},
   "outputs": [],
   "source": [
    "import pyspark\n",
    "from pyspark.sql import SparkSession\n",
    "from pyspark.sql.functions import *\n",
    "from pyspark.sql.window import *\n",
    "from pyspark.sql.types import *\n"
   ]
  },
  {
   "cell_type": "code",
   "execution_count": 2,
   "metadata": {},
   "outputs": [
    {
     "name": "stderr",
     "output_type": "stream",
     "text": [
      "Setting default log level to \"WARN\".\n",
      "To adjust logging level use sc.setLogLevel(newLevel). For SparkR, use setLogLevel(newLevel).\n"
     ]
    },
    {
     "name": "stdout",
     "output_type": "stream",
     "text": [
      "22/08/29 18:26:34 WARN NativeCodeLoader: Unable to load native-hadoop library for your platform... using builtin-java classes where applicable\n"
     ]
    }
   ],
   "source": [
    "spark=SparkSession.builder.appName('desafio-python').getOrCreate()"
   ]
  },
  {
   "cell_type": "code",
   "execution_count": 3,
   "metadata": {},
   "outputs": [
    {
     "data": {
      "text/html": [
       "\n",
       "<style>\n",
       "    .output-plaintext, .output-stream, .output {\n",
       "        white-space: pre !important;\n",
       "    }\n",
       "    pre { white-space: pre !important; }\n",
       "</style>\n"
      ],
      "text/plain": [
       "<IPython.core.display.HTML object>"
      ]
     },
     "execution_count": 3,
     "metadata": {},
     "output_type": "execute_result"
    }
   ],
   "source": [
    "from IPython.core.display import HTML\n",
    "HTML(r\"\"\"\n",
    "<style>\n",
    "    .output-plaintext, .output-stream, .output {\n",
    "        white-space: pre !important;\n",
    "    }\n",
    "    pre { white-space: pre !important; }\n",
    "</style>\n",
    "\"\"\")"
   ]
  },
  {
   "cell_type": "code",
   "execution_count": 4,
   "metadata": {},
   "outputs": [],
   "source": [
    "spark.conf.set('spark.sql.repl.eagerEval.enabled', True)\n",
    "spark.conf.set('spark.sql.repl.eagerEval.truncate', 30)\n",
    "spark.conf.set('spark.sql.repl.eagerEval.maxNumRows', 5)"
   ]
  },
  {
   "cell_type": "code",
   "execution_count": 5,
   "metadata": {},
   "outputs": [
    {
     "name": "stderr",
     "output_type": "stream",
     "text": [
      "                                                                                \r"
     ]
    }
   ],
   "source": [
    "# dataframes_dict = {}\n",
    "# dataframes_dict['metadata_de_facturas']=spark.read.parquet(\"/Users/jeikorodriguez/Desktop/curso python/bkpf_vbrk.parquet\")\n",
    "# dataframes_dict['facturas_por_cliente']=spark.read.parquet(\"/Users/jeikorodriguez/Desktop/curso python/vbpa_kna1.parquet\")\n",
    "# dataframes_dict['materiales']=spark.read.parquet(\"/Users/jeikorodriguez/Desktop/curso python/vbrp_mara_marm.parquet\")\n",
    "# dataframes_dict['paises']=spark.read.parquet(\"/Users/jeikorodriguez/Desktop/curso python/T005T.parquet\")\n",
    "\n",
    "########################################################################################################################################\n",
    "\n",
    "dataframes_dict = {}\n",
    "dataframes_dict['metadata_de_facturas']=spark.read.parquet(\"/Users/tamara/Desktop/Principal/KRANIO/DESAFIO-PYTHON/dataset/bkpf_vbrk.parquet\")\n",
    "dataframes_dict['facturas_por_cliente']=spark.read.parquet(\"/Users/tamara/Desktop/Principal/KRANIO/DESAFIO-PYTHON/dataset/vbpa_kna1.parquet\")\n",
    "dataframes_dict['materiales']=spark.read.parquet(\"/Users/tamara/Desktop/Principal/KRANIO/DESAFIO-PYTHON/dataset/vbrp_mara_marm.parquet\")\n",
    "dataframes_dict['paises']=spark.read.parquet(\"/Users/tamara/Desktop/Principal/KRANIO/DESAFIO-PYTHON/dataset/T005T.parquet\")"
   ]
  },
  {
   "cell_type": "code",
   "execution_count": 6,
   "metadata": {},
   "outputs": [
    {
     "name": "stdout",
     "output_type": "stream",
     "text": [
      "22/08/29 18:26:45 WARN package: Truncated the string representation of a plan since it was too large. This behavior can be adjusted by setting 'spark.sql.debug.maxToStringFields'.\n"
     ]
    },
    {
     "name": "stderr",
     "output_type": "stream",
     "text": [
      "[Stage 4:>                                                          (0 + 1) / 1]\r"
     ]
    },
    {
     "name": "stdout",
     "output_type": "stream",
     "text": [
      "+------------------+--------+----------+--------+------------+-------------+--------+-------+-------------+--------+---------+----------+--------+---------+----------+---------------+---------------+---------+---------------------------------------+---------------+----------+---------------+-----------------+------------+------+------+----+----------+-------------+------------+------------+-------------+--------------+-------------+--------------+-------+-------------+-------+---------------+--------+---------------+---------------------------+---------------+---------------+-------------+-------------+---------+----------+------------+--------------+-------------+-----------+-------------+----+--------------+------------+------------+---------+-------------+--------------+--------------+----------+---------+--------------+---------------+-------------+--------------+-------------+-------------+--------------+--------+--------+-----+------+------+-------------+-------------+------------+------------------+------------------+------------+-----------+-------------+--------------+------------+----------+----------+-----------+--------------+----------+----------+-------------+---------------+--------------+---------------+---------------+--------------+-------------+---------------+--------------+---------+--------------+-------------+------------+--------------+-----------+--------------+------+-------------+-------------+-------------+------------+--------+-------------+-------+-----------+--------+---------------+-------------+------+---------------+--------------+---------------------------------+------------------------------------------+--------------------------------------------+--------------------------------+-----------------------------------------+-------------------------------------------+------------------+-----------------------+-----------------------+-----------------------+\n",
      "|Material          |Mandante|Factura   |Posicion|Posicion_sup|Ctd_facturada|UM_venta|UM_base|Ctd_necesaria|Division|Tp_cambio|Valor_neto|Causante|Posicion1|Doc_modelo|Posicion_modelo|Documento_venta|Posicion2|Denominacion                           |Material_precio|Lote      |Grupo_articulos|Jquia_productos  |Puesto_exped|Sector|Centro|Pais|Reg_ce_sum|Gr_materiales|Gr_imput_mat|Centro_coste|Grupo_rappels|Grupo_comision|Gr_vendedores|Oficina_ventas|Sector2|Cl_valoracion|Almacen|Costes_internos|CeBe    |Gr_materiales_1|Asociacion_posicion_volumen|Gr_materiales_2|Gr_materiales_3|Plazo_entrega|Fecha_entrega|Creado_el|Creado_por|Ultima_modif|Modificado_por|Stat_act_comp|Stat_actual|Tipo_material|Ramo|N_Material_ant|UM_de_pedido|Numero_hojas|Fabr_insp|Tamano_Dimens|Denom_estandar|CvValoresCompr|Peso_bruto|Peso_neto|Unidad_de_peso|Cond_almacenaje|Nivel_plf_nec|Gpo_transporte|N_sust_peligr|Cant_vales_EM|Codigo_EAN_UPC|Tipo_EAN|Longitud|Ancho|Altura|Unidad|CC_Net_Change|Peso_perm_emb|Volumen_perm|Toleranc_sobrepeso|Toler_exceso_volum|UMP_variable|Sujeto_lote|Capac_llenado|Factor_apilado|Grupo_mat_ME|Valido_de1|Validez_a |Co_producto|StatMatTodosCe|Valido_de2|Valido_de3|Clasif_fiscal|Perfil_catalogo|TmpoHastaCaduc|DurTotalConserv|%TmpoCaducAlmac|Contenido_neto|Ctd_base_comp|Contenido_bruto|Metodo_convers|Utiliz_UM|Viscos_elevada|A_granel_liqu|Log_lote_nec|Niv_fabr_mater|Ind_periodo|Gr_tp_pos_gral|Fijado|Cl_lista_surt|Fe_cad_Fe_exp|Capacidad_max|Tol_sobrecap|Long_max|Ancho_per_emb|Alt_max|Per_cuarent|ANP_Code|Gr_unidad_carga|Categ_estruct|Tp_tol|Grupo_de_cuenta|Agrupacion_DSD|Unidad_de_medida_Volumen_Original|Numerador_para_conversion_Volumen_Original|Denominador_para_conversion_Volumen_Original|Unidad_de_medida_Volumen_Destino|Numerador_para_conversion_Volumen_Destino|Denominador_para_conversion_Volumen_Destino|Volumen           |Jquia_productos_nivel_1|Jquia_productos_nivel_2|Jquia_productos_nivel_3|\n",
      "+------------------+--------+----------+--------+------------+-------------+--------+-------+-------------+--------+---------+----------+--------+---------+----------+---------------+---------------+---------+---------------------------------------+---------------+----------+---------------+-----------------+------------+------+------+----+----------+-------------+------------+------------+-------------+--------------+-------------+--------------+-------+-------------+-------+---------------+--------+---------------+---------------------------+---------------+---------------+-------------+-------------+---------+----------+------------+--------------+-------------+-----------+-------------+----+--------------+------------+------------+---------+-------------+--------------+--------------+----------+---------+--------------+---------------+-------------+--------------+-------------+-------------+--------------+--------+--------+-----+------+------+-------------+-------------+------------+------------------+------------------+------------+-----------+-------------+--------------+------------+----------+----------+-----------+--------------+----------+----------+-------------+---------------+--------------+---------------+---------------+--------------+-------------+---------------+--------------+---------+--------------+-------------+------------+--------------+-----------+--------------+------+-------------+-------------+-------------+------------+--------+-------------+-------+-----------+--------+---------------+-------------+------+---------------+--------------+---------------------------------+------------------------------------------+--------------------------------------------+--------------------------------+-----------------------------------------+-------------------------------------------+------------------+-----------------------+-----------------------+-----------------------+\n",
      "|000000000010010108|400     |0150190076|10      |0           |5600.0       |ST      |ST     |5600.000     |null    |1.00000  |1904.0    |null    |0        |0073045652|10             |0622061895     |10       |CHATARRA METALICA                      |null           |null      |5000           |ENSERARMCJOTRAMAQ|null        |MS    |3207  |CL  |09        |null         |01          |null        |null         |null          |900          |9000          |00     |null         |null   |0.00           |1CL27331|null           |0                          |null           |null           |null         |null         |null     |PROYECTO01|2022.04.28  |FCANADAS      |KVCEXBDLZ    |KVCEBDL    |ZA60         |A   |null          |null        |0           |null     |null         |null          |CL01          |1.0       |1.0      |KG            |null           |null         |null          |null         |0.000        |null          |null    |0.000   |0.000|0.000 |null  |null         |0.000        |0.000       |0.0               |0.0               |null        |null       |0            |0             |null        |1900.01.01|1900.01.01|null       |null          |1900.01.01|1900.01.01|null         |null           |0             |0              |0              |0.000         |0            |0.000          |null          |null     |null          |null         |null        |0             |null       |LEIS          |null  |null         |B            |0.000        |0.0         |0.000   |0.000        |0.000  |0          |0       |null           |null         |null  |null           |null          |ST                               |1.0                                       |1.0                                         |M3                              |1.0                                      |1.0                                        |5600.0            |ENSER                  |ARMCJ                  |OTRAMAQ                |\n",
      "|M100PLY000122     |400     |0150113050|60      |0           |0.0          |ST      |ST     |1944.000     |1103    |1.00000  |0.0       |null    |0        |0072991499|20             |0622021433     |60       |PLY PIN BC DECO EXT 2440X1220X9 3P RAN |null           |null      |5000           |YMPCLGRDOBRAN_S2S|CM53        |M3    |3207  |CL  |09        |35           |01          |null        |null         |null          |320          |3201          |00     |null         |001    |0.00           |1CL27331|YP4            |60                         |YP1            |YP2            |null         |null         |null     |CARGASINI |2022.05.09  |MACUNAF       |KELVBGDAPXCZ |KELVBGDAPC |ZFE1         |A   |null          |null        |0           |9230009  |null         |260           |CL06          |13.53     |13.53    |KG            |M1             |0            |0001          |null         |0.000        |null          |null    |0.000   |0.000|0.000 |null  |null         |0.000        |0.000       |0.0               |0.0               |1           |X          |0            |0             |null        |1900.01.01|1900.01.01|X          |null          |1900.01.01|1900.01.01|null         |null           |0             |0              |0              |0.000         |0            |0.000          |null          |null     |null          |null         |null        |0             |null       |NORM          |null  |null         |B            |0.000        |0.0         |0.000   |0.000        |0.000  |0          |0       |null           |null         |null  |null           |null          |ST                               |1.0                                       |1.0                                         |M3                              |6756.0                                   |181.0                                      |0.0               |YMPCL                  |GRDOB                  |RAN_S2S                |\n",
      "|M100PLY000129     |400     |0150113050|10      |0           |0.0          |ST      |ST     |160.000      |1103    |1.00000  |0.0       |null    |0        |0072991499|10             |0622021433     |10       |PLY PIN BC DECO EXT 2440X1220X12 5P RAN|null           |null      |5000           |YMPCLGRDOBRAN_S2S|CM53        |M3    |3207  |CL  |09        |35           |01          |null        |null         |null          |320          |3201          |00     |null         |001    |0.00           |1CL27331|YP4            |10                         |YP1            |YP3            |null         |null         |null     |CARGASINI |2022.05.09  |MACUNAF       |KELVBGDAPXCZ |KELVBGDAPC |ZFE1         |A   |null          |null        |0           |9230012  |null         |260           |CL06          |18.039    |18.039   |KG            |M1             |0            |0001          |null         |0.000        |null          |null    |0.000   |0.000|0.000 |null  |null         |0.000        |0.000       |0.0               |0.0               |1           |X          |0            |0             |null        |1900.01.01|1900.01.01|X          |null          |1900.01.01|1900.01.01|null         |null           |0             |0              |0              |0.000         |0            |0.000          |null          |null     |null          |null         |null        |0             |null       |NORM          |null  |null         |B            |0.000        |0.0         |0.000   |0.000        |0.000  |0          |0       |null           |null         |null  |null           |null          |ST                               |1.0                                       |1.0                                         |M3                              |92773.0                                  |3314.0                                     |0.0               |YMPCL                  |GRDOB                  |RAN_S2S                |\n",
      "|M100PLY000122     |400     |0150113050|61      |0           |108.0        |ST      |ST     |1944.000     |1103    |1.00000  |11166.12  |null    |0        |0072991499|900002         |0622021433     |60       |PLY PIN BC DECO EXT 2440X1220X9 3P RAN |null           |1000035435|5000           |YMPCLGRDOBRAN_S2S|CM53        |M3    |3207  |CL  |09        |35           |01          |null        |null         |null          |320          |3201          |00     |null         |001    |5638.68        |1CL27331|YP4            |60                         |YP1            |YP2            |null         |null         |null     |CARGASINI |2022.05.09  |MACUNAF       |KELVBGDAPXCZ |KELVBGDAPC |ZFE1         |A   |null          |null        |0           |9230009  |null         |260           |CL06          |13.53     |13.53    |KG            |M1             |0            |0001          |null         |0.000        |null          |null    |0.000   |0.000|0.000 |null  |null         |0.000        |0.000       |0.0               |0.0               |1           |X          |0            |0             |null        |1900.01.01|1900.01.01|X          |null          |1900.01.01|1900.01.01|null         |null           |0             |0              |0              |0.000         |0            |0.000          |null          |null     |null          |null         |null        |0             |null       |NORM          |null  |null         |B            |0.000        |0.0         |0.000   |0.000        |0.000  |0          |0       |null           |null         |null  |null           |null          |ST                               |1.0                                       |1.0                                         |M3                              |6756.0                                   |181.0                                      |2.8934280639431615|YMPCL                  |GRDOB                  |RAN_S2S                |\n",
      "|M100PLY000122     |400     |0150113050|62      |0           |108.0        |ST      |ST     |1944.000     |1103    |1.00000  |11166.12  |null    |0        |0072991499|900003         |0622021433     |60       |PLY PIN BC DECO EXT 2440X1220X9 3P RAN |null           |1000035436|5000           |YMPCLGRDOBRAN_S2S|CM53        |M3    |3207  |CL  |09        |35           |01          |null        |null         |null          |320          |3201          |00     |null         |001    |5638.68        |1CL27331|YP4            |60                         |YP1            |YP2            |null         |null         |null     |CARGASINI |2022.05.09  |MACUNAF       |KELVBGDAPXCZ |KELVBGDAPC |ZFE1         |A   |null          |null        |0           |9230009  |null         |260           |CL06          |13.53     |13.53    |KG            |M1             |0            |0001          |null         |0.000        |null          |null    |0.000   |0.000|0.000 |null  |null         |0.000        |0.000       |0.0               |0.0               |1           |X          |0            |0             |null        |1900.01.01|1900.01.01|X          |null          |1900.01.01|1900.01.01|null         |null           |0             |0              |0              |0.000         |0            |0.000          |null          |null     |null          |null         |null        |0             |null       |NORM          |null  |null         |B            |0.000        |0.0         |0.000   |0.000        |0.000  |0          |0       |null           |null         |null  |null           |null          |ST                               |1.0                                       |1.0                                         |M3                              |6756.0                                   |181.0                                      |2.8934280639431615|YMPCL                  |GRDOB                  |RAN_S2S                |\n",
      "|M100PLY000122     |400     |0150113050|63      |0           |108.0        |ST      |ST     |1944.000     |1103    |1.00000  |11166.12  |null    |0        |0072991499|900004         |0622021433     |60       |PLY PIN BC DECO EXT 2440X1220X9 3P RAN |null           |1000035437|5000           |YMPCLGRDOBRAN_S2S|CM53        |M3    |3207  |CL  |09        |35           |01          |null        |null         |null          |320          |3201          |00     |null         |001    |5638.68        |1CL27331|YP4            |60                         |YP1            |YP2            |null         |null         |null     |CARGASINI |2022.05.09  |MACUNAF       |KELVBGDAPXCZ |KELVBGDAPC |ZFE1         |A   |null          |null        |0           |9230009  |null         |260           |CL06          |13.53     |13.53    |KG            |M1             |0            |0001          |null         |0.000        |null          |null    |0.000   |0.000|0.000 |null  |null         |0.000        |0.000       |0.0               |0.0               |1           |X          |0            |0             |null        |1900.01.01|1900.01.01|X          |null          |1900.01.01|1900.01.01|null         |null           |0             |0              |0              |0.000         |0            |0.000          |null          |null     |null          |null         |null        |0             |null       |NORM          |null  |null         |B            |0.000        |0.0         |0.000   |0.000        |0.000  |0          |0       |null           |null         |null  |null           |null          |ST                               |1.0                                       |1.0                                         |M3                              |6756.0                                   |181.0                                      |2.8934280639431615|YMPCL                  |GRDOB                  |RAN_S2S                |\n",
      "|M100PLY000122     |400     |0150113050|64      |0           |108.0        |ST      |ST     |1944.000     |1103    |1.00000  |11166.12  |null    |0        |0072991499|900005         |0622021433     |60       |PLY PIN BC DECO EXT 2440X1220X9 3P RAN |null           |1000035450|5000           |YMPCLGRDOBRAN_S2S|CM53        |M3    |3207  |CL  |09        |35           |01          |null        |null         |null          |320          |3201          |00     |null         |001    |5638.68        |1CL27331|YP4            |60                         |YP1            |YP2            |null         |null         |null     |CARGASINI |2022.05.09  |MACUNAF       |KELVBGDAPXCZ |KELVBGDAPC |ZFE1         |A   |null          |null        |0           |9230009  |null         |260           |CL06          |13.53     |13.53    |KG            |M1             |0            |0001          |null         |0.000        |null          |null    |0.000   |0.000|0.000 |null  |null         |0.000        |0.000       |0.0               |0.0               |1           |X          |0            |0             |null        |1900.01.01|1900.01.01|X          |null          |1900.01.01|1900.01.01|null         |null           |0             |0              |0              |0.000         |0            |0.000          |null          |null     |null          |null         |null        |0             |null       |NORM          |null  |null         |B            |0.000        |0.0         |0.000   |0.000        |0.000  |0          |0       |null           |null         |null  |null           |null          |ST                               |1.0                                       |1.0                                         |M3                              |6756.0                                   |181.0                                      |2.8934280639431615|YMPCL                  |GRDOB                  |RAN_S2S                |\n",
      "|M100PLY000122     |400     |0150113050|65      |0           |108.0        |ST      |ST     |1944.000     |1103    |1.00000  |11166.12  |null    |0        |0072991499|900006         |0622021433     |60       |PLY PIN BC DECO EXT 2440X1220X9 3P RAN |null           |1000035451|5000           |YMPCLGRDOBRAN_S2S|CM53        |M3    |3207  |CL  |09        |35           |01          |null        |null         |null          |320          |3201          |00     |null         |001    |5638.68        |1CL27331|YP4            |60                         |YP1            |YP2            |null         |null         |null     |CARGASINI |2022.05.09  |MACUNAF       |KELVBGDAPXCZ |KELVBGDAPC |ZFE1         |A   |null          |null        |0           |9230009  |null         |260           |CL06          |13.53     |13.53    |KG            |M1             |0            |0001          |null         |0.000        |null          |null    |0.000   |0.000|0.000 |null  |null         |0.000        |0.000       |0.0               |0.0               |1           |X          |0            |0             |null        |1900.01.01|1900.01.01|X          |null          |1900.01.01|1900.01.01|null         |null           |0             |0              |0              |0.000         |0            |0.000          |null          |null     |null          |null         |null        |0             |null       |NORM          |null  |null         |B            |0.000        |0.0         |0.000   |0.000        |0.000  |0          |0       |null           |null         |null  |null           |null          |ST                               |1.0                                       |1.0                                         |M3                              |6756.0                                   |181.0                                      |2.8934280639431615|YMPCL                  |GRDOB                  |RAN_S2S                |\n",
      "|M100PLY000122     |400     |0150113050|66      |0           |108.0        |ST      |ST     |1944.000     |1103    |1.00000  |11166.12  |null    |0        |0072991499|900007         |0622021433     |60       |PLY PIN BC DECO EXT 2440X1220X9 3P RAN |null           |1000035452|5000           |YMPCLGRDOBRAN_S2S|CM53        |M3    |3207  |CL  |09        |35           |01          |null        |null         |null          |320          |3201          |00     |null         |001    |5638.68        |1CL27331|YP4            |60                         |YP1            |YP2            |null         |null         |null     |CARGASINI |2022.05.09  |MACUNAF       |KELVBGDAPXCZ |KELVBGDAPC |ZFE1         |A   |null          |null        |0           |9230009  |null         |260           |CL06          |13.53     |13.53    |KG            |M1             |0            |0001          |null         |0.000        |null          |null    |0.000   |0.000|0.000 |null  |null         |0.000        |0.000       |0.0               |0.0               |1           |X          |0            |0             |null        |1900.01.01|1900.01.01|X          |null          |1900.01.01|1900.01.01|null         |null           |0             |0              |0              |0.000         |0            |0.000          |null          |null     |null          |null         |null        |0             |null       |NORM          |null  |null         |B            |0.000        |0.0         |0.000   |0.000        |0.000  |0          |0       |null           |null         |null  |null           |null          |ST                               |1.0                                       |1.0                                         |M3                              |6756.0                                   |181.0                                      |2.8934280639431615|YMPCL                  |GRDOB                  |RAN_S2S                |\n",
      "|M100PLY000122     |400     |0150113050|67      |0           |108.0        |ST      |ST     |1944.000     |1103    |1.00000  |11166.12  |null    |0        |0072991499|900008         |0622021433     |60       |PLY PIN BC DECO EXT 2440X1220X9 3P RAN |null           |1000035461|5000           |YMPCLGRDOBRAN_S2S|CM53        |M3    |3207  |CL  |09        |35           |01          |null        |null         |null          |320          |3201          |00     |null         |001    |5638.68        |1CL27331|YP4            |60                         |YP1            |YP2            |null         |null         |null     |CARGASINI |2022.05.09  |MACUNAF       |KELVBGDAPXCZ |KELVBGDAPC |ZFE1         |A   |null          |null        |0           |9230009  |null         |260           |CL06          |13.53     |13.53    |KG            |M1             |0            |0001          |null         |0.000        |null          |null    |0.000   |0.000|0.000 |null  |null         |0.000        |0.000       |0.0               |0.0               |1           |X          |0            |0             |null        |1900.01.01|1900.01.01|X          |null          |1900.01.01|1900.01.01|null         |null           |0             |0              |0              |0.000         |0            |0.000          |null          |null     |null          |null         |null        |0             |null       |NORM          |null  |null         |B            |0.000        |0.0         |0.000   |0.000        |0.000  |0          |0       |null           |null         |null  |null           |null          |ST                               |1.0                                       |1.0                                         |M3                              |6756.0                                   |181.0                                      |2.8934280639431615|YMPCL                  |GRDOB                  |RAN_S2S                |\n",
      "|M100PLY000122     |400     |0150113050|68      |0           |108.0        |ST      |ST     |1944.000     |1103    |1.00000  |11166.12  |null    |0        |0072991499|900009         |0622021433     |60       |PLY PIN BC DECO EXT 2440X1220X9 3P RAN |null           |1000035484|5000           |YMPCLGRDOBRAN_S2S|CM53        |M3    |3207  |CL  |09        |35           |01          |null        |null         |null          |320          |3201          |00     |null         |001    |5638.68        |1CL27331|YP4            |60                         |YP1            |YP2            |null         |null         |null     |CARGASINI |2022.05.09  |MACUNAF       |KELVBGDAPXCZ |KELVBGDAPC |ZFE1         |A   |null          |null        |0           |9230009  |null         |260           |CL06          |13.53     |13.53    |KG            |M1             |0            |0001          |null         |0.000        |null          |null    |0.000   |0.000|0.000 |null  |null         |0.000        |0.000       |0.0               |0.0               |1           |X          |0            |0             |null        |1900.01.01|1900.01.01|X          |null          |1900.01.01|1900.01.01|null         |null           |0             |0              |0              |0.000         |0            |0.000          |null          |null     |null          |null         |null        |0             |null       |NORM          |null  |null         |B            |0.000        |0.0         |0.000   |0.000        |0.000  |0          |0       |null           |null         |null  |null           |null          |ST                               |1.0                                       |1.0                                         |M3                              |6756.0                                   |181.0                                      |2.8934280639431615|YMPCL                  |GRDOB                  |RAN_S2S                |\n",
      "|M100PLY000122     |400     |0150113050|69      |0           |108.0        |ST      |ST     |1944.000     |1103    |1.00000  |11166.12  |null    |0        |0072991499|900010         |0622021433     |60       |PLY PIN BC DECO EXT 2440X1220X9 3P RAN |null           |1000035485|5000           |YMPCLGRDOBRAN_S2S|CM53        |M3    |3207  |CL  |09        |35           |01          |null        |null         |null          |320          |3201          |00     |null         |001    |5638.68        |1CL27331|YP4            |60                         |YP1            |YP2            |null         |null         |null     |CARGASINI |2022.05.09  |MACUNAF       |KELVBGDAPXCZ |KELVBGDAPC |ZFE1         |A   |null          |null        |0           |9230009  |null         |260           |CL06          |13.53     |13.53    |KG            |M1             |0            |0001          |null         |0.000        |null          |null    |0.000   |0.000|0.000 |null  |null         |0.000        |0.000       |0.0               |0.0               |1           |X          |0            |0             |null        |1900.01.01|1900.01.01|X          |null          |1900.01.01|1900.01.01|null         |null           |0             |0              |0              |0.000         |0            |0.000          |null          |null     |null          |null         |null        |0             |null       |NORM          |null  |null         |B            |0.000        |0.0         |0.000   |0.000        |0.000  |0          |0       |null           |null         |null  |null           |null          |ST                               |1.0                                       |1.0                                         |M3                              |6756.0                                   |181.0                                      |2.8934280639431615|YMPCL                  |GRDOB                  |RAN_S2S                |\n",
      "|M100PLY000122     |400     |0150113050|70      |0           |108.0        |ST      |ST     |1944.000     |1103    |1.00000  |11166.12  |null    |0        |0072991499|900011         |0622021433     |60       |PLY PIN BC DECO EXT 2440X1220X9 3P RAN |null           |1000035498|5000           |YMPCLGRDOBRAN_S2S|CM53        |M3    |3207  |CL  |09        |35           |01          |null        |null         |null          |320          |3201          |00     |null         |001    |5638.68        |1CL27331|YP4            |60                         |YP1            |YP2            |null         |null         |null     |CARGASINI |2022.05.09  |MACUNAF       |KELVBGDAPXCZ |KELVBGDAPC |ZFE1         |A   |null          |null        |0           |9230009  |null         |260           |CL06          |13.53     |13.53    |KG            |M1             |0            |0001          |null         |0.000        |null          |null    |0.000   |0.000|0.000 |null  |null         |0.000        |0.000       |0.0               |0.0               |1           |X          |0            |0             |null        |1900.01.01|1900.01.01|X          |null          |1900.01.01|1900.01.01|null         |null           |0             |0              |0              |0.000         |0            |0.000          |null          |null     |null          |null         |null        |0             |null       |NORM          |null  |null         |B            |0.000        |0.0         |0.000   |0.000        |0.000  |0          |0       |null           |null         |null  |null           |null          |ST                               |1.0                                       |1.0                                         |M3                              |6756.0                                   |181.0                                      |2.8934280639431615|YMPCL                  |GRDOB                  |RAN_S2S                |\n",
      "|M100PLY000122     |400     |0150113050|71      |0           |108.0        |ST      |ST     |1944.000     |1103    |1.00000  |11166.12  |null    |0        |0072991499|900012         |0622021433     |60       |PLY PIN BC DECO EXT 2440X1220X9 3P RAN |null           |1000035712|5000           |YMPCLGRDOBRAN_S2S|CM53        |M3    |3207  |CL  |09        |35           |01          |null        |null         |null          |320          |3201          |00     |null         |001    |5638.68        |1CL27331|YP4            |60                         |YP1            |YP2            |null         |null         |null     |CARGASINI |2022.05.09  |MACUNAF       |KELVBGDAPXCZ |KELVBGDAPC |ZFE1         |A   |null          |null        |0           |9230009  |null         |260           |CL06          |13.53     |13.53    |KG            |M1             |0            |0001          |null         |0.000        |null          |null    |0.000   |0.000|0.000 |null  |null         |0.000        |0.000       |0.0               |0.0               |1           |X          |0            |0             |null        |1900.01.01|1900.01.01|X          |null          |1900.01.01|1900.01.01|null         |null           |0             |0              |0              |0.000         |0            |0.000          |null          |null     |null          |null         |null        |0             |null       |NORM          |null  |null         |B            |0.000        |0.0         |0.000   |0.000        |0.000  |0          |0       |null           |null         |null  |null           |null          |ST                               |1.0                                       |1.0                                         |M3                              |6756.0                                   |181.0                                      |2.8934280639431615|YMPCL                  |GRDOB                  |RAN_S2S                |\n",
      "|M100PLY000122     |400     |0150113050|72      |0           |108.0        |ST      |ST     |1944.000     |1103    |1.00000  |11166.12  |null    |0        |0072991499|900013         |0622021433     |60       |PLY PIN BC DECO EXT 2440X1220X9 3P RAN |null           |1000035730|5000           |YMPCLGRDOBRAN_S2S|CM53        |M3    |3207  |CL  |09        |35           |01          |null        |null         |null          |320          |3201          |00     |null         |001    |5638.68        |1CL27331|YP4            |60                         |YP1            |YP2            |null         |null         |null     |CARGASINI |2022.05.09  |MACUNAF       |KELVBGDAPXCZ |KELVBGDAPC |ZFE1         |A   |null          |null        |0           |9230009  |null         |260           |CL06          |13.53     |13.53    |KG            |M1             |0            |0001          |null         |0.000        |null          |null    |0.000   |0.000|0.000 |null  |null         |0.000        |0.000       |0.0               |0.0               |1           |X          |0            |0             |null        |1900.01.01|1900.01.01|X          |null          |1900.01.01|1900.01.01|null         |null           |0             |0              |0              |0.000         |0            |0.000          |null          |null     |null          |null         |null        |0             |null       |NORM          |null  |null         |B            |0.000        |0.0         |0.000   |0.000        |0.000  |0          |0       |null           |null         |null  |null           |null          |ST                               |1.0                                       |1.0                                         |M3                              |6756.0                                   |181.0                                      |2.8934280639431615|YMPCL                  |GRDOB                  |RAN_S2S                |\n",
      "+------------------+--------+----------+--------+------------+-------------+--------+-------+-------------+--------+---------+----------+--------+---------+----------+---------------+---------------+---------+---------------------------------------+---------------+----------+---------------+-----------------+------------+------+------+----+----------+-------------+------------+------------+-------------+--------------+-------------+--------------+-------+-------------+-------+---------------+--------+---------------+---------------------------+---------------+---------------+-------------+-------------+---------+----------+------------+--------------+-------------+-----------+-------------+----+--------------+------------+------------+---------+-------------+--------------+--------------+----------+---------+--------------+---------------+-------------+--------------+-------------+-------------+--------------+--------+--------+-----+------+------+-------------+-------------+------------+------------------+------------------+------------+-----------+-------------+--------------+------------+----------+----------+-----------+--------------+----------+----------+-------------+---------------+--------------+---------------+---------------+--------------+-------------+---------------+--------------+---------+--------------+-------------+------------+--------------+-----------+--------------+------+-------------+-------------+-------------+------------+--------+-------------+-------+-----------+--------+---------------+-------------+------+---------------+--------------+---------------------------------+------------------------------------------+--------------------------------------------+--------------------------------+-----------------------------------------+-------------------------------------------+------------------+-----------------------+-----------------------+-----------------------+\n",
      "only showing top 15 rows\n",
      "\n"
     ]
    },
    {
     "name": "stderr",
     "output_type": "stream",
     "text": [
      "                                                                                \r"
     ]
    }
   ],
   "source": [
    "dataframes_dict['materiales'].show(15, False)\n"
   ]
  },
  {
   "cell_type": "markdown",
   "metadata": {},
   "source": [
    "#### Filtros por Mandante = 400"
   ]
  },
  {
   "cell_type": "code",
   "execution_count": 7,
   "metadata": {},
   "outputs": [],
   "source": [
    "df_metadata_facturas = dataframes_dict['metadata_de_facturas'].where(col('Mandante') == '400')"
   ]
  },
  {
   "cell_type": "code",
   "execution_count": 8,
   "metadata": {},
   "outputs": [],
   "source": [
    "df_facturas_por_cliente = dataframes_dict['facturas_por_cliente'].where(col('Mandante') == '400')"
   ]
  },
  {
   "cell_type": "code",
   "execution_count": 9,
   "metadata": {},
   "outputs": [],
   "source": [
    "df_materiales = dataframes_dict['materiales'].where(col('Mandante') == '400')"
   ]
  },
  {
   "cell_type": "code",
   "execution_count": 10,
   "metadata": {},
   "outputs": [],
   "source": [
    "df_paises = dataframes_dict['paises'].where(col('Mandante') == '400').where(col('Idioma') == 'S')\n",
    "# Ocupar sólo \"S\" Y info mandante 400"
   ]
  },
  {
   "cell_type": "markdown",
   "metadata": {},
   "source": [
    "## SELECT DE TABLAS"
   ]
  },
  {
   "cell_type": "code",
   "execution_count": 11,
   "metadata": {},
   "outputs": [],
   "source": [
    "df_metadata_facturas = df_metadata_facturas.select('Mandante', 'Factura', 'Clase_factura',).where(col('Factura').isNotNull())\n"
   ]
  },
  {
   "cell_type": "code",
   "execution_count": 12,
   "metadata": {},
   "outputs": [],
   "source": [
    "df_facturas_por_cliente = df_facturas_por_cliente.select('Mandante','Factura','Posicion_de_Factura','Pais', 'Cliente_Solicitante', 'Cliente_Destinatario_de_Mercancia')"
   ]
  },
  {
   "cell_type": "code",
   "execution_count": 13,
   "metadata": {},
   "outputs": [],
   "source": [
    "df_materiales = df_materiales.groupBy('Factura', 'Material', 'Unidad_de_medida_Volumen_Destino', 'Pais').agg(sum(col('Volumen')))"
   ]
  },
  {
   "cell_type": "code",
   "execution_count": 14,
   "metadata": {},
   "outputs": [],
   "source": [
    "df_paises = df_paises.select('Mandante', 'Idioma', 'Pais' , 'Pais_descr')"
   ]
  },
  {
   "cell_type": "code",
   "execution_count": 15,
   "metadata": {},
   "outputs": [],
   "source": [
    "# # df_metadata_facturas.show(2, False)\n",
    "# # df_facturas_por_cliente.show(2, False)\n",
    "# df_materiales.show(2, False)\n",
    "# df_paises.show(2, False)"
   ]
  },
  {
   "cell_type": "markdown",
   "metadata": {},
   "source": [
    "#### Join"
   ]
  },
  {
   "cell_type": "code",
   "execution_count": 16,
   "metadata": {},
   "outputs": [],
   "source": [
    "def join_cliente_clase_factura(dataframes_dict):\n",
    "    df_result = df_facturas_por_cliente.join(df_metadata_facturas, 'Factura', 'left').drop(df_metadata_facturas.Mandante)\n",
    "\n",
    "    return {'add_join_cliente_clase_factura': df_result}\n",
    "\n",
    "def join_materiales_factura_x_clase_factura(dataframes_dict):\n",
    "    df_clase_factura = dataframes_dict['add_join_cliente_clase_factura']\n",
    "    df_result = df_materiales.join(df_clase_factura, 'Factura', 'left').drop(df_clase_factura.Pais).drop(df_clase_factura.Mandante)\n",
    "    print(dataframes_dict['materiales'].count())\n",
    "    print(df_clase_factura.count())\n",
    "    print(df_result.count())\n",
    "\n",
    "    return {'add_join_materiales_factura_x_clase_factura': df_result}"
   ]
  },
  {
   "cell_type": "code",
   "execution_count": 17,
   "metadata": {},
   "outputs": [],
   "source": [
    "def gen_srv_desafio_python(dataframes_dict):\n",
    "\n",
    "    functions_list = [\n",
    "        join_cliente_clase_factura,\n",
    "        join_materiales_factura_x_clase_factura,\n",
    "        # Otras transformaciones\n",
    "    ]\n",
    "\n",
    "    for function in functions_list:\n",
    "        print(function)\n",
    "        result_element = function(dataframes_dict)\n",
    "        dataframes_dict.update(result_element)\n",
    "\n",
    "    return dataframes_dict['add_join_materiales_factura_x_clase_factura'] # Modificar al último dataframe retornado"
   ]
  },
  {
   "cell_type": "code",
   "execution_count": 18,
   "metadata": {},
   "outputs": [
    {
     "name": "stdout",
     "output_type": "stream",
     "text": [
      "<function join_cliente_clase_factura at 0x1068e5ea0>\n",
      "<function join_materiales_factura_x_clase_factura at 0x1068e5f30>\n",
      "80708\n",
      "19135\n",
      "43098\n"
     ]
    }
   ],
   "source": [
    "test = gen_srv_desafio_python(dataframes_dict)"
   ]
  },
  {
   "cell_type": "code",
   "execution_count": 19,
   "metadata": {},
   "outputs": [
    {
     "data": {
      "text/html": [
       "<table border='1'>\n",
       "<tr><th>Factura</th><th>Material</th><th>Unidad_de_medida_Volumen_Destino</th><th>Pais</th><th>sum(Volumen)</th><th>Posicion_de_Factura</th><th>Cliente_Solicitante</th><th>Cliente_Destinatario_de_Mercancia</th><th>Clase_factura</th></tr>\n",
       "<tr><td>0150140322</td><td>M300BLK000192</td><td>M3</td><td>CL</td><td>8.776404290129069</td><td>0</td><td>48352</td><td>null</td><td>YPVE</td></tr>\n",
       "<tr><td>0150140322</td><td>M300BLK000192</td><td>M3</td><td>CL</td><td>8.776404290129069</td><td>0</td><td>null</td><td>null</td><td>YPVE</td></tr>\n",
       "<tr><td>0150140322</td><td>M300BLK000192</td><td>M3</td><td>CL</td><td>8.776404290129069</td><td>0</td><td>null</td><td>null</td><td>YPVE</td></tr>\n",
       "<tr><td>0150140322</td><td>M300BLK000192</td><td>M3</td><td>CL</td><td>8.776404290129069</td><td>0</td><td>null</td><td>null</td><td>YPVE</td></tr>\n",
       "<tr><td>0150140322</td><td>M300BLK000192</td><td>M3</td><td>CL</td><td>8.776404290129069</td><td>10</td><td>null</td><td>null</td><td>YPVE</td></tr>\n",
       "</table>\n",
       "only showing top 5 rows\n"
      ],
      "text/plain": [
       "+----------+-------------+--------------------------------+----+-----------------+-------------------+-------------------+---------------------------------+-------------+\n",
       "|   Factura|     Material|Unidad_de_medida_Volumen_Destino|Pais|     sum(Volumen)|Posicion_de_Factura|Cliente_Solicitante|Cliente_Destinatario_de_Mercancia|Clase_factura|\n",
       "+----------+-------------+--------------------------------+----+-----------------+-------------------+-------------------+---------------------------------+-------------+\n",
       "|0150159775|M100PLY000116|                              M3|  CL|462.9484902309043|                  0|               null|                             null|         ZINM|\n",
       "|0150159775|M100PLY000116|                              M3|  CL|462.9484902309043|                  1|               null|                            C6102|         ZINM|\n",
       "|0150159775|M100PLY000116|                              M3|  CL|462.9484902309043|                  0|               null|                             null|         ZINM|\n",
       "|0150159775|M100PLY000116|                              M3|  CL|462.9484902309043|                  0|              C6102|                             null|         ZINM|\n",
       "|0150159775|M100PLY000116|                              M3|  CL|462.9484902309043|                  0|               null|                             null|         ZINM|\n",
       "+----------+-------------+--------------------------------+----+-----------------+-------------------+-------------------+---------------------------------+-------------+\n",
       "only showing top 5 rows"
      ]
     },
     "execution_count": 19,
     "metadata": {},
     "output_type": "execute_result"
    }
   ],
   "source": [
    "test"
   ]
  },
  {
   "cell_type": "code",
   "execution_count": 20,
   "metadata": {},
   "outputs": [
    {
     "data": {
      "text/plain": [
       "80708"
      ]
     },
     "execution_count": 20,
     "metadata": {},
     "output_type": "execute_result"
    }
   ],
   "source": [
    "dataframes_dict['materiales'].count()"
   ]
  }
 ],
 "metadata": {
  "kernelspec": {
   "display_name": "Python 3.10.6 64-bit",
   "language": "python",
   "name": "python3"
  },
  "language_info": {
   "codemirror_mode": {
    "name": "ipython",
    "version": 3
   },
   "file_extension": ".py",
   "mimetype": "text/x-python",
   "name": "python",
   "nbconvert_exporter": "python",
   "pygments_lexer": "ipython3",
   "version": "3.10.6"
  },
  "orig_nbformat": 4,
  "vscode": {
   "interpreter": {
    "hash": "b0fa6594d8f4cbf19f97940f81e996739fb7646882a419484c72d19e05852a7e"
   }
  }
 },
 "nbformat": 4,
 "nbformat_minor": 2
}
