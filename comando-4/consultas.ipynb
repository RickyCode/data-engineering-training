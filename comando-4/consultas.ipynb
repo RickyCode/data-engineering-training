{
 "cells": [
  {
   "cell_type": "code",
   "execution_count": 1,
   "metadata": {},
   "outputs": [
    {
     "name": "stderr",
     "output_type": "stream",
     "text": [
      "Setting default log level to \"WARN\".\n",
      "To adjust logging level use sc.setLogLevel(newLevel). For SparkR, use setLogLevel(newLevel).\n"
     ]
    },
    {
     "name": "stdout",
     "output_type": "stream",
     "text": [
      "22/09/07 17:37:36 WARN NativeCodeLoader: Unable to load native-hadoop library for your platform... using builtin-java classes where applicable\n",
      "22/09/07 17:37:41 WARN Utils: Service 'SparkUI' could not bind on port 4040. Attempting port 4041.\n"
     ]
    }
   ],
   "source": [
    "import pyspark\n",
    "from pyspark.sql import SparkSession\n",
    "from pyspark.sql.functions import *\n",
    "from pyspark.sql.window import *\n",
    "from pyspark.sql.types import *\n",
    "\n",
    "spark=SparkSession.builder.appName('consultas').getOrCreate()"
   ]
  },
  {
   "cell_type": "code",
   "execution_count": 24,
   "metadata": {},
   "outputs": [
    {
     "data": {
      "text/html": [
       "\n",
       "<style>\n",
       "    .output-plaintext, .output-stream, .output {\n",
       "        white-space: pre !important;\n",
       "    }\n",
       "    pre { white-space: pre !important; }\n",
       "</style>\n"
      ],
      "text/plain": [
       "<IPython.core.display.HTML object>"
      ]
     },
     "execution_count": 24,
     "metadata": {},
     "output_type": "execute_result"
    }
   ],
   "source": [
    "from IPython.core.display import HTML\n",
    "HTML(r\"\"\"\n",
    "<style>\n",
    "    .output-plaintext, .output-stream, .output {\n",
    "        white-space: pre !important;\n",
    "    }\n",
    "    pre { white-space: pre !important; }\n",
    "</style>\n",
    "\"\"\")"
   ]
  },
  {
   "cell_type": "code",
   "execution_count": 25,
   "metadata": {},
   "outputs": [],
   "source": [
    "spark.conf.set('spark.sql.repl.eagerEval.enabled', True)\n",
    "spark.conf.set('spark.sql.repl.eagerEval.truncate', 30)\n",
    "spark.conf.set('spark.sql.repl.eagerEval.maxNumRows', 20)"
   ]
  },
  {
   "cell_type": "code",
   "execution_count": 26,
   "metadata": {},
   "outputs": [],
   "source": [
    "dataframes_dict = {}\n",
    "dataframes_dict['metadata_de_facturas']=spark.read.parquet(\"/Users/tamara/Desktop/Principal/KRANIO/DESAFIO-PYTHON/challenge1/dataset/bkpf_vbrk.parquet\")\n",
    "dataframes_dict['facturas_por_cliente']=spark.read.parquet(\"/Users/tamara/Desktop/Principal/KRANIO/DESAFIO-PYTHON/challenge1/dataset/vbpa_kna1.parquet\")\n",
    "dataframes_dict['materiales']=spark.read.parquet(\"/Users/tamara/Desktop/Principal/KRANIO/DESAFIO-PYTHON/challenge1/dataset/vbrp_mara_marm.parquet\")\n",
    "dataframes_dict['paises']=spark.read.parquet(\"/Users/tamara/Desktop/Principal/KRANIO/DESAFIO-PYTHON/challenge1/dataset/T005T.parquet\")"
   ]
  },
  {
   "cell_type": "markdown",
   "metadata": {},
   "source": [
    "#### Filter Mandante - Idioma Pais"
   ]
  },
  {
   "cell_type": "code",
   "execution_count": 27,
   "metadata": {},
   "outputs": [],
   "source": [
    "def set_filtros_seleccion_columnas(dataframes_dict):\n",
    "\n",
    "    df_metadata_facturas = dataframes_dict['metadata_de_facturas']\\\n",
    "                                    .select('Factura', 'Clase_factura', 'Ejercicio', 'Per_contable')\\\n",
    "                                    .where(col('Factura').isNotNull())\\\n",
    "                                    .where(col('Mandante') == '400')\n",
    "\n",
    "    df_facturas_por_cliente = dataframes_dict['facturas_por_cliente'].select('Factura','Posicion_de_Factura','Pais','Cliente_Destinatario_de_Mercancia','Cliente_solicitante', 'Tipo_de_Cliente')\\\n",
    "                                                .where(col('Cliente_Destinatario_de_Mercancia').isNotNull())\\\n",
    "                                                .withColumnRenamed('Pais', 'Pais_cliente').where(col('Mandante') == '400')\n",
    "\n",
    "    df_materiales = dataframes_dict['materiales'].select('Factura', 'Posicion', 'Material', 'Unidad_de_medida_Volumen_Destino', 'Volumen').where(col('Mandante') == '400')\n",
    "\n",
    "    df_paises = dataframes_dict['paises'].select('Idioma', 'Pais' , 'Pais_descr').where(col('Mandante') == '400').where(col('Idioma') == 'S')\n",
    "\n",
    "    df_resultado = df_materiales.join(df_facturas_por_cliente, 'Factura', 'left')\n",
    "    df_resultado = df_resultado.join(df_metadata_facturas, 'Factura', 'left')\n",
    "    df_result = df_result.select('Factura', 'Posicion', 'Clase_factura', 'Tipo_de_Cliente', 'Cliente_solicitante', 'Cliente_Destinatario_de_Mercancia', 'Volumen' )\n",
    "\n",
    "    return{'tabla_final' : df_resultado}\n"
   ]
  },
  {
   "cell_type": "markdown",
   "metadata": {},
   "source": [
    "### Consultas"
   ]
  },
  {
   "cell_type": "markdown",
   "metadata": {},
   "source": [
    "#### Cantidad de facturas por tipo de cliente"
   ]
  },
  {
   "cell_type": "code",
   "execution_count": 28,
   "metadata": {},
   "outputs": [],
   "source": [
    "def set_facturas_por_cliente(dataframes_dict):\n",
    "\n",
    "    df = dataframes_dict['tabla_final']\n",
    "    df = dataframes_dict['facturas_por_cliente'].groupBy('Tipo_de_Cliente').agg(count('Factura').alias('Cantidad_Facturas')).orderBy(col('Cantidad_Facturas'))\n",
    "\n",
    "    return{'add_facturas_por_cliente': df}"
   ]
  },
  {
   "cell_type": "code",
   "execution_count": 29,
   "metadata": {},
   "outputs": [],
   "source": [
    "def main(dataframes_dict):\n",
    "\n",
    "    functions_list = [\n",
    "        set_filtros_seleccion_columnas,\n",
    "        # Otras transformaciones\n",
    "    ]\n",
    "\n",
    "    for function in functions_list:\n",
    "        print(function)\n",
    "        result_element = function(dataframes_dict)\n",
    "        dataframes_dict.update(result_element)\n",
    "\n",
    "    return dataframes_dict['tabla_final'] # Modificar al último dataframe retornado"
   ]
  },
  {
   "cell_type": "code",
   "execution_count": 30,
   "metadata": {},
   "outputs": [
    {
     "name": "stdout",
     "output_type": "stream",
     "text": [
      "<function set_filtros_seleccion_columnas at 0x1223efd00>\n"
     ]
    }
   ],
   "source": [
    "test = main(dataframes_dict)"
   ]
  },
  {
   "cell_type": "code",
   "execution_count": 31,
   "metadata": {},
   "outputs": [
    {
     "name": "stdout",
     "output_type": "stream",
     "text": [
      "+----------+--------+------------------+--------------------------------+-------+-------------------+------------+---------------------------------+-------------------+---------------+-------------+---------+------------+\n",
      "|Factura   |Posicion|Material          |Unidad_de_medida_Volumen_Destino|Volumen|Posicion_de_Factura|Pais_cliente|Cliente_Destinatario_de_Mercancia|Cliente_solicitante|Tipo_de_Cliente|Clase_factura|Ejercicio|Per_contable|\n",
      "+----------+--------+------------------+--------------------------------+-------+-------------------+------------+---------------------------------+-------------------+---------------+-------------+---------+------------+\n",
      "|0150190076|10      |000000000010010108|M3                              |5600.0 |10                 |CL          |164952                           |null               |WE             |YN01         |2020     |12          |\n",
      "+----------+--------+------------------+--------------------------------+-------+-------------------+------------+---------------------------------+-------------------+---------------+-------------+---------+------------+\n",
      "only showing top 1 row\n",
      "\n"
     ]
    }
   ],
   "source": [
    "test.show(1, False)"
   ]
  },
  {
   "cell_type": "markdown",
   "metadata": {},
   "source": [
    "# Consultas"
   ]
  },
  {
   "cell_type": "markdown",
   "metadata": {},
   "source": [
    "## Consulta 1: Cantidad de facturas por tipo de cliente"
   ]
  },
  {
   "cell_type": "code",
   "execution_count": 36,
   "metadata": {},
   "outputs": [
    {
     "data": {
      "text/html": [
       "<table border='1'>\n",
       "<tr><th>Tipo_de_Cliente</th><th>Cantidad_Facturas</th></tr>\n",
       "<tr><td>NF</td><td>17</td></tr>\n",
       "<tr><td>SP</td><td>196</td></tr>\n",
       "<tr><td>AV</td><td>530</td></tr>\n",
       "<tr><td>EN</td><td>671</td></tr>\n",
       "<tr><td>SE</td><td>1306</td></tr>\n",
       "<tr><td>VD</td><td>2423</td></tr>\n",
       "<tr><td>RG</td><td>2798</td></tr>\n",
       "<tr><td>VE</td><td>2798</td></tr>\n",
       "<tr><td>RE</td><td>2798</td></tr>\n",
       "<tr><td>AG</td><td>2798</td></tr>\n",
       "<tr><td>WE</td><td>2800</td></tr>\n",
       "</table>\n"
      ],
      "text/plain": [
       "+---------------+-----------------+\n",
       "|Tipo_de_Cliente|Cantidad_Facturas|\n",
       "+---------------+-----------------+\n",
       "|             NF|               17|\n",
       "|             SP|              196|\n",
       "|             AV|              530|\n",
       "|             EN|              671|\n",
       "|             SE|             1306|\n",
       "|             VD|             2423|\n",
       "|             RG|             2798|\n",
       "|             VE|             2798|\n",
       "|             RE|             2798|\n",
       "|             AG|             2798|\n",
       "|             WE|             2800|\n",
       "+---------------+-----------------+"
      ]
     },
     "execution_count": 36,
     "metadata": {},
     "output_type": "execute_result"
    }
   ],
   "source": [
    "dataframes_dict['facturas_por_cliente'].groupBy('Tipo_de_Cliente').agg(count('Factura').alias('Cantidad_Facturas')).orderBy(col('Cantidad_Facturas'))"
   ]
  },
  {
   "cell_type": "markdown",
   "metadata": {},
   "source": [
    "## Consulta 2: Top 10 Volumen total por país de cliente destinatario mercancía"
   ]
  },
  {
   "cell_type": "code",
   "execution_count": 37,
   "metadata": {},
   "outputs": [
    {
     "name": "stdout",
     "output_type": "stream",
     "text": [
      "+------------+---------------------------------+------------------+\n",
      "|Pais_cliente|Cliente_Destinatario_de_Mercancia|Volumen_total     |\n",
      "+------------+---------------------------------+------------------+\n",
      "|null        |169539                           |446195.5484275913 |\n",
      "|CL          |243596                           |122000.0          |\n",
      "|CL          |164952                           |118530.0          |\n",
      "|US          |C6102                            |10610.667462500058|\n",
      "|US          |C6108                            |8836.122548012454 |\n",
      "|US          |C6121                            |8002.88474708978  |\n",
      "|AE          |156091                           |5495.424999999866 |\n",
      "|KR          |149510                           |5054.0100000000875|\n",
      "|AU          |67622                            |4991.908611760056 |\n",
      "|US          |C6111                            |4834.137287961686 |\n",
      "+------------+---------------------------------+------------------+\n",
      "only showing top 10 rows\n",
      "\n"
     ]
    }
   ],
   "source": [
    "dataframes_dict['tabla_final'].groupBy('Pais_cliente', 'Cliente_Destinatario_de_Mercancia').agg(sum('Volumen').alias('Volumen_total')).orderBy(col('Volumen_total').desc()).show(10, False)"
   ]
  },
  {
   "cell_type": "markdown",
   "metadata": {},
   "source": [
    "## Consulta 3: Top 5 Volumen total por cliente solicitante"
   ]
  },
  {
   "cell_type": "code",
   "execution_count": 41,
   "metadata": {},
   "outputs": [
    {
     "name": "stdout",
     "output_type": "stream",
     "text": [
      "+-------------------+-----------------+\n",
      "|Cliente_solicitante|    Volumen_total|\n",
      "+-------------------+-----------------+\n",
      "|               null|899593.4532944837|\n",
      "+-------------------+-----------------+\n",
      "\n"
     ]
    }
   ],
   "source": [
    "dataframes_dict['tabla_final'].groupBy('Cliente_solicitante').agg(sum('Volumen').alias('Volumen_total')).orderBy(col('Volumen_total').desc()).show()"
   ]
  },
  {
   "cell_type": "markdown",
   "metadata": {},
   "source": [
    "## Consulta 4: Volumen total por clase de factura, de mayor a menor volumen"
   ]
  },
  {
   "cell_type": "code",
   "execution_count": 40,
   "metadata": {},
   "outputs": [
    {
     "name": "stdout",
     "output_type": "stream",
     "text": [
      "+-------------+------------------+\n",
      "|Clase_factura|Volumen_total     |\n",
      "+-------------+------------------+\n",
      "|YNDN         |445194.87803089235|\n",
      "|YN01         |240556.0          |\n",
      "|YPVE         |103147.76445597172|\n",
      "|ZINM         |55830.77846639777 |\n",
      "|YPVN         |47180.698345900484|\n",
      "|YSDE         |4537.500745486273 |\n",
      "|YSCE         |1578.4242525546445|\n",
      "|YSDN         |654.7385285745437 |\n",
      "|YSCN         |351.38799145984177|\n",
      "|YPBN         |295.21406943976496|\n",
      "|YNDE         |266.0684079870466 |\n",
      "|ZB03         |0.0               |\n",
      "|ZB13         |0.0               |\n",
      "|ZB01         |0.0               |\n",
      "+-------------+------------------+\n",
      "\n"
     ]
    }
   ],
   "source": [
    "dataframes_dict['tabla_final'].groupBy('Clase_factura').agg(sum('Volumen').alias('Volumen_total')).orderBy(col('Volumen_total').desc()).show(9999999, False)"
   ]
  }
 ],
 "metadata": {
  "kernelspec": {
   "display_name": "Python 3.10.6 64-bit",
   "language": "python",
   "name": "python3"
  },
  "language_info": {
   "codemirror_mode": {
    "name": "ipython",
    "version": 3
   },
   "file_extension": ".py",
   "mimetype": "text/x-python",
   "name": "python",
   "nbconvert_exporter": "python",
   "pygments_lexer": "ipython3",
   "version": "3.10.6"
  },
  "orig_nbformat": 4,
  "vscode": {
   "interpreter": {
    "hash": "b0fa6594d8f4cbf19f97940f81e996739fb7646882a419484c72d19e05852a7e"
   }
  }
 },
 "nbformat": 4,
 "nbformat_minor": 2
}
