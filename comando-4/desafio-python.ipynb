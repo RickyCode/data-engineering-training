{
 "cells": [
  {
   "cell_type": "code",
   "execution_count": 1,
   "metadata": {},
   "outputs": [
    {
     "name": "stderr",
     "output_type": "stream",
     "text": [
      "Setting default log level to \"WARN\".\n",
      "To adjust logging level use sc.setLogLevel(newLevel). For SparkR, use setLogLevel(newLevel).\n"
     ]
    },
    {
     "name": "stdout",
     "output_type": "stream",
     "text": [
      "22/09/06 19:30:14 WARN NativeCodeLoader: Unable to load native-hadoop library for your platform... using builtin-java classes where applicable\n",
      "22/09/06 19:30:19 WARN Utils: Service 'SparkUI' could not bind on port 4040. Attempting port 4041.\n"
     ]
    }
   ],
   "source": [
    "import pyspark\n",
    "from pyspark.sql import SparkSession\n",
    "from pyspark.sql.functions import *\n",
    "from pyspark.sql.window import *\n",
    "from pyspark.sql.types import *\n",
    "\n",
    "spark=SparkSession.builder.appName('desafio-python3').getOrCreate()"
   ]
  },
  {
   "cell_type": "code",
   "execution_count": 2,
   "metadata": {},
   "outputs": [
    {
     "data": {
      "text/html": [
       "\n",
       "<style>\n",
       "    .output-plaintext, .output-stream, .output {\n",
       "        white-space: pre !important;\n",
       "    }\n",
       "    pre { white-space: pre !important; }\n",
       "</style>\n"
      ],
      "text/plain": [
       "<IPython.core.display.HTML object>"
      ]
     },
     "execution_count": 2,
     "metadata": {},
     "output_type": "execute_result"
    }
   ],
   "source": [
    "from IPython.core.display import HTML\n",
    "HTML(r\"\"\"\n",
    "<style>\n",
    "    .output-plaintext, .output-stream, .output {\n",
    "        white-space: pre !important;\n",
    "    }\n",
    "    pre { white-space: pre !important; }\n",
    "</style>\n",
    "\"\"\")"
   ]
  },
  {
   "cell_type": "code",
   "execution_count": 3,
   "metadata": {},
   "outputs": [],
   "source": [
    "spark.conf.set('spark.sql.repl.eagerEval.enabled', True)\n",
    "spark.conf.set('spark.sql.repl.eagerEval.truncate', 30)\n",
    "spark.conf.set('spark.sql.repl.eagerEval.maxNumRows', 20)"
   ]
  },
  {
   "cell_type": "code",
   "execution_count": 4,
   "metadata": {},
   "outputs": [
    {
     "name": "stderr",
     "output_type": "stream",
     "text": [
      "                                                                                \r"
     ]
    }
   ],
   "source": [
    "dataframes_dict = {}\n",
    "dataframes_dict['metadata_de_facturas']=spark.read.parquet(\"/Users/tamara/Desktop/Principal/KRANIO/DESAFIO-PYTHON/dataset/bkpf_vbrk.parquet\")\n",
    "dataframes_dict['facturas_por_cliente']=spark.read.parquet(\"/Users/tamara/Desktop/Principal/KRANIO/DESAFIO-PYTHON/dataset/vbpa_kna1.parquet\")\n",
    "dataframes_dict['materiales']=spark.read.parquet(\"/Users/tamara/Desktop/Principal/KRANIO/DESAFIO-PYTHON/dataset/vbrp_mara_marm.parquet\")\n",
    "dataframes_dict['paises']=spark.read.parquet(\"/Users/tamara/Desktop/Principal/KRANIO/DESAFIO-PYTHON/dataset/T005T.parquet\")"
   ]
  },
  {
   "cell_type": "markdown",
   "metadata": {},
   "source": [
    "#### Filter Mandante - Idioma Pais"
   ]
  },
  {
   "cell_type": "code",
   "execution_count": 5,
   "metadata": {},
   "outputs": [],
   "source": [
    "df_metadata_facturas = dataframes_dict['metadata_de_facturas'].where(col('Mandante') == '400')\n",
    "\n",
    "df_facturas_por_cliente = dataframes_dict['facturas_por_cliente'].where(col('Mandante') == '400')\n",
    "\n",
    "df_materiales = dataframes_dict['materiales'].where(col('Mandante') == '400')\n",
    "\n",
    "df_paises = dataframes_dict['paises'].where(col('Mandante') == '400').where(col('Idioma') == 'S')"
   ]
  },
  {
   "cell_type": "markdown",
   "metadata": {},
   "source": [
    "#### Select tables"
   ]
  },
  {
   "cell_type": "code",
   "execution_count": 6,
   "metadata": {},
   "outputs": [],
   "source": [
    "df_metadata_facturas = df_metadata_facturas.select('Factura', 'Clase_factura', 'Ejercicio', 'Per_contable').where(col('Factura').isNotNull())\n"
   ]
  },
  {
   "cell_type": "code",
   "execution_count": 7,
   "metadata": {},
   "outputs": [],
   "source": [
    "df_facturas_por_cliente_destinatario = df_facturas_por_cliente.select('Factura','Posicion_de_Factura','Pais', 'Nombre', 'Numero_de_Cliente', 'Cliente_Destinatario_de_Mercancia')\\\n",
    "                                                .where(col('Cliente_Destinatario_de_Mercancia').isNotNull())\\\n",
    "                                                .withColumnRenamed('Pais', 'Pais_cliente')"
   ]
  },
  {
   "cell_type": "code",
   "execution_count": 8,
   "metadata": {},
   "outputs": [],
   "source": [
    "df_materiales = df_materiales.select('Factura', 'Posicion', 'Material', 'Unidad_de_medida_Volumen_Destino', 'Volumen')\n"
   ]
  },
  {
   "cell_type": "code",
   "execution_count": 9,
   "metadata": {},
   "outputs": [],
   "source": [
    "df_cliente_solicitante_factura = df_facturas_por_cliente.select('Factura', 'Cliente_solicitante').where(col('Cliente_solicitante').isNotNull())"
   ]
  },
  {
   "cell_type": "code",
   "execution_count": 10,
   "metadata": {},
   "outputs": [],
   "source": [
    "df_paises = df_paises.select('Idioma', 'Pais' , 'Pais_descr')"
   ]
  },
  {
   "cell_type": "markdown",
   "metadata": {},
   "source": [
    "#### Join tables"
   ]
  },
  {
   "cell_type": "code",
   "execution_count": 11,
   "metadata": {},
   "outputs": [],
   "source": [
    "def set_posicion_destinatario_mercancia(dataframes_dict):\n",
    "\n",
    "    df1 = df_materiales\n",
    "    df2 = df_facturas_por_cliente_destinatario\n",
    "\n",
    "    join_cond = [(df1.Factura == df2.Factura) & (df1.Posicion == df2.Posicion_de_Factura)]\n",
    "\n",
    "    df_result = df1.join(df2, join_cond, 'left')\\\n",
    "                             .drop(df2.Posicion_de_Factura)\\\n",
    "                             .drop(df2.Factura)\n",
    "\n",
    "    return{'add_posicion_destinatario_mercancia' : df_result}\n",
    "\n",
    "\n",
    "def set_clase_factura(dataframes_dict):\n",
    "\n",
    "    df = dataframes_dict['add_posicion_destinatario_mercancia']\n",
    "\n",
    "    df_result = df.join(df_metadata_facturas, 'Factura', 'left')\n",
    "\n",
    "    return{'add_clase_factura' : df_result}\n",
    "\n",
    "\n",
    "def set_cliente_solitante(dataframes_dict):\n",
    "\n",
    "    df = dataframes_dict['add_clase_factura']\n",
    "\n",
    "    df_result = df.join(df_cliente_solicitante_factura, 'Factura' , 'left')\n",
    "\n",
    "    return{'add_cliente_solitante' : df_result}\n",
    "\n",
    "\n",
    "def set_paises_desc(dataframes_dict):\n",
    "\n",
    "    df = dataframes_dict['add_cliente_solitante']\n",
    "\n",
    "    df_result = df.join(df_paises,df.Pais_cliente == df_paises.Pais, 'left')\\\n",
    "                                      .drop(df_paises.Pais)\n",
    "\n",
    "    return {'add_paises_descripcion': df_result}"
   ]
  },
  {
   "cell_type": "code",
   "execution_count": 12,
   "metadata": {},
   "outputs": [],
   "source": [
    "def select_columns(dataframes_dict):\n",
    "\n",
    "    df_final = dataframes_dict['add_paises_descripcion']\\\n",
    "                    .select('Factura', 'Clase_factura', 'Posicion',\n",
    "                    'Material', 'Volumen', 'Unidad_de_medida_Volumen_Destino',\n",
    "                    'Per_contable', 'Ejercicio','Nombre', 'Numero_de_Cliente','Cliente_solicitante', 'Cliente_Destinatario_de_Mercancia',\n",
    "                    'Pais_cliente', 'Pais_descr')\\\n",
    "                    .withColumnRenamed('Nombre', 'Nombre_cliente')\n",
    "\n",
    "    return{'add_select_columns' : df_final}"
   ]
  },
  {
   "cell_type": "code",
   "execution_count": 13,
   "metadata": {},
   "outputs": [],
   "source": [
    "def main(dataframes_dict):\n",
    "\n",
    "    functions_list = [\n",
    "        set_posicion_destinatario_mercancia,\n",
    "        set_clase_factura,\n",
    "        set_cliente_solitante,\n",
    "        set_paises_desc,\n",
    "        select_columns\n",
    "        # Otras transformaciones\n",
    "    ]\n",
    "\n",
    "    for function in functions_list:\n",
    "        print(function)\n",
    "        result_element = function(dataframes_dict)\n",
    "        dataframes_dict.update(result_element)\n",
    "\n",
    "    return dataframes_dict['add_select_columns'] # Modificar al último dataframe retornado"
   ]
  },
  {
   "cell_type": "code",
   "execution_count": 14,
   "metadata": {},
   "outputs": [
    {
     "name": "stdout",
     "output_type": "stream",
     "text": [
      "<function set_posicion_destinatario_mercancia at 0x115363250>\n",
      "<function set_clase_factura at 0x1153631c0>\n",
      "<function set_cliente_solitante at 0x115362e60>\n",
      "<function set_paises_desc at 0x115362dd0>\n",
      "<function select_columns at 0x115362b00>\n"
     ]
    }
   ],
   "source": [
    "test = main(dataframes_dict)"
   ]
  },
  {
   "cell_type": "code",
   "execution_count": 15,
   "metadata": {},
   "outputs": [
    {
     "data": {
      "text/html": [
       "<table border='1'>\n",
       "<tr><th>Factura</th><th>Clase_factura</th><th>Posicion</th><th>Material</th><th>Volumen</th><th>Unidad_de_medida_Volumen_Destino</th><th>Per_contable</th><th>Ejercicio</th><th>Nombre_cliente</th><th>Numero_de_Cliente</th><th>Cliente_solicitante</th><th>Cliente_Destinatario_de_Mercancia</th><th>Pais_cliente</th><th>Pais_descr</th></tr>\n",
       "<tr><td>0150190076</td><td>YN01</td><td>10</td><td>000000000010010108</td><td>5600.0</td><td>M3</td><td>12</td><td>2020</td><td>Reciclaje de Metales Ingeni...</td><td>164952</td><td>164952</td><td>164952</td><td>CL</td><td>CHILE</td></tr>\n",
       "<tr><td>0150113050</td><td>YPVN</td><td>60</td><td>M100PLY000122</td><td>0.0</td><td>M3</td><td>12</td><td>2020</td><td>null</td><td>null</td><td>17309</td><td>null</td><td>null</td><td>null</td></tr>\n",
       "<tr><td>0150113050</td><td>YPVN</td><td>10</td><td>M100PLY000129</td><td>0.0</td><td>M3</td><td>12</td><td>2020</td><td>null</td><td>169397</td><td>17309</td><td>169397</td><td>null</td><td>null</td></tr>\n",
       "<tr><td>0150113050</td><td>YPVN</td><td>61</td><td>M100PLY000122</td><td>2.8934280639431615</td><td>M3</td><td>12</td><td>2020</td><td>null</td><td>null</td><td>17309</td><td>null</td><td>null</td><td>null</td></tr>\n",
       "<tr><td>0150113050</td><td>YPVN</td><td>62</td><td>M100PLY000122</td><td>2.8934280639431615</td><td>M3</td><td>12</td><td>2020</td><td>null</td><td>null</td><td>17309</td><td>null</td><td>null</td><td>null</td></tr>\n",
       "<tr><td>0150113050</td><td>YPVN</td><td>63</td><td>M100PLY000122</td><td>2.8934280639431615</td><td>M3</td><td>12</td><td>2020</td><td>null</td><td>null</td><td>17309</td><td>null</td><td>null</td><td>null</td></tr>\n",
       "<tr><td>0150113050</td><td>YPVN</td><td>64</td><td>M100PLY000122</td><td>2.8934280639431615</td><td>M3</td><td>12</td><td>2020</td><td>null</td><td>null</td><td>17309</td><td>null</td><td>null</td><td>null</td></tr>\n",
       "<tr><td>0150113050</td><td>YPVN</td><td>65</td><td>M100PLY000122</td><td>2.8934280639431615</td><td>M3</td><td>12</td><td>2020</td><td>null</td><td>null</td><td>17309</td><td>null</td><td>null</td><td>null</td></tr>\n",
       "<tr><td>0150113050</td><td>YPVN</td><td>66</td><td>M100PLY000122</td><td>2.8934280639431615</td><td>M3</td><td>12</td><td>2020</td><td>null</td><td>null</td><td>17309</td><td>null</td><td>null</td><td>null</td></tr>\n",
       "<tr><td>0150113050</td><td>YPVN</td><td>67</td><td>M100PLY000122</td><td>2.8934280639431615</td><td>M3</td><td>12</td><td>2020</td><td>null</td><td>null</td><td>17309</td><td>null</td><td>null</td><td>null</td></tr>\n",
       "<tr><td>0150113050</td><td>YPVN</td><td>68</td><td>M100PLY000122</td><td>2.8934280639431615</td><td>M3</td><td>12</td><td>2020</td><td>null</td><td>null</td><td>17309</td><td>null</td><td>null</td><td>null</td></tr>\n",
       "<tr><td>0150113050</td><td>YPVN</td><td>69</td><td>M100PLY000122</td><td>2.8934280639431615</td><td>M3</td><td>12</td><td>2020</td><td>null</td><td>null</td><td>17309</td><td>null</td><td>null</td><td>null</td></tr>\n",
       "<tr><td>0150113050</td><td>YPVN</td><td>70</td><td>M100PLY000122</td><td>2.8934280639431615</td><td>M3</td><td>12</td><td>2020</td><td>null</td><td>null</td><td>17309</td><td>null</td><td>null</td><td>null</td></tr>\n",
       "<tr><td>0150113050</td><td>YPVN</td><td>71</td><td>M100PLY000122</td><td>2.8934280639431615</td><td>M3</td><td>12</td><td>2020</td><td>null</td><td>null</td><td>17309</td><td>null</td><td>null</td><td>null</td></tr>\n",
       "<tr><td>0150113050</td><td>YPVN</td><td>72</td><td>M100PLY000122</td><td>2.8934280639431615</td><td>M3</td><td>12</td><td>2020</td><td>null</td><td>null</td><td>17309</td><td>null</td><td>null</td><td>null</td></tr>\n",
       "<tr><td>0150113050</td><td>YPVN</td><td>73</td><td>M100PLY000122</td><td>2.8934280639431615</td><td>M3</td><td>12</td><td>2020</td><td>null</td><td>null</td><td>17309</td><td>null</td><td>null</td><td>null</td></tr>\n",
       "<tr><td>0150113050</td><td>YPVN</td><td>74</td><td>M100PLY000122</td><td>2.8934280639431615</td><td>M3</td><td>12</td><td>2020</td><td>null</td><td>null</td><td>17309</td><td>null</td><td>null</td><td>null</td></tr>\n",
       "<tr><td>0150113050</td><td>YPVN</td><td>75</td><td>M100PLY000122</td><td>2.8934280639431615</td><td>M3</td><td>12</td><td>2020</td><td>null</td><td>null</td><td>17309</td><td>null</td><td>null</td><td>null</td></tr>\n",
       "<tr><td>0150113050</td><td>YPVN</td><td>76</td><td>M100PLY000122</td><td>2.8934280639431615</td><td>M3</td><td>12</td><td>2020</td><td>null</td><td>null</td><td>17309</td><td>null</td><td>null</td><td>null</td></tr>\n",
       "<tr><td>0150113050</td><td>YPVN</td><td>77</td><td>M100PLY000122</td><td>2.8934280639431615</td><td>M3</td><td>12</td><td>2020</td><td>null</td><td>null</td><td>17309</td><td>null</td><td>null</td><td>null</td></tr>\n",
       "</table>\n",
       "only showing top 20 rows\n"
      ],
      "text/plain": [
       "+----------+-------------+--------+------------------+------------------+--------------------------------+------------+---------+------------------------------+-----------------+-------------------+---------------------------------+------------+----------+\n",
       "|   Factura|Clase_factura|Posicion|          Material|           Volumen|Unidad_de_medida_Volumen_Destino|Per_contable|Ejercicio|                Nombre_cliente|Numero_de_Cliente|Cliente_solicitante|Cliente_Destinatario_de_Mercancia|Pais_cliente|Pais_descr|\n",
       "+----------+-------------+--------+------------------+------------------+--------------------------------+------------+---------+------------------------------+-----------------+-------------------+---------------------------------+------------+----------+\n",
       "|0150190076|         YN01|      10|000000000010010108|            5600.0|                              M3|          12|     2020|Reciclaje de Metales Ingeni...|           164952|             164952|                           164952|          CL|     CHILE|\n",
       "|0150113050|         YPVN|      60|     M100PLY000122|               0.0|                              M3|          12|     2020|                          null|             null|              17309|                             null|        null|      null|\n",
       "|0150113050|         YPVN|      10|     M100PLY000129|               0.0|                              M3|          12|     2020|                          null|           169397|              17309|                           169397|        null|      null|\n",
       "|0150113050|         YPVN|      61|     M100PLY000122|2.8934280639431615|                              M3|          12|     2020|                          null|             null|              17309|                             null|        null|      null|\n",
       "|0150113050|         YPVN|      62|     M100PLY000122|2.8934280639431615|                              M3|          12|     2020|                          null|             null|              17309|                             null|        null|      null|\n",
       "|0150113050|         YPVN|      63|     M100PLY000122|2.8934280639431615|                              M3|          12|     2020|                          null|             null|              17309|                             null|        null|      null|\n",
       "|0150113050|         YPVN|      64|     M100PLY000122|2.8934280639431615|                              M3|          12|     2020|                          null|             null|              17309|                             null|        null|      null|\n",
       "|0150113050|         YPVN|      65|     M100PLY000122|2.8934280639431615|                              M3|          12|     2020|                          null|             null|              17309|                             null|        null|      null|\n",
       "|0150113050|         YPVN|      66|     M100PLY000122|2.8934280639431615|                              M3|          12|     2020|                          null|             null|              17309|                             null|        null|      null|\n",
       "|0150113050|         YPVN|      67|     M100PLY000122|2.8934280639431615|                              M3|          12|     2020|                          null|             null|              17309|                             null|        null|      null|\n",
       "|0150113050|         YPVN|      68|     M100PLY000122|2.8934280639431615|                              M3|          12|     2020|                          null|             null|              17309|                             null|        null|      null|\n",
       "|0150113050|         YPVN|      69|     M100PLY000122|2.8934280639431615|                              M3|          12|     2020|                          null|             null|              17309|                             null|        null|      null|\n",
       "|0150113050|         YPVN|      70|     M100PLY000122|2.8934280639431615|                              M3|          12|     2020|                          null|             null|              17309|                             null|        null|      null|\n",
       "|0150113050|         YPVN|      71|     M100PLY000122|2.8934280639431615|                              M3|          12|     2020|                          null|             null|              17309|                             null|        null|      null|\n",
       "|0150113050|         YPVN|      72|     M100PLY000122|2.8934280639431615|                              M3|          12|     2020|                          null|             null|              17309|                             null|        null|      null|\n",
       "|0150113050|         YPVN|      73|     M100PLY000122|2.8934280639431615|                              M3|          12|     2020|                          null|             null|              17309|                             null|        null|      null|\n",
       "|0150113050|         YPVN|      74|     M100PLY000122|2.8934280639431615|                              M3|          12|     2020|                          null|             null|              17309|                             null|        null|      null|\n",
       "|0150113050|         YPVN|      75|     M100PLY000122|2.8934280639431615|                              M3|          12|     2020|                          null|             null|              17309|                             null|        null|      null|\n",
       "|0150113050|         YPVN|      76|     M100PLY000122|2.8934280639431615|                              M3|          12|     2020|                          null|             null|              17309|                             null|        null|      null|\n",
       "|0150113050|         YPVN|      77|     M100PLY000122|2.8934280639431615|                              M3|          12|     2020|                          null|             null|              17309|                             null|        null|      null|\n",
       "+----------+-------------+--------+------------------+------------------+--------------------------------+------------+---------+------------------------------+-----------------+-------------------+---------------------------------+------------+----------+\n",
       "only showing top 20 rows"
      ]
     },
     "execution_count": 15,
     "metadata": {},
     "output_type": "execute_result"
    }
   ],
   "source": [
    "dataframes_dict['add_select_columns']"
   ]
  },
  {
   "cell_type": "code",
   "execution_count": 16,
   "metadata": {},
   "outputs": [
    {
     "name": "stdout",
     "output_type": "stream",
     "text": [
      "materiales_original : +-----------------+\n",
      "|     sum(Volumen)|\n",
      "+-----------------+\n",
      "|899471.0868944847|\n",
      "+-----------------+\n",
      "\n",
      "add_select_columns : +-----------------+\n",
      "|     sum(Volumen)|\n",
      "+-----------------+\n",
      "|899471.0868944847|\n",
      "+-----------------+\n",
      "\n"
     ]
    }
   ],
   "source": [
    "print('materiales_original :' , dataframes_dict['materiales'].agg(sum(col('Volumen'))))\n",
    "print('add_select_columns :' ,  dataframes_dict['add_select_columns'].agg(sum(col('Volumen'))))\n",
    "\n"
   ]
  },
  {
   "cell_type": "code",
   "execution_count": 17,
   "metadata": {},
   "outputs": [
    {
     "data": {
      "text/html": [
       "<table border='1'>\n",
       "<tr><th>Tipo_de_Cliente</th><th>Cantidad_Facturas</th></tr>\n",
       "<tr><td>NF</td><td>17</td></tr>\n",
       "<tr><td>SP</td><td>196</td></tr>\n",
       "<tr><td>AV</td><td>530</td></tr>\n",
       "<tr><td>EN</td><td>671</td></tr>\n",
       "<tr><td>SE</td><td>1306</td></tr>\n",
       "<tr><td>VD</td><td>2423</td></tr>\n",
       "<tr><td>RG</td><td>2798</td></tr>\n",
       "<tr><td>VE</td><td>2798</td></tr>\n",
       "<tr><td>RE</td><td>2798</td></tr>\n",
       "<tr><td>AG</td><td>2798</td></tr>\n",
       "<tr><td>WE</td><td>2800</td></tr>\n",
       "</table>\n"
      ],
      "text/plain": [
       "+---------------+-----------------+\n",
       "|Tipo_de_Cliente|Cantidad_Facturas|\n",
       "+---------------+-----------------+\n",
       "|             NF|               17|\n",
       "|             SP|              196|\n",
       "|             AV|              530|\n",
       "|             EN|              671|\n",
       "|             SE|             1306|\n",
       "|             VD|             2423|\n",
       "|             RG|             2798|\n",
       "|             VE|             2798|\n",
       "|             RE|             2798|\n",
       "|             AG|             2798|\n",
       "|             WE|             2800|\n",
       "+---------------+-----------------+"
      ]
     },
     "execution_count": 17,
     "metadata": {},
     "output_type": "execute_result"
    }
   ],
   "source": [
    "#### Cantidad de facturas por tipo cliente\n",
    "dataframes_dict['facturas_por_cliente'].groupBy('Tipo_de_Cliente').agg(count('Factura').alias('Cantidad_Facturas')).orderBy(col('Cantidad_Facturas'))"
   ]
  },
  {
   "cell_type": "code",
   "execution_count": 32,
   "metadata": {},
   "outputs": [
    {
     "name": "stdout",
     "output_type": "stream",
     "text": [
      "+------------+---------------------------------+------------------+\n",
      "|Pais_cliente|Cliente_Destinatario_de_Mercancia|Volumen_total     |\n",
      "+------------+---------------------------------+------------------+\n",
      "|null        |169539                           |445009.6594002447 |\n",
      "|null        |null                             |225016.99347758506|\n",
      "|CL          |164952                           |112860.0          |\n",
      "|CL          |243596                           |112000.0          |\n",
      "|DK          |68848                            |512.6345536023433 |\n",
      "|AE          |286394                           |400.4             |\n",
      "|null        |169454                           |286.34562670005977|\n",
      "|MX          |119088                           |208.32682060390763|\n",
      "|GB          |52407                            |206.51459230313796|\n",
      "|ES          |66146                            |188.65469947559498|\n",
      "+------------+---------------------------------+------------------+\n",
      "only showing top 10 rows\n",
      "\n"
     ]
    }
   ],
   "source": [
    "dataframes_dict['add_select_columns'].groupBy('Pais_cliente', 'Cliente_Destinatario_de_Mercancia').agg(sum('Volumen').alias('Volumen_total')).orderBy(col('Volumen_total').desc()).show(10, False)"
   ]
  },
  {
   "cell_type": "code",
   "execution_count": 35,
   "metadata": {},
   "outputs": [
    {
     "name": "stdout",
     "output_type": "stream",
     "text": [
      "+-------------------+------------------+\n",
      "|Cliente_solicitante|Volumen_total     |\n",
      "+-------------------+------------------+\n",
      "|15847              |446360.3014697138 |\n",
      "|243596             |122000.0          |\n",
      "|164952             |118530.0          |\n",
      "|C6102              |10610.667462500058|\n",
      "|C6108              |8836.122548012454 |\n",
      "+-------------------+------------------+\n",
      "only showing top 5 rows\n",
      "\n"
     ]
    }
   ],
   "source": [
    "dataframes_dict['add_select_columns'].groupBy('Cliente_solicitante').agg(sum('Volumen').alias('Volumen_total')).orderBy(col('Volumen_total').desc()).show(5, False)"
   ]
  },
  {
   "cell_type": "code",
   "execution_count": 38,
   "metadata": {},
   "outputs": [
    {
     "name": "stdout",
     "output_type": "stream",
     "text": [
      "+-------------+------------------+\n",
      "|Clase_factura|Volumen_total     |\n",
      "+-------------+------------------+\n",
      "|YNDN         |445194.87803089235|\n",
      "|YN01         |240556.0          |\n",
      "|YPVE         |103025.39805597173|\n",
      "|ZINM         |55830.77846639777 |\n",
      "|YPVN         |47180.698345900484|\n",
      "|YSDE         |4537.500745486273 |\n",
      "|YSCE         |1578.4242525546445|\n",
      "|YSDN         |654.7385285745437 |\n",
      "|YSCN         |351.38799145984177|\n",
      "|YPBN         |295.21406943976496|\n",
      "|YNDE         |266.0684079870466 |\n",
      "|ZB03         |0.0               |\n",
      "|ZB13         |0.0               |\n",
      "|ZB01         |0.0               |\n",
      "+-------------+------------------+\n",
      "\n"
     ]
    }
   ],
   "source": [
    "dataframes_dict['add_select_columns'].groupBy('Clase_factura').agg(sum('Volumen').alias('Volumen_total')).orderBy(col('Volumen_total').desc()).show(9999999, False)"
   ]
  },
  {
   "cell_type": "markdown",
   "metadata": {},
   "source": [
    "#### Falta hacer el parquet para las consultas\n",
    "#### Falta dejar solo las consultas en notebook lo demas va en el .py"
   ]
  }
 ],
 "metadata": {
  "kernelspec": {
   "display_name": "Python 3.10.6 64-bit",
   "language": "python",
   "name": "python3"
  },
  "language_info": {
   "codemirror_mode": {
    "name": "ipython",
    "version": 3
   },
   "file_extension": ".py",
   "mimetype": "text/x-python",
   "name": "python",
   "nbconvert_exporter": "python",
   "pygments_lexer": "ipython3",
   "version": "3.10.6"
  },
  "orig_nbformat": 4,
  "vscode": {
   "interpreter": {
    "hash": "b0fa6594d8f4cbf19f97940f81e996739fb7646882a419484c72d19e05852a7e"
   }
  }
 },
 "nbformat": 4,
 "nbformat_minor": 2
}
