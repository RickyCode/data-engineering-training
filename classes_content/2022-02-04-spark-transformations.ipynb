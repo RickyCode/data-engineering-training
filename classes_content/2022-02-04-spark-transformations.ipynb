{
 "cells": [
  {
   "cell_type": "markdown",
   "metadata": {},
   "source": [
    "# Transformaciones con Pyspark 2"
   ]
  },
  {
   "cell_type": "markdown",
   "metadata": {},
   "source": [
    "---\n",
    "\n",
    "## Primero lo primero... importamos los módulos que usaremos"
   ]
  },
  {
   "cell_type": "code",
   "execution_count": 1,
   "metadata": {},
   "outputs": [],
   "source": [
    "from pyspark.sql import SparkSession, SQLContext\n",
    "from pyspark.sql.functions import col, lit, concat\n",
    "\n",
    "from pyspark.sql.types import IntegerType, StringType, FloatType"
   ]
  },
  {
   "cell_type": "markdown",
   "metadata": {},
   "source": [
    "## Nos conectamos:"
   ]
  },
  {
   "cell_type": "code",
   "execution_count": 2,
   "metadata": {},
   "outputs": [
    {
     "name": "stderr",
     "output_type": "stream",
     "text": [
      "C:\\Users\\rdelr\\AppData\\Local\\Programs\\Python\\Python39\\lib\\site-packages\\pyspark\\sql\\context.py:77: FutureWarning: Deprecated in 3.0.0. Use SparkSession.builder.getOrCreate() instead.\n",
      "  warnings.warn(\n"
     ]
    }
   ],
   "source": [
    "# spark_session = SparkSession.builder.appName('data engineering training').getOrCreate()\n",
    "spark_session = (\n",
    "    SparkSession\n",
    "        .builder\n",
    "        .appName('data engineering training')\n",
    "        .getOrCreate()\n",
    ")\n",
    "spark_context = spark_session.sparkContext\n",
    "sql_context = SQLContext(spark_context)"
   ]
  },
  {
   "cell_type": "markdown",
   "metadata": {},
   "source": [
    "## Leemos el dataframe"
   ]
  },
  {
   "cell_type": "code",
   "execution_count": 3,
   "metadata": {},
   "outputs": [
    {
     "name": "stdout",
     "output_type": "stream",
     "text": [
      "+---+----------+----------------+---------+----+----------+-----+\n",
      "|_c0|student_id|    student_name|  subject|year|      date|score|\n",
      "+---+----------+----------------+---------+----+----------+-----+\n",
      "|  0|         1|    Ada Lovelace|Filosofía|2020|2020-03-31|  4.4|\n",
      "|  1|         2|     Hedy Lamarr|Filosofía|2020|2020-03-31|  5.7|\n",
      "|  2|         3|     Jude Milhon|Filosofía|2020|2020-03-31|  3.8|\n",
      "|  3|         4|     Ángela Ruiz|Filosofía|2020|2020-03-31|  6.9|\n",
      "|  4|         5|      Carol Shaw|Filosofía|2020|2020-03-31|  6.8|\n",
      "|  5|         6| Marisol Alarcón|Filosofía|2020|2020-03-31|  6.1|\n",
      "|  6|         7|    Katie Bouman|Filosofía|2020|2020-03-31|  3.4|\n",
      "|  7|         8|     Alan Turing|Filosofía|2020|2020-03-31|  6.7|\n",
      "|  8|         9|Jhon von Neumann|Filosofía|2020|2020-03-31|  6.3|\n",
      "|  9|        10|Richard Stallman|Filosofía|2020|2020-03-31|  3.8|\n",
      "| 10|         1|    Ada Lovelace|Filosofía|2020|2020-06-31|  5.7|\n",
      "| 11|         2|     Hedy Lamarr|Filosofía|2020|2020-06-31|  4.4|\n",
      "| 12|         3|     Jude Milhon|Filosofía|2020|2020-06-31|  4.3|\n",
      "| 13|         4|     Ángela Ruiz|Filosofía|2020|2020-06-31|  6.3|\n",
      "| 14|         5|      Carol Shaw|Filosofía|2020|2020-06-31|  6.4|\n",
      "| 15|         6| Marisol Alarcón|Filosofía|2020|2020-06-31|  6.8|\n",
      "| 16|         7|    Katie Bouman|Filosofía|2020|2020-06-31|  4.4|\n",
      "| 17|         8|     Alan Turing|Filosofía|2020|2020-06-31|  3.4|\n",
      "| 18|         9|Jhon von Neumann|Filosofía|2020|2020-06-31|  3.0|\n",
      "| 19|        10|Richard Stallman|Filosofía|2020|2020-06-31|  5.4|\n",
      "+---+----------+----------------+---------+----+----------+-----+\n",
      "only showing top 20 rows\n",
      "\n"
     ]
    }
   ],
   "source": [
    "scores_df = (\n",
    "    sql_context\n",
    "        .read\n",
    "        .option('header', True)\n",
    "        .csv('student_scores_2020.csv')\n",
    ")\n",
    "\n",
    "scores_df.show()"
   ]
  },
  {
   "cell_type": "code",
   "execution_count": null,
   "metadata": {},
   "outputs": [],
   "source": []
  },
  {
   "cell_type": "markdown",
   "metadata": {},
   "source": [
    "\n",
    "---"
   ]
  },
  {
   "cell_type": "code",
   "execution_count": 4,
   "metadata": {},
   "outputs": [
    {
     "data": {
      "text/plain": [
       "[1, 2, 3, 'hola', []]"
      ]
     },
     "execution_count": 4,
     "metadata": {},
     "output_type": "execute_result"
    }
   ],
   "source": [
    "my_list = [1, 2, 3, 'hola', []]\n",
    "\n",
    "my_list"
   ]
  },
  {
   "cell_type": "code",
   "execution_count": 5,
   "metadata": {},
   "outputs": [],
   "source": [
    "my_list[2] = 6538432849327"
   ]
  },
  {
   "cell_type": "code",
   "execution_count": 6,
   "metadata": {},
   "outputs": [
    {
     "data": {
      "text/plain": [
       "[1, 2, 6538432849327, 'hola', []]"
      ]
     },
     "execution_count": 6,
     "metadata": {},
     "output_type": "execute_result"
    }
   ],
   "source": [
    "my_list"
   ]
  },
  {
   "cell_type": "code",
   "execution_count": 7,
   "metadata": {},
   "outputs": [
    {
     "data": {
      "text/plain": [
       "(1, 2, 3, 4, 5, 'fdashldsa', [], ())"
      ]
     },
     "execution_count": 7,
     "metadata": {},
     "output_type": "execute_result"
    }
   ],
   "source": [
    "my_tuple = (1,2,3,4,5,'fdashldsa', [], ())\n",
    "my_tuple"
   ]
  },
  {
   "cell_type": "code",
   "execution_count": 8,
   "metadata": {},
   "outputs": [],
   "source": [
    "# my_tuple[2] = 47109437021"
   ]
  },
  {
   "cell_type": "code",
   "execution_count": 9,
   "metadata": {},
   "outputs": [
    {
     "data": {
      "text/plain": [
       "{1, 2, 3, 4, 5}"
      ]
     },
     "execution_count": 9,
     "metadata": {},
     "output_type": "execute_result"
    }
   ],
   "source": [
    "my_set = {1, 1, 2, 2, 3, 3, 4, 4, 5, 5}\n",
    "\n",
    "my_set"
   ]
  },
  {
   "cell_type": "code",
   "execution_count": 10,
   "metadata": {},
   "outputs": [],
   "source": [
    "my_dict = {'key1':'value', }"
   ]
  },
  {
   "cell_type": "markdown",
   "metadata": {},
   "source": [
    "---"
   ]
  },
  {
   "cell_type": "code",
   "execution_count": 11,
   "metadata": {},
   "outputs": [
    {
     "name": "stdout",
     "output_type": "stream",
     "text": [
      "***** Row(_c0='0', student_id='1', student_name='Ada Lovelace', subject='Filosofía', year='2020', date='2020-03-31', score='4.4')\n",
      "***** Row(_c0='1', student_id='2', student_name='Hedy Lamarr', subject='Filosofía', year='2020', date='2020-03-31', score='5.7')\n",
      "***** Row(_c0='2', student_id='3', student_name='Jude Milhon', subject='Filosofía', year='2020', date='2020-03-31', score='3.8')\n",
      "***** Row(_c0='3', student_id='4', student_name='Ángela Ruiz', subject='Filosofía', year='2020', date='2020-03-31', score='6.9')\n",
      "***** Row(_c0='4', student_id='5', student_name='Carol Shaw', subject='Filosofía', year='2020', date='2020-03-31', score='6.8')\n"
     ]
    }
   ],
   "source": [
    "row_list = scores_df.head(5)\n",
    "\n",
    "for row in row_list:\n",
    "    print('*****', row)\n",
    "\n",
    "\n"
   ]
  },
  {
   "cell_type": "code",
   "execution_count": 12,
   "metadata": {},
   "outputs": [
    {
     "name": "stdout",
     "output_type": "stream",
     "text": [
      "+---+----------+----------------+---------+----+----------+-----+\n",
      "|_c0|student_id|    student_name|  subject|year|      date|score|\n",
      "+---+----------+----------------+---------+----+----------+-----+\n",
      "|  0|         1|    Ada Lovelace|Filosofía|2020|2020-03-31|  4.4|\n",
      "|  1|         2|     Hedy Lamarr|Filosofía|2020|2020-03-31|  5.7|\n",
      "|  2|         3|     Jude Milhon|Filosofía|2020|2020-03-31|  3.8|\n",
      "|  3|         4|     Ángela Ruiz|Filosofía|2020|2020-03-31|  6.9|\n",
      "|  4|         5|      Carol Shaw|Filosofía|2020|2020-03-31|  6.8|\n",
      "|  5|         6| Marisol Alarcón|Filosofía|2020|2020-03-31|  6.1|\n",
      "|  6|         7|    Katie Bouman|Filosofía|2020|2020-03-31|  3.4|\n",
      "|  7|         8|     Alan Turing|Filosofía|2020|2020-03-31|  6.7|\n",
      "|  8|         9|Jhon von Neumann|Filosofía|2020|2020-03-31|  6.3|\n",
      "|  9|        10|Richard Stallman|Filosofía|2020|2020-03-31|  3.8|\n",
      "| 10|         1|    Ada Lovelace|Filosofía|2020|2020-06-31|  5.7|\n",
      "| 11|         2|     Hedy Lamarr|Filosofía|2020|2020-06-31|  4.4|\n",
      "| 12|         3|     Jude Milhon|Filosofía|2020|2020-06-31|  4.3|\n",
      "| 13|         4|     Ángela Ruiz|Filosofía|2020|2020-06-31|  6.3|\n",
      "| 14|         5|      Carol Shaw|Filosofía|2020|2020-06-31|  6.4|\n",
      "| 15|         6| Marisol Alarcón|Filosofía|2020|2020-06-31|  6.8|\n",
      "| 16|         7|    Katie Bouman|Filosofía|2020|2020-06-31|  4.4|\n",
      "| 17|         8|     Alan Turing|Filosofía|2020|2020-06-31|  3.4|\n",
      "| 18|         9|Jhon von Neumann|Filosofía|2020|2020-06-31|  3.0|\n",
      "| 19|        10|Richard Stallman|Filosofía|2020|2020-06-31|  5.4|\n",
      "+---+----------+----------------+---------+----+----------+-----+\n",
      "only showing top 20 rows\n",
      "\n"
     ]
    }
   ],
   "source": [
    "scores_df.show()"
   ]
  },
  {
   "cell_type": "markdown",
   "metadata": {},
   "source": [
    "## 2) Fe de Erratas: Las funciones que se importan nos sirven para usarlas dentro de otras funciones."
   ]
  },
  {
   "cell_type": "code",
   "execution_count": 13,
   "metadata": {},
   "outputs": [],
   "source": [
    "\n",
    "from pyspark.sql.functions import (\n",
    "    min as spark_min,\n",
    "    max as spark_max,\n",
    "    avg as spark_avg,\n",
    "    sum as spark_sum,\n",
    "    round as spark_round,\n",
    "    row_number\n",
    ")\n"
   ]
  },
  {
   "cell_type": "code",
   "execution_count": 14,
   "metadata": {},
   "outputs": [
    {
     "data": {
      "text/plain": [
       "5.484"
      ]
     },
     "execution_count": 14,
     "metadata": {},
     "output_type": "execute_result"
    }
   ],
   "source": [
    "round(5.48379017492074, 3)"
   ]
  },
  {
   "cell_type": "code",
   "execution_count": 15,
   "metadata": {},
   "outputs": [
    {
     "name": "stdout",
     "output_type": "stream",
     "text": [
      "+--------------------+----------+----------+-----------------+\n",
      "|round(sum(score), 0)|min(score)|max(score)|       avg(score)|\n",
      "+--------------------+----------+----------+-----------------+\n",
      "|              1210.0|       3.0|       6.9|5.042083333333329|\n",
      "+--------------------+----------+----------+-----------------+\n",
      "\n"
     ]
    }
   ],
   "source": [
    "(\n",
    "    scores_df\n",
    "        .agg(spark_round(spark_sum(col('score'))), spark_min(col('score')), spark_max(col('score')), spark_avg(col('score')))\n",
    ").show()"
   ]
  },
  {
   "cell_type": "markdown",
   "metadata": {},
   "source": [
    "## group by\n"
   ]
  },
  {
   "cell_type": "code",
   "execution_count": 16,
   "metadata": {},
   "outputs": [
    {
     "name": "stdout",
     "output_type": "stream",
     "text": [
      "+----------------+-------------------+-----------------+\n",
      "|    student_name|            subject|       avg(score)|\n",
      "+----------------+-------------------+-----------------+\n",
      "|     Ángela Ruiz|       Neurociencia|5.074999928474426|\n",
      "|     Hedy Lamarr|         Psicología|5.174999952316284|\n",
      "| Marisol Alarcón|   Educación Cívica|5.200000047683716|\n",
      "|     Alan Turing|       Neurociencia|5.075000047683716|\n",
      "|    Ada Lovelace|Finanzas y Economía|5.025000035762787|\n",
      "|    Ada Lovelace|       Programación|4.674999952316284|\n",
      "|     Jude Milhon|       Neurociencia|5.024999976158142|\n",
      "|Jhon von Neumann|         Psicología|5.274999976158142|\n",
      "|Richard Stallman|Finanzas y Economía|4.400000035762787|\n",
      "|    Katie Bouman|Finanzas y Economía|             5.25|\n",
      "|      Carol Shaw|          Filosofía|5.150000095367432|\n",
      "|     Jude Milhon|   Educación Cívica|5.199999988079071|\n",
      "|     Hedy Lamarr|          Filosofía|5.425000071525574|\n",
      "| Marisol Alarcón|Finanzas y Economía|5.275000035762787|\n",
      "|     Jude Milhon|       Programación|5.299999952316284|\n",
      "|     Alan Turing|          Filosofía|4.649999976158142|\n",
      "|     Jude Milhon|          Filosofía|5.074999988079071|\n",
      "|     Ángela Ruiz|          Filosofía|6.650000095367432|\n",
      "|Jhon von Neumann|   Educación Cívica|             6.25|\n",
      "|Richard Stallman|       Neurociencia|5.975000023841858|\n",
      "+----------------+-------------------+-----------------+\n",
      "only showing top 20 rows\n",
      "\n"
     ]
    }
   ],
   "source": [
    " (\n",
    "scores_df\n",
    "    .withColumn('score', col('score').cast(FloatType()))\n",
    "    .groupBy('student_name', 'subject').avg('score')\n",
    " ).show()"
   ]
  },
  {
   "cell_type": "code",
   "execution_count": 17,
   "metadata": {},
   "outputs": [],
   "source": [
    "# scores_df = scores_df.withColumn('score', col('score').cast(FloatType()))\n",
    "# scores_df = scores_df.groupBy('student_name', 'subject').avg('score')\n",
    "\n",
    "# scores_df.show()"
   ]
  },
  {
   "cell_type": "markdown",
   "metadata": {},
   "source": [
    "## Windows Functions"
   ]
  },
  {
   "cell_type": "code",
   "execution_count": 18,
   "metadata": {},
   "outputs": [],
   "source": [
    "from pyspark.sql.window import Window"
   ]
  },
  {
   "cell_type": "code",
   "execution_count": 19,
   "metadata": {},
   "outputs": [],
   "source": [
    "from pyspark.sql.functions import row_number"
   ]
  },
  {
   "cell_type": "code",
   "execution_count": 20,
   "metadata": {},
   "outputs": [
    {
     "name": "stdout",
     "output_type": "stream",
     "text": [
      "+---+----------+---------------+-------------------+----+----------+-----+------------------+------------------+----------+\n",
      "|_c0|student_id|   student_name|            subject|year|      date|score|              prom|               sum|row_number|\n",
      "+---+----------+---------------+-------------------+----+----------+-----+------------------+------------------+----------+\n",
      "|233|         4|    Ángela Ruiz|       Neurociencia|2020|2020-12-17|  5.7|               5.7|               5.7|         1|\n",
      "|223|         4|    Ángela Ruiz|       Neurociencia|2020|2020-09-20|  4.3|               5.0|              10.0|         2|\n",
      "|213|         4|    Ángela Ruiz|       Neurociencia|2020|2020-06-31|  4.7|4.8999999999999995|              14.7|         3|\n",
      "|203|         4|    Ángela Ruiz|       Neurociencia|2020|2020-03-31|  5.6| 5.074999999999999|20.299999999999997|         4|\n",
      "|191|         2|    Hedy Lamarr|         Psicología|2020|2020-12-17|  6.6|               6.6|               6.6|         1|\n",
      "|181|         2|    Hedy Lamarr|         Psicología|2020|2020-09-20|  3.4|               5.0|              10.0|         2|\n",
      "|171|         2|    Hedy Lamarr|         Psicología|2020|2020-06-31|  6.2|5.3999999999999995|              16.2|         3|\n",
      "|161|         2|    Hedy Lamarr|         Psicología|2020|2020-03-31|  4.5|             5.175|              20.7|         4|\n",
      "|115|         6|Marisol Alarcón|   Educación Cívica|2020|2020-12-17|  4.7|               4.7|               4.7|         1|\n",
      "|105|         6|Marisol Alarcón|   Educación Cívica|2020|2020-09-20|  4.4| 4.550000000000001| 9.100000000000001|         2|\n",
      "| 95|         6|Marisol Alarcón|   Educación Cívica|2020|2020-06-31|  6.9| 5.333333333333333|              16.0|         3|\n",
      "| 85|         6|Marisol Alarcón|   Educación Cívica|2020|2020-03-31|  4.8|               5.2|              20.8|         4|\n",
      "|237|         8|    Alan Turing|       Neurociencia|2020|2020-12-17|  4.5|               4.5|               4.5|         1|\n",
      "|227|         8|    Alan Turing|       Neurociencia|2020|2020-09-20|  5.4|              4.95|               9.9|         2|\n",
      "|217|         8|    Alan Turing|       Neurociencia|2020|2020-06-31|  6.3|5.3999999999999995|              16.2|         3|\n",
      "|207|         8|    Alan Turing|       Neurociencia|2020|2020-03-31|  4.1| 5.074999999999999|20.299999999999997|         4|\n",
      "|150|         1|   Ada Lovelace|Finanzas y Economía|2020|2020-12-17|  5.3|               5.3|               5.3|         1|\n",
      "|140|         1|   Ada Lovelace|Finanzas y Economía|2020|2020-09-20|  3.7|               4.5|               9.0|         2|\n",
      "|130|         1|   Ada Lovelace|Finanzas y Economía|2020|2020-06-31|  6.4| 5.133333333333334|              15.4|         3|\n",
      "|120|         1|   Ada Lovelace|Finanzas y Economía|2020|2020-03-31|  4.7|             5.025|              20.1|         4|\n",
      "+---+----------+---------------+-------------------+----+----------+-----+------------------+------------------+----------+\n",
      "only showing top 20 rows\n",
      "\n"
     ]
    }
   ],
   "source": [
    "student_window = Window.partitionBy('student_name', 'subject').orderBy(col('date').desc())\n",
    "\n",
    "\n",
    "(\n",
    "    scores_df\n",
    "        .withColumn('prom', spark_avg('score').over(student_window))\n",
    "        .withColumn('sum', spark_sum('score').over(student_window))\n",
    "        .withColumn('row_number', row_number().over(student_window))\n",
    ").show()"
   ]
  },
  {
   "cell_type": "code",
   "execution_count": 21,
   "metadata": {},
   "outputs": [
    {
     "name": "stdout",
     "output_type": "stream",
     "text": [
      "+---+----------+----------------+-------------------+----+----------+-----+----------+\n",
      "|_c0|student_id|    student_name|            subject|year|      date|score|row_number|\n",
      "+---+----------+----------------+-------------------+----+----------+-----+----------+\n",
      "|203|         4|     Ángela Ruiz|       Neurociencia|2020|2020-03-31|  5.6|         1|\n",
      "|161|         2|     Hedy Lamarr|         Psicología|2020|2020-03-31|  4.5|         1|\n",
      "| 85|         6| Marisol Alarcón|   Educación Cívica|2020|2020-03-31|  4.8|         1|\n",
      "|207|         8|     Alan Turing|       Neurociencia|2020|2020-03-31|  4.1|         1|\n",
      "|120|         1|    Ada Lovelace|Finanzas y Economía|2020|2020-03-31|  4.7|         1|\n",
      "| 40|         1|    Ada Lovelace|       Programación|2020|2020-03-31|  4.6|         1|\n",
      "|202|         3|     Jude Milhon|       Neurociencia|2020|2020-03-31|  3.5|         1|\n",
      "|168|         9|Jhon von Neumann|         Psicología|2020|2020-03-31|  3.4|         1|\n",
      "|129|        10|Richard Stallman|Finanzas y Economía|2020|2020-03-31|  3.4|         1|\n",
      "|126|         7|    Katie Bouman|Finanzas y Economía|2020|2020-03-31|  5.1|         1|\n",
      "|  4|         5|      Carol Shaw|          Filosofía|2020|2020-03-31|  6.8|         1|\n",
      "| 82|         3|     Jude Milhon|   Educación Cívica|2020|2020-03-31|  6.0|         1|\n",
      "|  1|         2|     Hedy Lamarr|          Filosofía|2020|2020-03-31|  5.7|         1|\n",
      "|125|         6| Marisol Alarcón|Finanzas y Economía|2020|2020-03-31|  4.6|         1|\n",
      "| 42|         3|     Jude Milhon|       Programación|2020|2020-03-31|  4.9|         1|\n",
      "|  7|         8|     Alan Turing|          Filosofía|2020|2020-03-31|  6.7|         1|\n",
      "|  2|         3|     Jude Milhon|          Filosofía|2020|2020-03-31|  3.8|         1|\n",
      "|  3|         4|     Ángela Ruiz|          Filosofía|2020|2020-03-31|  6.9|         1|\n",
      "| 88|         9|Jhon von Neumann|   Educación Cívica|2020|2020-03-31|  5.7|         1|\n",
      "|209|        10|Richard Stallman|       Neurociencia|2020|2020-03-31|  6.9|         1|\n",
      "+---+----------+----------------+-------------------+----+----------+-----+----------+\n",
      "only showing top 20 rows\n",
      "\n"
     ]
    }
   ],
   "source": [
    "student_window = Window.partitionBy('student_name', 'subject').orderBy(col('date').asc())\n",
    "\n",
    "\n",
    "(\n",
    "    scores_df\n",
    "        .withColumn('row_number', row_number().over(student_window))\n",
    "        .where(col('row_number') == 1)\n",
    ").show()"
   ]
  },
  {
   "cell_type": "markdown",
   "metadata": {},
   "source": [
    "## Joins"
   ]
  },
  {
   "cell_type": "code",
   "execution_count": 22,
   "metadata": {},
   "outputs": [
    {
     "name": "stdout",
     "output_type": "stream",
     "text": [
      "+---+----------+----------------+---------+----+----------+-----+\n",
      "|_c0|student_id|    student_name|  subject|year|      date|score|\n",
      "+---+----------+----------------+---------+----+----------+-----+\n",
      "|  0|         1|    Ada Lovelace|Filosofía|2020|2020-03-31|  4.4|\n",
      "|  1|         2|     Hedy Lamarr|Filosofía|2020|2020-03-31|  5.7|\n",
      "|  2|         3|     Jude Milhon|Filosofía|2020|2020-03-31|  3.8|\n",
      "|  3|         4|     Ángela Ruiz|Filosofía|2020|2020-03-31|  6.9|\n",
      "|  4|         5|      Carol Shaw|Filosofía|2020|2020-03-31|  6.8|\n",
      "|  5|         6| Marisol Alarcón|Filosofía|2020|2020-03-31|  6.1|\n",
      "|  6|         7|    Katie Bouman|Filosofía|2020|2020-03-31|  3.4|\n",
      "|  7|         8|     Alan Turing|Filosofía|2020|2020-03-31|  6.7|\n",
      "|  8|         9|Jhon von Neumann|Filosofía|2020|2020-03-31|  6.3|\n",
      "|  9|        10|Richard Stallman|Filosofía|2020|2020-03-31|  3.8|\n",
      "| 10|         1|    Ada Lovelace|Filosofía|2020|2020-06-31|  5.7|\n",
      "| 11|         2|     Hedy Lamarr|Filosofía|2020|2020-06-31|  4.4|\n",
      "| 12|         3|     Jude Milhon|Filosofía|2020|2020-06-31|  4.3|\n",
      "| 13|         4|     Ángela Ruiz|Filosofía|2020|2020-06-31|  6.3|\n",
      "| 14|         5|      Carol Shaw|Filosofía|2020|2020-06-31|  6.4|\n",
      "| 15|         6| Marisol Alarcón|Filosofía|2020|2020-06-31|  6.8|\n",
      "| 16|         7|    Katie Bouman|Filosofía|2020|2020-06-31|  4.4|\n",
      "| 17|         8|     Alan Turing|Filosofía|2020|2020-06-31|  3.4|\n",
      "| 18|         9|Jhon von Neumann|Filosofía|2020|2020-06-31|  3.0|\n",
      "| 19|        10|Richard Stallman|Filosofía|2020|2020-06-31|  5.4|\n",
      "+---+----------+----------------+---------+----+----------+-----+\n",
      "only showing top 20 rows\n",
      "\n"
     ]
    }
   ],
   "source": [
    "scores_df.show()"
   ]
  },
  {
   "cell_type": "code",
   "execution_count": 23,
   "metadata": {},
   "outputs": [
    {
     "name": "stdout",
     "output_type": "stream",
     "text": [
      "+---+----------+----------------+---------+----+----------+-----+\n",
      "|_c0|student_id|    student_name|  subject|year|      date|score|\n",
      "+---+----------+----------------+---------+----+----------+-----+\n",
      "|240|         1|    Ada Lovelace|Filosofía|2021|2021-03-31|  5.0|\n",
      "|241|         2|     Hedy Lamarr|Filosofía|2021|2021-03-31|  6.3|\n",
      "|242|         3|     Jude Milhon|Filosofía|2021|2021-03-31|  5.6|\n",
      "|243|         4|     Ángela Ruiz|Filosofía|2021|2021-03-31|  5.5|\n",
      "|244|         5|      Carol Shaw|Filosofía|2021|2021-03-31|  3.3|\n",
      "|245|         6| Marisol Alarcón|Filosofía|2021|2021-03-31|  5.1|\n",
      "|246|         7|    Katie Bouman|Filosofía|2021|2021-03-31|  3.6|\n",
      "|247|         8|     Alan Turing|Filosofía|2021|2021-03-31|  5.9|\n",
      "|248|         9|Jhon von Neumann|Filosofía|2021|2021-03-31|  4.9|\n",
      "|249|        10|Richard Stallman|Filosofía|2021|2021-03-31|  6.8|\n",
      "|250|         1|    Ada Lovelace|Filosofía|2021|2021-06-31|  6.8|\n",
      "|251|         2|     Hedy Lamarr|Filosofía|2021|2021-06-31|  5.6|\n",
      "|252|         3|     Jude Milhon|Filosofía|2021|2021-06-31|  3.1|\n",
      "|253|         4|     Ángela Ruiz|Filosofía|2021|2021-06-31|  6.4|\n",
      "|254|         5|      Carol Shaw|Filosofía|2021|2021-06-31|  6.4|\n",
      "|255|         6| Marisol Alarcón|Filosofía|2021|2021-06-31|  4.8|\n",
      "|256|         7|    Katie Bouman|Filosofía|2021|2021-06-31|  6.3|\n",
      "|257|         8|     Alan Turing|Filosofía|2021|2021-06-31|  3.7|\n",
      "|258|         9|Jhon von Neumann|Filosofía|2021|2021-06-31|  3.4|\n",
      "|259|        10|Richard Stallman|Filosofía|2021|2021-06-31|  5.5|\n",
      "+---+----------+----------------+---------+----+----------+-----+\n",
      "only showing top 20 rows\n",
      "\n"
     ]
    }
   ],
   "source": [
    "scores_df_2021 = (\n",
    "    sql_context\n",
    "        .read\n",
    "        .option('header', True)\n",
    "        .csv('student_scores_2021.csv')\n",
    ")\n",
    "\n",
    "scores_df_2021.show()"
   ]
  },
  {
   "cell_type": "code",
   "execution_count": 24,
   "metadata": {},
   "outputs": [
    {
     "name": "stdout",
     "output_type": "stream",
     "text": [
      "+---+----------+------------+---------+----+----------+-----+---+----------+------------+---------+----+----------+-----+\n",
      "|_c0|student_id|student_name|subject  |year|date      |score|_c0|student_id|student_name|subject  |year|date      |score|\n",
      "+---+----------+------------+---------+----+----------+-----+---+----------+------------+---------+----+----------+-----+\n",
      "|30 |1         |Ada Lovelace|Filosofía|2020|2020-12-17|5.3  |240|1         |Ada Lovelace|Filosofía|2021|2021-03-31|5.0  |\n",
      "|20 |1         |Ada Lovelace|Filosofía|2020|2020-09-20|3.8  |240|1         |Ada Lovelace|Filosofía|2021|2021-03-31|5.0  |\n",
      "|10 |1         |Ada Lovelace|Filosofía|2020|2020-06-31|5.7  |240|1         |Ada Lovelace|Filosofía|2021|2021-03-31|5.0  |\n",
      "|0  |1         |Ada Lovelace|Filosofía|2020|2020-03-31|4.4  |240|1         |Ada Lovelace|Filosofía|2021|2021-03-31|5.0  |\n",
      "|31 |2         |Hedy Lamarr |Filosofía|2020|2020-12-17|5.3  |241|2         |Hedy Lamarr |Filosofía|2021|2021-03-31|6.3  |\n",
      "|21 |2         |Hedy Lamarr |Filosofía|2020|2020-09-20|6.3  |241|2         |Hedy Lamarr |Filosofía|2021|2021-03-31|6.3  |\n",
      "|11 |2         |Hedy Lamarr |Filosofía|2020|2020-06-31|4.4  |241|2         |Hedy Lamarr |Filosofía|2021|2021-03-31|6.3  |\n",
      "|1  |2         |Hedy Lamarr |Filosofía|2020|2020-03-31|5.7  |241|2         |Hedy Lamarr |Filosofía|2021|2021-03-31|6.3  |\n",
      "|32 |3         |Jude Milhon |Filosofía|2020|2020-12-17|6.7  |242|3         |Jude Milhon |Filosofía|2021|2021-03-31|5.6  |\n",
      "|22 |3         |Jude Milhon |Filosofía|2020|2020-09-20|5.5  |242|3         |Jude Milhon |Filosofía|2021|2021-03-31|5.6  |\n",
      "|12 |3         |Jude Milhon |Filosofía|2020|2020-06-31|4.3  |242|3         |Jude Milhon |Filosofía|2021|2021-03-31|5.6  |\n",
      "|2  |3         |Jude Milhon |Filosofía|2020|2020-03-31|3.8  |242|3         |Jude Milhon |Filosofía|2021|2021-03-31|5.6  |\n",
      "|33 |4         |Ángela Ruiz |Filosofía|2020|2020-12-17|6.6  |243|4         |Ángela Ruiz |Filosofía|2021|2021-03-31|5.5  |\n",
      "|23 |4         |Ángela Ruiz |Filosofía|2020|2020-09-20|6.8  |243|4         |Ángela Ruiz |Filosofía|2021|2021-03-31|5.5  |\n",
      "|13 |4         |Ángela Ruiz |Filosofía|2020|2020-06-31|6.3  |243|4         |Ángela Ruiz |Filosofía|2021|2021-03-31|5.5  |\n",
      "|3  |4         |Ángela Ruiz |Filosofía|2020|2020-03-31|6.9  |243|4         |Ángela Ruiz |Filosofía|2021|2021-03-31|5.5  |\n",
      "|34 |5         |Carol Shaw  |Filosofía|2020|2020-12-17|3.5  |244|5         |Carol Shaw  |Filosofía|2021|2021-03-31|3.3  |\n",
      "|24 |5         |Carol Shaw  |Filosofía|2020|2020-09-20|3.9  |244|5         |Carol Shaw  |Filosofía|2021|2021-03-31|3.3  |\n",
      "|14 |5         |Carol Shaw  |Filosofía|2020|2020-06-31|6.4  |244|5         |Carol Shaw  |Filosofía|2021|2021-03-31|3.3  |\n",
      "|4  |5         |Carol Shaw  |Filosofía|2020|2020-03-31|6.8  |244|5         |Carol Shaw  |Filosofía|2021|2021-03-31|3.3  |\n",
      "+---+----------+------------+---------+----+----------+-----+---+----------+------------+---------+----+----------+-----+\n",
      "only showing top 20 rows\n",
      "\n"
     ]
    }
   ],
   "source": [
    "\n",
    "name_condition = scores_df.student_name ==  scores_df_2021.student_name\n",
    "subject_condition = scores_df.subject ==  scores_df_2021.subject\n",
    "\n",
    "\n",
    "scores_df.join(scores_df_2021, name_condition & subject_condition, \"inner\").show(truncate=False)"
   ]
  },
  {
   "cell_type": "code",
   "execution_count": 25,
   "metadata": {},
   "outputs": [
    {
     "data": {
      "text/plain": [
       "'\\nSELECT\\n    column1\\n    , column2\\n    ...\\nFROM\\n    table_name\\n    LEFT JOIN table2\\n        ON table_name.column1 == table2.column1\\nWHERE\\n    column1 > 1\\nLIMIT 15\\n'"
      ]
     },
     "execution_count": 25,
     "metadata": {},
     "output_type": "execute_result"
    }
   ],
   "source": [
    "'''\n",
    "SELECT\n",
    "    column1\n",
    "    , column2\n",
    "    ...\n",
    "FROM\n",
    "    table_name\n",
    "    LEFT JOIN table2\n",
    "        ON table_name.column1 == table2.column1\n",
    "WHERE\n",
    "    column1 > 1\n",
    "LIMIT 15\n",
    "'''"
   ]
  },
  {
   "cell_type": "code",
   "execution_count": 26,
   "metadata": {},
   "outputs": [
    {
     "name": "stdout",
     "output_type": "stream",
     "text": [
      "+---------------+---------+-----+---------------+---------+---------+\n",
      "|   student_name|  subject|score|   student_name|  subject|score2021|\n",
      "+---------------+---------+-----+---------------+---------+---------+\n",
      "|    Hedy Lamarr|Filosofía|  5.7|    Hedy Lamarr|Filosofía|      6.7|\n",
      "|    Hedy Lamarr|Filosofía|  5.7|    Hedy Lamarr|Filosofía|      6.8|\n",
      "|    Hedy Lamarr|Filosofía|  5.7|    Hedy Lamarr|Filosofía|      5.6|\n",
      "|    Hedy Lamarr|Filosofía|  5.7|    Hedy Lamarr|Filosofía|      6.3|\n",
      "|    Ángela Ruiz|Filosofía|  6.9|    Ángela Ruiz|Filosofía|      6.8|\n",
      "|    Ángela Ruiz|Filosofía|  6.9|    Ángela Ruiz|Filosofía|      3.5|\n",
      "|    Ángela Ruiz|Filosofía|  6.9|    Ángela Ruiz|Filosofía|      6.4|\n",
      "|    Ángela Ruiz|Filosofía|  6.9|    Ángela Ruiz|Filosofía|      5.5|\n",
      "|     Carol Shaw|Filosofía|  6.8|     Carol Shaw|Filosofía|      5.4|\n",
      "|     Carol Shaw|Filosofía|  6.8|     Carol Shaw|Filosofía|      4.4|\n",
      "|     Carol Shaw|Filosofía|  6.8|     Carol Shaw|Filosofía|      6.4|\n",
      "|     Carol Shaw|Filosofía|  6.8|     Carol Shaw|Filosofía|      3.3|\n",
      "|Marisol Alarcón|Filosofía|  6.1|Marisol Alarcón|Filosofía|      3.2|\n",
      "|Marisol Alarcón|Filosofía|  6.1|Marisol Alarcón|Filosofía|      5.9|\n",
      "|Marisol Alarcón|Filosofía|  6.1|Marisol Alarcón|Filosofía|      4.8|\n",
      "|Marisol Alarcón|Filosofía|  6.1|Marisol Alarcón|Filosofía|      5.1|\n",
      "|    Alan Turing|Filosofía|  6.7|    Alan Turing|Filosofía|      3.7|\n",
      "|    Alan Turing|Filosofía|  6.7|    Alan Turing|Filosofía|      3.0|\n",
      "|    Alan Turing|Filosofía|  6.7|    Alan Turing|Filosofía|      3.7|\n",
      "|    Alan Turing|Filosofía|  6.7|    Alan Turing|Filosofía|      5.9|\n",
      "+---------------+---------+-----+---------------+---------+---------+\n",
      "only showing top 20 rows\n",
      "\n"
     ]
    }
   ],
   "source": [
    "(\n",
    "    scores_df\n",
    "    .select('student_name', 'subject', 'score')\n",
    "    .join(\n",
    "        scores_df_2021\n",
    "            .select('student_name', 'subject', 'score')\n",
    "            .withColumnRenamed('score', 'score2021'),\n",
    "        name_condition & subject_condition,\n",
    "        'left'\n",
    "    )\n",
    "    .where(col('score') > 4)\n",
    ").show()\n",
    "\n"
   ]
  },
  {
   "cell_type": "code",
   "execution_count": null,
   "metadata": {},
   "outputs": [],
   "source": []
  },
  {
   "cell_type": "code",
   "execution_count": 27,
   "metadata": {},
   "outputs": [
    {
     "name": "stdout",
     "output_type": "stream",
     "text": [
      "+---+----------+----------------+---------+----+----------+-----+\n",
      "|_c0|student_id|    student_name|  subject|year|      date|score|\n",
      "+---+----------+----------------+---------+----+----------+-----+\n",
      "|  2|         3|     Jude Milhon|Filosofía|2020|2020-03-31|  3.8|\n",
      "|  3|         4|     Ángela Ruiz|Filosofía|2020|2020-03-31|  6.9|\n",
      "|  4|         5|      Carol Shaw|Filosofía|2020|2020-03-31|  6.8|\n",
      "|  5|         6| Marisol Alarcón|Filosofía|2020|2020-03-31|  6.1|\n",
      "|  6|         7|    Katie Bouman|Filosofía|2020|2020-03-31|  3.4|\n",
      "|  7|         8|     Alan Turing|Filosofía|2020|2020-03-31|  6.7|\n",
      "|  8|         9|Jhon von Neumann|Filosofía|2020|2020-03-31|  6.3|\n",
      "|  9|        10|Richard Stallman|Filosofía|2020|2020-03-31|  3.8|\n",
      "| 13|         4|     Ángela Ruiz|Filosofía|2020|2020-06-31|  6.3|\n",
      "| 14|         5|      Carol Shaw|Filosofía|2020|2020-06-31|  6.4|\n",
      "| 15|         6| Marisol Alarcón|Filosofía|2020|2020-06-31|  6.8|\n",
      "| 17|         8|     Alan Turing|Filosofía|2020|2020-06-31|  3.4|\n",
      "| 18|         9|Jhon von Neumann|Filosofía|2020|2020-06-31|  3.0|\n",
      "| 20|         1|    Ada Lovelace|Filosofía|2020|2020-09-20|  3.8|\n",
      "| 21|         2|     Hedy Lamarr|Filosofía|2020|2020-09-20|  6.3|\n",
      "| 23|         4|     Ángela Ruiz|Filosofía|2020|2020-09-20|  6.8|\n",
      "| 24|         5|      Carol Shaw|Filosofía|2020|2020-09-20|  3.9|\n",
      "| 25|         6| Marisol Alarcón|Filosofía|2020|2020-09-20|  6.5|\n",
      "| 26|         7|    Katie Bouman|Filosofía|2020|2020-09-20|  3.0|\n",
      "| 27|         8|     Alan Turing|Filosofía|2020|2020-09-20|  3.9|\n",
      "+---+----------+----------------+---------+----+----------+-----+\n",
      "only showing top 20 rows\n",
      "\n"
     ]
    }
   ],
   "source": [
    "(\n",
    "    scores_df\n",
    "    .where('score >= 6 OR score < 4')\n",
    ").show()"
   ]
  },
  {
   "cell_type": "code",
   "execution_count": 28,
   "metadata": {},
   "outputs": [],
   "source": [
    "scores_df.createOrReplaceTempView('scores')\n",
    "scores_df_2021.createOrReplaceTempView('scores2021')"
   ]
  },
  {
   "cell_type": "code",
   "execution_count": 29,
   "metadata": {},
   "outputs": [
    {
     "name": "stdout",
     "output_type": "stream",
     "text": [
      "+---------------+---------+-----+---------------+---------+---------+\n",
      "|   student_name|  subject|score|   student_name|  subject|score2021|\n",
      "+---------------+---------+-----+---------------+---------+---------+\n",
      "|    Hedy Lamarr|Filosofía|  5.7|    Hedy Lamarr|Filosofía|      6.7|\n",
      "|    Hedy Lamarr|Filosofía|  5.7|    Hedy Lamarr|Filosofía|      6.8|\n",
      "|    Hedy Lamarr|Filosofía|  5.7|    Hedy Lamarr|Filosofía|      5.6|\n",
      "|    Hedy Lamarr|Filosofía|  5.7|    Hedy Lamarr|Filosofía|      6.3|\n",
      "|    Ángela Ruiz|Filosofía|  6.9|    Ángela Ruiz|Filosofía|      6.8|\n",
      "|    Ángela Ruiz|Filosofía|  6.9|    Ángela Ruiz|Filosofía|      3.5|\n",
      "|    Ángela Ruiz|Filosofía|  6.9|    Ángela Ruiz|Filosofía|      6.4|\n",
      "|    Ángela Ruiz|Filosofía|  6.9|    Ángela Ruiz|Filosofía|      5.5|\n",
      "|     Carol Shaw|Filosofía|  6.8|     Carol Shaw|Filosofía|      5.4|\n",
      "|     Carol Shaw|Filosofía|  6.8|     Carol Shaw|Filosofía|      4.4|\n",
      "|     Carol Shaw|Filosofía|  6.8|     Carol Shaw|Filosofía|      6.4|\n",
      "|     Carol Shaw|Filosofía|  6.8|     Carol Shaw|Filosofía|      3.3|\n",
      "|Marisol Alarcón|Filosofía|  6.1|Marisol Alarcón|Filosofía|      3.2|\n",
      "|Marisol Alarcón|Filosofía|  6.1|Marisol Alarcón|Filosofía|      5.9|\n",
      "|Marisol Alarcón|Filosofía|  6.1|Marisol Alarcón|Filosofía|      4.8|\n",
      "|Marisol Alarcón|Filosofía|  6.1|Marisol Alarcón|Filosofía|      5.1|\n",
      "|    Alan Turing|Filosofía|  6.7|    Alan Turing|Filosofía|      3.7|\n",
      "|    Alan Turing|Filosofía|  6.7|    Alan Turing|Filosofía|      3.0|\n",
      "|    Alan Turing|Filosofía|  6.7|    Alan Turing|Filosofía|      3.7|\n",
      "|    Alan Turing|Filosofía|  6.7|    Alan Turing|Filosofía|      5.9|\n",
      "+---------------+---------+-----+---------------+---------+---------+\n",
      "only showing top 20 rows\n",
      "\n"
     ]
    }
   ],
   "source": [
    "(\n",
    "    scores_df\n",
    "    .select('student_name', 'subject', 'score')\n",
    "    .join(\n",
    "        scores_df_2021\n",
    "            .select('student_name', 'subject', 'score')\n",
    "            .withColumnRenamed('score', 'score2021'),\n",
    "        name_condition & subject_condition,\n",
    "        'left'\n",
    "    )\n",
    "    .where(col('score') > 4)\n",
    ").show()"
   ]
  },
  {
   "cell_type": "code",
   "execution_count": null,
   "metadata": {},
   "outputs": [],
   "source": []
  },
  {
   "cell_type": "code",
   "execution_count": 30,
   "metadata": {},
   "outputs": [],
   "source": [
    "query = '''\n",
    "SELECT\n",
    "    scores.student_name\n",
    "    , scored.subject\n",
    "    , score2020\n",
    "    , score2021\n",
    "FROM\n",
    "    scores\n",
    "    LEFT JOIN (\n",
    "        SELECT\n",
    "            student_name\n",
    "            , subject\n",
    "            , score AS score2021\n",
    "        FROM\n",
    "            scores2021\n",
    "    )\n",
    "    ON scores.student_name = scores2021.student_name\n",
    "        AND scores.subject = scores2021.subject\n",
    "WHERE\n",
    "    score2020 > 4\n",
    "'''\n",
    "\n",
    "query = '''\n",
    "SELECT\n",
    "    scores.student_name\n",
    "    , scores.subject\n",
    "    , score\n",
    "FROM\n",
    "    scores\n",
    "WHERE\n",
    "    score > 4\n",
    "'''\n"
   ]
  },
  {
   "cell_type": "code",
   "execution_count": 31,
   "metadata": {},
   "outputs": [
    {
     "name": "stdout",
     "output_type": "stream",
     "text": [
      "+----------------+---------+-----+\n",
      "|    student_name|  subject|score|\n",
      "+----------------+---------+-----+\n",
      "|     Hedy Lamarr|Filosofía|  5.7|\n",
      "|     Ángela Ruiz|Filosofía|  6.9|\n",
      "|      Carol Shaw|Filosofía|  6.8|\n",
      "| Marisol Alarcón|Filosofía|  6.1|\n",
      "|     Alan Turing|Filosofía|  6.7|\n",
      "|Jhon von Neumann|Filosofía|  6.3|\n",
      "|    Ada Lovelace|Filosofía|  5.7|\n",
      "|     Ángela Ruiz|Filosofía|  6.3|\n",
      "|      Carol Shaw|Filosofía|  6.4|\n",
      "| Marisol Alarcón|Filosofía|  6.8|\n",
      "|Richard Stallman|Filosofía|  5.4|\n",
      "|     Hedy Lamarr|Filosofía|  6.3|\n",
      "|     Jude Milhon|Filosofía|  5.5|\n",
      "|     Ángela Ruiz|Filosofía|  6.8|\n",
      "| Marisol Alarcón|Filosofía|  6.5|\n",
      "|    Ada Lovelace|Filosofía|  5.3|\n",
      "|     Hedy Lamarr|Filosofía|  5.3|\n",
      "|     Jude Milhon|Filosofía|  6.7|\n",
      "|     Ángela Ruiz|Filosofía|  6.6|\n",
      "|    Katie Bouman|Filosofía|  6.1|\n",
      "+----------------+---------+-----+\n",
      "only showing top 20 rows\n",
      "\n"
     ]
    }
   ],
   "source": [
    "result_df = sql_context.sql(query)\n",
    "result_df.show()"
   ]
  },
  {
   "cell_type": "code",
   "execution_count": 32,
   "metadata": {},
   "outputs": [],
   "source": [
    "result_df.createOrReplaceTempView('result')"
   ]
  },
  {
   "cell_type": "code",
   "execution_count": 33,
   "metadata": {},
   "outputs": [
    {
     "ename": "SyntaxError",
     "evalue": "invalid syntax (Temp/ipykernel_8/287766683.py, line 1)",
     "output_type": "error",
     "traceback": [
      "\u001b[1;36m  File \u001b[1;32m\"C:\\Users\\rdelr\\AppData\\Local\\Temp/ipykernel_8/287766683.py\"\u001b[1;36m, line \u001b[1;32m1\u001b[0m\n\u001b[1;33m    the zen of python\u001b[0m\n\u001b[1;37m        ^\u001b[0m\n\u001b[1;31mSyntaxError\u001b[0m\u001b[1;31m:\u001b[0m invalid syntax\n"
     ]
    }
   ],
   "source": [
    "\n",
    "the zen of python\n",
    "\n",
    "crear columa\n",
    "renombrar columnas\n",
    "\n",
    "quitar columnas\n",
    "seleccionar columnas\n",
    "\n",
    "cambiar tipos de datos (castear)\n",
    "\n",
    "funciones de pyapark (concat, col, lit  etc...)\n",
    "group by\n",
    "window function\n",
    "\n",
    "join\n",
    "\n",
    "\n",
    "estructura SQL\n",
    "transformaciones con SQL en el where\n",
    "SQL"
   ]
  }
 ],
 "metadata": {
  "interpreter": {
   "hash": "a702d9c495f6ad0e5a57a515430ed4ed924d6cbbf125362265516ddb537ce8a7"
  },
  "kernelspec": {
   "display_name": "Python 3.9.6 64-bit",
   "language": "python",
   "name": "python3"
  },
  "language_info": {
   "codemirror_mode": {
    "name": "ipython",
    "version": 3
   },
   "file_extension": ".py",
   "mimetype": "text/x-python",
   "name": "python",
   "nbconvert_exporter": "python",
   "pygments_lexer": "ipython3",
   "version": "3.9.6"
  },
  "orig_nbformat": 4
 },
 "nbformat": 4,
 "nbformat_minor": 2
}
