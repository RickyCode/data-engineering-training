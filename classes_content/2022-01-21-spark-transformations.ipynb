{
 "cells": [
  {
   "cell_type": "code",
   "execution_count": 1,
   "metadata": {},
   "outputs": [],
   "source": [
    "from pyspark.sql import SparkSession, SQLContext\n",
    "from pyspark.sql.functions import col, lit, concat\n",
    "\n",
    "from pyspark.sql.types import IntegerType, StringType, FloatType"
   ]
  },
  {
   "cell_type": "code",
   "execution_count": 2,
   "metadata": {},
   "outputs": [],
   "source": [
    "spark_session = (\n",
    "    SparkSession\n",
    "        .builder\n",
    "        .appName('data engineering training')\n",
    "        .getOrCreate()\n",
    ")"
   ]
  },
  {
   "cell_type": "code",
   "execution_count": 3,
   "metadata": {},
   "outputs": [
    {
     "name": "stdout",
     "output_type": "stream",
     "text": [
      "+---+----------+----------------+---------+----+----------+-----+\n",
      "|_c0|student_id|    student_name|  subject|year|      date|score|\n",
      "+---+----------+----------------+---------+----+----------+-----+\n",
      "|  0|         1|    Ada Lovelace|Filosofía|2020|2020-03-31|  4.4|\n",
      "|  1|         2|     Hedy Lamarr|Filosofía|2020|2020-03-31|  5.7|\n",
      "|  2|         3|     Jude Milhon|Filosofía|2020|2020-03-31|  3.8|\n",
      "|  3|         4|     Ángela Ruiz|Filosofía|2020|2020-03-31|  6.9|\n",
      "|  4|         5|      Carol Shaw|Filosofía|2020|2020-03-31|  6.8|\n",
      "|  5|         6| Marisol Alarcón|Filosofía|2020|2020-03-31|  6.1|\n",
      "|  6|         7|    Katie Bouman|Filosofía|2020|2020-03-31|  3.4|\n",
      "|  7|         8|     Alan Turing|Filosofía|2020|2020-03-31|  6.7|\n",
      "|  8|         9|Jhon von Neumann|Filosofía|2020|2020-03-31|  6.3|\n",
      "|  9|        10|Richard Stallman|Filosofía|2020|2020-03-31|  3.8|\n",
      "| 10|         1|    Ada Lovelace|Filosofía|2020|2020-06-31|  5.7|\n",
      "| 11|         2|     Hedy Lamarr|Filosofía|2020|2020-06-31|  4.4|\n",
      "| 12|         3|     Jude Milhon|Filosofía|2020|2020-06-31|  4.3|\n",
      "| 13|         4|     Ángela Ruiz|Filosofía|2020|2020-06-31|  6.3|\n",
      "| 14|         5|      Carol Shaw|Filosofía|2020|2020-06-31|  6.4|\n",
      "| 15|         6| Marisol Alarcón|Filosofía|2020|2020-06-31|  6.8|\n",
      "| 16|         7|    Katie Bouman|Filosofía|2020|2020-06-31|  4.4|\n",
      "| 17|         8|     Alan Turing|Filosofía|2020|2020-06-31|  3.4|\n",
      "| 18|         9|Jhon von Neumann|Filosofía|2020|2020-06-31|  3.0|\n",
      "| 19|        10|Richard Stallman|Filosofía|2020|2020-06-31|  5.4|\n",
      "+---+----------+----------------+---------+----+----------+-----+\n",
      "only showing top 20 rows\n",
      "\n"
     ]
    }
   ],
   "source": [
    "scores_df = (\n",
    "    spark_session\n",
    "        .read\n",
    "        .option('header', True)\n",
    "        .csv('student_scores_2020.csv')\n",
    ")\n",
    "\n",
    "scores_df.show()"
   ]
  },
  {
   "cell_type": "markdown",
   "metadata": {},
   "source": [
    "\n",
    "the zen of python\n",
    "\n",
    "estructura SQL\n",
    "crear columa\n",
    "renombrar columnas\n",
    "\n",
    "quitar columnas\n",
    "seleccionar columnas\n",
    "\n",
    "cambiar tipos de datos (castear)\n",
    "\n",
    "funciones de pyapark (concat, etc...)\n",
    "group by\n",
    "join\n",
    "window function\n",
    "\n",
    "transformaciones con SQL en el where"
   ]
  },
  {
   "cell_type": "code",
   "execution_count": 4,
   "metadata": {},
   "outputs": [
    {
     "name": "stdout",
     "output_type": "stream",
     "text": [
      "The Zen of Python, by Tim Peters\n",
      "\n",
      "Beautiful is better than ugly.\n",
      "Explicit is better than implicit.\n",
      "Simple is better than complex.\n",
      "Complex is better than complicated.\n",
      "Flat is better than nested.\n",
      "Sparse is better than dense.\n",
      "Readability counts.\n",
      "Special cases aren't special enough to break the rules.\n",
      "Although practicality beats purity.\n",
      "Errors should never pass silently.\n",
      "Unless explicitly silenced.\n",
      "In the face of ambiguity, refuse the temptation to guess.\n",
      "There should be one-- and preferably only one --obvious way to do it.\n",
      "Although that way may not be obvious at first unless you're Dutch.\n",
      "Now is better than never.\n",
      "Although never is often better than *right* now.\n",
      "If the implementation is hard to explain, it's a bad idea.\n",
      "If the implementation is easy to explain, it may be a good idea.\n",
      "Namespaces are one honking great idea -- let's do more of those!\n"
     ]
    }
   ],
   "source": [
    "import this\n"
   ]
  },
  {
   "cell_type": "markdown",
   "metadata": {},
   "source": [
    "## crear columna\n"
   ]
  },
  {
   "cell_type": "code",
   "execution_count": 5,
   "metadata": {},
   "outputs": [
    {
     "name": "stdout",
     "output_type": "stream",
     "text": [
      "+---+----------+----------------+---------+----+----------+-----+---------+\n",
      "|_c0|student_id|    student_name|  subject|year|      date|score|hola hola|\n",
      "+---+----------+----------------+---------+----+----------+-----+---------+\n",
      "|  0|         1|    Ada Lovelace|Filosofía|2020|2020-03-31|  4.4|     hola|\n",
      "|  1|         2|     Hedy Lamarr|Filosofía|2020|2020-03-31|  5.7|     hola|\n",
      "|  2|         3|     Jude Milhon|Filosofía|2020|2020-03-31|  3.8|     hola|\n",
      "|  3|         4|     Ángela Ruiz|Filosofía|2020|2020-03-31|  6.9|     hola|\n",
      "|  4|         5|      Carol Shaw|Filosofía|2020|2020-03-31|  6.8|     hola|\n",
      "|  5|         6| Marisol Alarcón|Filosofía|2020|2020-03-31|  6.1|     hola|\n",
      "|  6|         7|    Katie Bouman|Filosofía|2020|2020-03-31|  3.4|     hola|\n",
      "|  7|         8|     Alan Turing|Filosofía|2020|2020-03-31|  6.7|     hola|\n",
      "|  8|         9|Jhon von Neumann|Filosofía|2020|2020-03-31|  6.3|     hola|\n",
      "|  9|        10|Richard Stallman|Filosofía|2020|2020-03-31|  3.8|     hola|\n",
      "| 10|         1|    Ada Lovelace|Filosofía|2020|2020-06-31|  5.7|     hola|\n",
      "| 11|         2|     Hedy Lamarr|Filosofía|2020|2020-06-31|  4.4|     hola|\n",
      "| 12|         3|     Jude Milhon|Filosofía|2020|2020-06-31|  4.3|     hola|\n",
      "| 13|         4|     Ángela Ruiz|Filosofía|2020|2020-06-31|  6.3|     hola|\n",
      "| 14|         5|      Carol Shaw|Filosofía|2020|2020-06-31|  6.4|     hola|\n",
      "| 15|         6| Marisol Alarcón|Filosofía|2020|2020-06-31|  6.8|     hola|\n",
      "| 16|         7|    Katie Bouman|Filosofía|2020|2020-06-31|  4.4|     hola|\n",
      "| 17|         8|     Alan Turing|Filosofía|2020|2020-06-31|  3.4|     hola|\n",
      "| 18|         9|Jhon von Neumann|Filosofía|2020|2020-06-31|  3.0|     hola|\n",
      "| 19|        10|Richard Stallman|Filosofía|2020|2020-06-31|  5.4|     hola|\n",
      "+---+----------+----------------+---------+----+----------+-----+---------+\n",
      "only showing top 20 rows\n",
      "\n"
     ]
    }
   ],
   "source": [
    "scores_df.withColumn('hola hola', lit('hola')).show()"
   ]
  },
  {
   "cell_type": "code",
   "execution_count": 6,
   "metadata": {},
   "outputs": [
    {
     "name": "stdout",
     "output_type": "stream",
     "text": [
      "+---+----------+----------------+---------+----+----------+-----+--------------------+\n",
      "|_c0|student_id|    student_name|  subject|year|      date|score|         concatenado|\n",
      "+---+----------+----------------+---------+----+----------+-----+--------------------+\n",
      "|  0|         1|    Ada Lovelace|Filosofía|2020|2020-03-31|  4.4|     1) Ada Lovelace|\n",
      "|  1|         2|     Hedy Lamarr|Filosofía|2020|2020-03-31|  5.7|      2) Hedy Lamarr|\n",
      "|  2|         3|     Jude Milhon|Filosofía|2020|2020-03-31|  3.8|      3) Jude Milhon|\n",
      "|  3|         4|     Ángela Ruiz|Filosofía|2020|2020-03-31|  6.9|      4) Ángela Ruiz|\n",
      "|  4|         5|      Carol Shaw|Filosofía|2020|2020-03-31|  6.8|       5) Carol Shaw|\n",
      "|  5|         6| Marisol Alarcón|Filosofía|2020|2020-03-31|  6.1|  6) Marisol Alarcón|\n",
      "|  6|         7|    Katie Bouman|Filosofía|2020|2020-03-31|  3.4|     7) Katie Bouman|\n",
      "|  7|         8|     Alan Turing|Filosofía|2020|2020-03-31|  6.7|      8) Alan Turing|\n",
      "|  8|         9|Jhon von Neumann|Filosofía|2020|2020-03-31|  6.3| 9) Jhon von Neumann|\n",
      "|  9|        10|Richard Stallman|Filosofía|2020|2020-03-31|  3.8|10) Richard Stallman|\n",
      "| 10|         1|    Ada Lovelace|Filosofía|2020|2020-06-31|  5.7|     1) Ada Lovelace|\n",
      "| 11|         2|     Hedy Lamarr|Filosofía|2020|2020-06-31|  4.4|      2) Hedy Lamarr|\n",
      "| 12|         3|     Jude Milhon|Filosofía|2020|2020-06-31|  4.3|      3) Jude Milhon|\n",
      "| 13|         4|     Ángela Ruiz|Filosofía|2020|2020-06-31|  6.3|      4) Ángela Ruiz|\n",
      "| 14|         5|      Carol Shaw|Filosofía|2020|2020-06-31|  6.4|       5) Carol Shaw|\n",
      "| 15|         6| Marisol Alarcón|Filosofía|2020|2020-06-31|  6.8|  6) Marisol Alarcón|\n",
      "| 16|         7|    Katie Bouman|Filosofía|2020|2020-06-31|  4.4|     7) Katie Bouman|\n",
      "| 17|         8|     Alan Turing|Filosofía|2020|2020-06-31|  3.4|      8) Alan Turing|\n",
      "| 18|         9|Jhon von Neumann|Filosofía|2020|2020-06-31|  3.0| 9) Jhon von Neumann|\n",
      "| 19|        10|Richard Stallman|Filosofía|2020|2020-06-31|  5.4|10) Richard Stallman|\n",
      "+---+----------+----------------+---------+----+----------+-----+--------------------+\n",
      "only showing top 20 rows\n",
      "\n"
     ]
    }
   ],
   "source": [
    "scores_df.withColumn('concatenado', concat('student_id', lit(') '), 'student_name')).show()"
   ]
  },
  {
   "cell_type": "markdown",
   "metadata": {},
   "source": [
    "## renombrar columnas"
   ]
  },
  {
   "cell_type": "code",
   "execution_count": 7,
   "metadata": {},
   "outputs": [
    {
     "name": "stdout",
     "output_type": "stream",
     "text": [
      "+--------------+----------+----------------+---------+----+----------+-----+\n",
      "|pandas_indexes|student_id|    student_name|  subject|year|      date|score|\n",
      "+--------------+----------+----------------+---------+----+----------+-----+\n",
      "|             0|         1|    Ada Lovelace|Filosofía|2020|2020-03-31|  4.4|\n",
      "|             1|         2|     Hedy Lamarr|Filosofía|2020|2020-03-31|  5.7|\n",
      "|             2|         3|     Jude Milhon|Filosofía|2020|2020-03-31|  3.8|\n",
      "|             3|         4|     Ángela Ruiz|Filosofía|2020|2020-03-31|  6.9|\n",
      "|             4|         5|      Carol Shaw|Filosofía|2020|2020-03-31|  6.8|\n",
      "|             5|         6| Marisol Alarcón|Filosofía|2020|2020-03-31|  6.1|\n",
      "|             6|         7|    Katie Bouman|Filosofía|2020|2020-03-31|  3.4|\n",
      "|             7|         8|     Alan Turing|Filosofía|2020|2020-03-31|  6.7|\n",
      "|             8|         9|Jhon von Neumann|Filosofía|2020|2020-03-31|  6.3|\n",
      "|             9|        10|Richard Stallman|Filosofía|2020|2020-03-31|  3.8|\n",
      "|            10|         1|    Ada Lovelace|Filosofía|2020|2020-06-31|  5.7|\n",
      "|            11|         2|     Hedy Lamarr|Filosofía|2020|2020-06-31|  4.4|\n",
      "|            12|         3|     Jude Milhon|Filosofía|2020|2020-06-31|  4.3|\n",
      "|            13|         4|     Ángela Ruiz|Filosofía|2020|2020-06-31|  6.3|\n",
      "|            14|         5|      Carol Shaw|Filosofía|2020|2020-06-31|  6.4|\n",
      "|            15|         6| Marisol Alarcón|Filosofía|2020|2020-06-31|  6.8|\n",
      "|            16|         7|    Katie Bouman|Filosofía|2020|2020-06-31|  4.4|\n",
      "|            17|         8|     Alan Turing|Filosofía|2020|2020-06-31|  3.4|\n",
      "|            18|         9|Jhon von Neumann|Filosofía|2020|2020-06-31|  3.0|\n",
      "|            19|        10|Richard Stallman|Filosofía|2020|2020-06-31|  5.4|\n",
      "+--------------+----------+----------------+---------+----+----------+-----+\n",
      "only showing top 20 rows\n",
      "\n"
     ]
    }
   ],
   "source": [
    "scores_df.withColumnRenamed('_c0', 'pandas_indexes').show()"
   ]
  },
  {
   "cell_type": "markdown",
   "metadata": {},
   "source": [
    "## quitar columnas"
   ]
  },
  {
   "cell_type": "code",
   "execution_count": 8,
   "metadata": {},
   "outputs": [
    {
     "name": "stdout",
     "output_type": "stream",
     "text": [
      "+----------+----------------+---------+----+----------+-----+\n",
      "|student_id|    student_name|  subject|year|      date|score|\n",
      "+----------+----------------+---------+----+----------+-----+\n",
      "|         1|    Ada Lovelace|Filosofía|2020|2020-03-31|  4.4|\n",
      "|         2|     Hedy Lamarr|Filosofía|2020|2020-03-31|  5.7|\n",
      "|         3|     Jude Milhon|Filosofía|2020|2020-03-31|  3.8|\n",
      "|         4|     Ángela Ruiz|Filosofía|2020|2020-03-31|  6.9|\n",
      "|         5|      Carol Shaw|Filosofía|2020|2020-03-31|  6.8|\n",
      "|         6| Marisol Alarcón|Filosofía|2020|2020-03-31|  6.1|\n",
      "|         7|    Katie Bouman|Filosofía|2020|2020-03-31|  3.4|\n",
      "|         8|     Alan Turing|Filosofía|2020|2020-03-31|  6.7|\n",
      "|         9|Jhon von Neumann|Filosofía|2020|2020-03-31|  6.3|\n",
      "|        10|Richard Stallman|Filosofía|2020|2020-03-31|  3.8|\n",
      "|         1|    Ada Lovelace|Filosofía|2020|2020-06-31|  5.7|\n",
      "|         2|     Hedy Lamarr|Filosofía|2020|2020-06-31|  4.4|\n",
      "|         3|     Jude Milhon|Filosofía|2020|2020-06-31|  4.3|\n",
      "|         4|     Ángela Ruiz|Filosofía|2020|2020-06-31|  6.3|\n",
      "|         5|      Carol Shaw|Filosofía|2020|2020-06-31|  6.4|\n",
      "|         6| Marisol Alarcón|Filosofía|2020|2020-06-31|  6.8|\n",
      "|         7|    Katie Bouman|Filosofía|2020|2020-06-31|  4.4|\n",
      "|         8|     Alan Turing|Filosofía|2020|2020-06-31|  3.4|\n",
      "|         9|Jhon von Neumann|Filosofía|2020|2020-06-31|  3.0|\n",
      "|        10|Richard Stallman|Filosofía|2020|2020-06-31|  5.4|\n",
      "+----------+----------------+---------+----+----------+-----+\n",
      "only showing top 20 rows\n",
      "\n"
     ]
    }
   ],
   "source": [
    "scores_df.drop('_c0').show()"
   ]
  },
  {
   "cell_type": "code",
   "execution_count": 9,
   "metadata": {},
   "outputs": [
    {
     "name": "stdout",
     "output_type": "stream",
     "text": [
      "+----------+----------------+\n",
      "|student_id|    student_name|\n",
      "+----------+----------------+\n",
      "|         1|    Ada Lovelace|\n",
      "|         2|     Hedy Lamarr|\n",
      "|         3|     Jude Milhon|\n",
      "|         4|     Ángela Ruiz|\n",
      "|         5|      Carol Shaw|\n",
      "|         6| Marisol Alarcón|\n",
      "|         7|    Katie Bouman|\n",
      "|         8|     Alan Turing|\n",
      "|         9|Jhon von Neumann|\n",
      "|        10|Richard Stallman|\n",
      "|         1|    Ada Lovelace|\n",
      "|         2|     Hedy Lamarr|\n",
      "|         3|     Jude Milhon|\n",
      "|         4|     Ángela Ruiz|\n",
      "|         5|      Carol Shaw|\n",
      "|         6| Marisol Alarcón|\n",
      "|         7|    Katie Bouman|\n",
      "|         8|     Alan Turing|\n",
      "|         9|Jhon von Neumann|\n",
      "|        10|Richard Stallman|\n",
      "+----------+----------------+\n",
      "only showing top 20 rows\n",
      "\n"
     ]
    }
   ],
   "source": [
    "scores_df.select('student_id', 'student_name').show()"
   ]
  },
  {
   "cell_type": "code",
   "execution_count": 10,
   "metadata": {},
   "outputs": [
    {
     "name": "stdout",
     "output_type": "stream",
     "text": [
      "root\n",
      " |-- _c0: string (nullable = true)\n",
      " |-- student_id: string (nullable = true)\n",
      " |-- student_name: string (nullable = true)\n",
      " |-- subject: string (nullable = true)\n",
      " |-- year: string (nullable = true)\n",
      " |-- date: string (nullable = true)\n",
      " |-- score: string (nullable = true)\n",
      "\n"
     ]
    }
   ],
   "source": [
    "scores_df.printSchema()"
   ]
  },
  {
   "cell_type": "code",
   "execution_count": 11,
   "metadata": {},
   "outputs": [
    {
     "name": "stdout",
     "output_type": "stream",
     "text": [
      "root\n",
      " |-- fdjkshfslkjad: integer (nullable = true)\n",
      " |-- student_id: integer (nullable = true)\n",
      " |-- student_name: string (nullable = true)\n",
      " |-- subject: string (nullable = true)\n",
      " |-- year: integer (nullable = true)\n",
      " |-- date: string (nullable = true)\n",
      " |-- score: float (nullable = true)\n",
      "\n"
     ]
    }
   ],
   "source": [
    "(scores_df\n",
    "    .withColumn('score', col('score').cast(FloatType()))\n",
    "    .withColumn('year', col('year').cast(IntegerType()))\n",
    "    .withColumn('student_id', col('student_id').cast(IntegerType()))\n",
    "    .withColumn('_c0', col('_c0').cast(IntegerType()))\n",
    "    .withColumnRenamed('_c0', 'fdjkshfslkjad')\n",
    ").printSchema()"
   ]
  },
  {
   "cell_type": "code",
   "execution_count": 12,
   "metadata": {},
   "outputs": [
    {
     "name": "stdout",
     "output_type": "stream",
     "text": [
      "StructField(_c0,StringType,true)\n",
      "StructField(student_id,StringType,true)\n",
      "StructField(student_name,StringType,true)\n",
      "StructField(subject,StringType,true)\n",
      "StructField(year,StringType,true)\n",
      "StructField(date,StringType,true)\n",
      "StructField(score,StringType,true)\n"
     ]
    }
   ],
   "source": [
    "for column in scores_df.schema:\n",
    "    print(column)"
   ]
  },
  {
   "cell_type": "code",
   "execution_count": 13,
   "metadata": {},
   "outputs": [
    {
     "data": {
      "text/plain": [
       "240"
      ]
     },
     "execution_count": 13,
     "metadata": {},
     "output_type": "execute_result"
    }
   ],
   "source": [
    "scores_df.count()"
   ]
  },
  {
   "cell_type": "code",
   "execution_count": 14,
   "metadata": {},
   "outputs": [
    {
     "data": {
      "text/plain": [
       "['_c0', 'student_id', 'student_name', 'subject', 'year', 'date', 'score']"
      ]
     },
     "execution_count": 14,
     "metadata": {},
     "output_type": "execute_result"
    }
   ],
   "source": [
    "scores_df.columns"
   ]
  },
  {
   "cell_type": "code",
   "execution_count": 15,
   "metadata": {},
   "outputs": [
    {
     "data": {
      "text/plain": [
       "(240, 7)"
      ]
     },
     "execution_count": 15,
     "metadata": {},
     "output_type": "execute_result"
    }
   ],
   "source": [
    "scores_df.count(), len(scores_df.columns)"
   ]
  },
  {
   "cell_type": "code",
   "execution_count": 16,
   "metadata": {},
   "outputs": [],
   "source": [
    "from pyspark.sql.functions import min, max, count, avg"
   ]
  },
  {
   "cell_type": "code",
   "execution_count": 17,
   "metadata": {},
   "outputs": [
    {
     "name": "stdout",
     "output_type": "stream",
     "text": [
      "+---+----------+----------------+---------+----+----------+-----+--------------+\n",
      "|_c0|student_id|    student_name|  subject|year|      date|score|calculo inutil|\n",
      "+---+----------+----------------+---------+----+----------+-----+--------------+\n",
      "|  0|         1|    Ada Lovelace|Filosofía|2020|2020-03-31|  4.4|        2021.0|\n",
      "|  1|         2|     Hedy Lamarr|Filosofía|2020|2020-03-31|  5.7|        2022.0|\n",
      "|  2|         3|     Jude Milhon|Filosofía|2020|2020-03-31|  3.8|        2023.0|\n",
      "|  3|         4|     Ángela Ruiz|Filosofía|2020|2020-03-31|  6.9|        2024.0|\n",
      "|  4|         5|      Carol Shaw|Filosofía|2020|2020-03-31|  6.8|        2025.0|\n",
      "|  5|         6| Marisol Alarcón|Filosofía|2020|2020-03-31|  6.1|        2026.0|\n",
      "|  6|         7|    Katie Bouman|Filosofía|2020|2020-03-31|  3.4|        2027.0|\n",
      "|  7|         8|     Alan Turing|Filosofía|2020|2020-03-31|  6.7|        2028.0|\n",
      "|  8|         9|Jhon von Neumann|Filosofía|2020|2020-03-31|  6.3|        2029.0|\n",
      "|  9|        10|Richard Stallman|Filosofía|2020|2020-03-31|  3.8|        2030.0|\n",
      "| 10|         1|    Ada Lovelace|Filosofía|2020|2020-06-31|  5.7|        2021.0|\n",
      "| 11|         2|     Hedy Lamarr|Filosofía|2020|2020-06-31|  4.4|        2022.0|\n",
      "| 12|         3|     Jude Milhon|Filosofía|2020|2020-06-31|  4.3|        2023.0|\n",
      "| 13|         4|     Ángela Ruiz|Filosofía|2020|2020-06-31|  6.3|        2024.0|\n",
      "| 14|         5|      Carol Shaw|Filosofía|2020|2020-06-31|  6.4|        2025.0|\n",
      "| 15|         6| Marisol Alarcón|Filosofía|2020|2020-06-31|  6.8|        2026.0|\n",
      "| 16|         7|    Katie Bouman|Filosofía|2020|2020-06-31|  4.4|        2027.0|\n",
      "| 17|         8|     Alan Turing|Filosofía|2020|2020-06-31|  3.4|        2028.0|\n",
      "| 18|         9|Jhon von Neumann|Filosofía|2020|2020-06-31|  3.0|        2029.0|\n",
      "| 19|        10|Richard Stallman|Filosofía|2020|2020-06-31|  5.4|        2030.0|\n",
      "+---+----------+----------------+---------+----+----------+-----+--------------+\n",
      "only showing top 20 rows\n",
      "\n"
     ]
    }
   ],
   "source": [
    "scores_df.withColumn('calculo inutil', col('year') + col('student_id')).show()"
   ]
  },
  {
   "cell_type": "markdown",
   "metadata": {},
   "source": [
    "## group by\n"
   ]
  },
  {
   "cell_type": "code",
   "execution_count": 18,
   "metadata": {},
   "outputs": [
    {
     "name": "stdout",
     "output_type": "stream",
     "text": [
      "+----------------+-------------------+-----------------+\n",
      "|    student_name|            subject|       avg(score)|\n",
      "+----------------+-------------------+-----------------+\n",
      "|     Ángela Ruiz|       Neurociencia|5.074999928474426|\n",
      "|     Hedy Lamarr|         Psicología|5.174999952316284|\n",
      "| Marisol Alarcón|   Educación Cívica|5.200000047683716|\n",
      "|     Alan Turing|       Neurociencia|5.075000047683716|\n",
      "|    Ada Lovelace|Finanzas y Economía|5.025000035762787|\n",
      "|    Ada Lovelace|       Programación|4.674999952316284|\n",
      "|     Jude Milhon|       Neurociencia|5.024999976158142|\n",
      "|Jhon von Neumann|         Psicología|5.274999976158142|\n",
      "|Richard Stallman|Finanzas y Economía|4.400000035762787|\n",
      "|    Katie Bouman|Finanzas y Economía|             5.25|\n",
      "|      Carol Shaw|          Filosofía|5.150000095367432|\n",
      "|     Jude Milhon|   Educación Cívica|5.199999988079071|\n",
      "|     Hedy Lamarr|          Filosofía|5.425000071525574|\n",
      "| Marisol Alarcón|Finanzas y Economía|5.275000035762787|\n",
      "|     Jude Milhon|       Programación|5.299999952316284|\n",
      "|     Alan Turing|          Filosofía|4.649999976158142|\n",
      "|     Jude Milhon|          Filosofía|5.074999988079071|\n",
      "|     Ángela Ruiz|          Filosofía|6.650000095367432|\n",
      "|Jhon von Neumann|   Educación Cívica|             6.25|\n",
      "|Richard Stallman|       Neurociencia|5.975000023841858|\n",
      "+----------------+-------------------+-----------------+\n",
      "only showing top 20 rows\n",
      "\n"
     ]
    }
   ],
   "source": [
    " (scores_df\n",
    "    .withColumn('score', col('score').cast(FloatType()))\n",
    "    .groupBy('student_name', 'subject').avg('score')\n",
    " ).show()"
   ]
  },
  {
   "cell_type": "code",
   "execution_count": 19,
   "metadata": {},
   "outputs": [
    {
     "name": "stdout",
     "output_type": "stream",
     "text": [
      "+----------------+-------------------+-----------------+\n",
      "|    student_name|            subject|       avg(score)|\n",
      "+----------------+-------------------+-----------------+\n",
      "|     Ángela Ruiz|       Neurociencia|5.074999928474426|\n",
      "|     Hedy Lamarr|         Psicología|5.174999952316284|\n",
      "| Marisol Alarcón|   Educación Cívica|5.200000047683716|\n",
      "|     Alan Turing|       Neurociencia|5.075000047683716|\n",
      "|    Ada Lovelace|Finanzas y Economía|5.025000035762787|\n",
      "|    Ada Lovelace|       Programación|4.674999952316284|\n",
      "|     Jude Milhon|       Neurociencia|5.024999976158142|\n",
      "|Jhon von Neumann|         Psicología|5.274999976158142|\n",
      "|Richard Stallman|Finanzas y Economía|4.400000035762787|\n",
      "|    Katie Bouman|Finanzas y Economía|             5.25|\n",
      "|      Carol Shaw|          Filosofía|5.150000095367432|\n",
      "|     Jude Milhon|   Educación Cívica|5.199999988079071|\n",
      "|     Hedy Lamarr|          Filosofía|5.425000071525574|\n",
      "| Marisol Alarcón|Finanzas y Economía|5.275000035762787|\n",
      "|     Jude Milhon|       Programación|5.299999952316284|\n",
      "|     Alan Turing|          Filosofía|4.649999976158142|\n",
      "|     Jude Milhon|          Filosofía|5.074999988079071|\n",
      "|     Ángela Ruiz|          Filosofía|6.650000095367432|\n",
      "|Jhon von Neumann|   Educación Cívica|             6.25|\n",
      "|Richard Stallman|       Neurociencia|5.975000023841858|\n",
      "+----------------+-------------------+-----------------+\n",
      "only showing top 20 rows\n",
      "\n"
     ]
    }
   ],
   "source": [
    "scores_df = scores_df.withColumn('score', col('score').cast(FloatType()))\n",
    "scores_df = scores_df.groupBy('student_name', 'subject').avg('score')\n",
    "\n",
    "scores_df.show()"
   ]
  },
  {
   "cell_type": "markdown",
   "metadata": {},
   "source": [
    "\n",
    "the zen of python\n",
    "\n",
    "estructura SQL\n",
    "crear columa\n",
    "renombrar columnas\n",
    "\n",
    "quitar columnas\n",
    "seleccionar columnas\n",
    "\n",
    "cambiar tipos de datos (castear)\n",
    "\n",
    "funciones de pyapark (concat, col, lit  etc...)\n",
    "group by\n",
    "join\n",
    "window function\n",
    "\n",
    "transformaciones con SQL en el where"
   ]
  }
 ],
 "metadata": {
  "interpreter": {
   "hash": "a702d9c495f6ad0e5a57a515430ed4ed924d6cbbf125362265516ddb537ce8a7"
  },
  "kernelspec": {
   "display_name": "Python 3.9.6 64-bit",
   "language": "python",
   "name": "python3"
  },
  "language_info": {
   "codemirror_mode": {
    "name": "ipython",
    "version": 3
   },
   "file_extension": ".py",
   "mimetype": "text/x-python",
   "name": "python",
   "nbconvert_exporter": "python",
   "pygments_lexer": "ipython3",
   "version": "3.9.6"
  },
  "orig_nbformat": 4
 },
 "nbformat": 4,
 "nbformat_minor": 2
}
