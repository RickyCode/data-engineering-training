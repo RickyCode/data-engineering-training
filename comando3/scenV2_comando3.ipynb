{
 "cells": [
  {
   "cell_type": "code",
   "execution_count": 9,
   "metadata": {},
   "outputs": [
    {
     "data": {
      "text/html": [
       "\n",
       "<style>\n",
       "    .output-plaintext, .output-stream, .output {\n",
       "        white-space: pre !important;\n",
       "    }\n",
       "    pre { white-space: pre !important; }\n",
       "</style>\n"
      ],
      "text/plain": [
       "<IPython.core.display.HTML object>"
      ]
     },
     "execution_count": 9,
     "metadata": {},
     "output_type": "execute_result"
    }
   ],
   "source": [
    "from IPython.core.display import HTML\n",
    "HTML(r\"\"\"\n",
    "<style>\n",
    "    .output-plaintext, .output-stream, .output {\n",
    "        white-space: pre !important;\n",
    "    }\n",
    "    pre { white-space: pre !important; }\n",
    "</style>\n",
    "\"\"\")"
   ]
  },
  {
   "cell_type": "markdown",
   "metadata": {},
   "source": [
    "## Imports"
   ]
  },
  {
   "cell_type": "code",
   "execution_count": 10,
   "metadata": {},
   "outputs": [],
   "source": [
    "import pyspark\n",
    "from pyspark.sql import SparkSession\n",
    "from pyspark.sql.functions import *\n",
    "from pyspark.sql.window import *\n",
    "from pyspark.sql.types import *\n",
    "\n",
    "spark=SparkSession.builder.appName('comando3').getOrCreate()"
   ]
  },
  {
   "cell_type": "markdown",
   "metadata": {},
   "source": [
    "## Load files"
   ]
  },
  {
   "cell_type": "code",
   "execution_count": 11,
   "metadata": {},
   "outputs": [],
   "source": [
    "dataframes_dict = { \n",
    "                'facturas'            : spark.read.parquet('./datasets/bkpf_vbrk.parquet'), \n",
    "                'facturas_x_clientes' : spark.read.parquet('./datasets/vbpa_kna1.parquet'),\n",
    "                'materiales'          : spark.read.parquet('./datasets/vbrp_mara_marm.parquet'),\n",
    "                'paises'              : spark.read.parquet('./datasets/T005T.parquet')\n",
    "                }"
   ]
  },
  {
   "cell_type": "markdown",
   "metadata": {},
   "source": [
    "# Testing"
   ]
  },
  {
   "cell_type": "code",
   "execution_count": 12,
   "metadata": {},
   "outputs": [],
   "source": [
    "%run func_comando3.py"
   ]
  },
  {
   "cell_type": "code",
   "execution_count": 13,
   "metadata": {},
   "outputs": [
    {
     "name": "stdout",
     "output_type": "stream",
     "text": [
      "<function set_filters_and_joins at 0x000001A640A4A710>\n",
      "<function set_consulta1 at 0x000001A640A4A7A0>\n",
      "<function set_consulta2 at 0x000001A640A49240>\n",
      "<function set_consulta3 at 0x000001A640A4A8C0>\n",
      "<function set_consulta4 at 0x000001A640A4A830>\n",
      "<function set_delete_dfs at 0x000001A640A4A9E0>\n"
     ]
    }
   ],
   "source": [
    "test = gen_comando3(dataframes_dict)"
   ]
  },
  {
   "cell_type": "code",
   "execution_count": 23,
   "metadata": {},
   "outputs": [
    {
     "name": "stdout",
     "output_type": "stream",
     "text": [
      "***************\n",
      "Dataframe Name: main_table\n",
      "****\n",
      "+----------+-------------+--------+------------------+-------+--------------------------------+------------+---------+----+----------+---------------+-------------------+---------------+---------------------------------+-------------------------------+\n",
      "|Factura   |Clase_factura|Posicion|Material          |Volumen|Unidad_de_medida_Volumen_Destino|Per_contable|Ejercicio|Pais|Pais_descr|Tipo_de_Cliente|Cliente_Solicitante|Cliente_Pagador|Cliente_Destinatario_de_Mercancia|Cliente_Destinatario_de_factura|\n",
      "+----------+-------------+--------+------------------+-------+--------------------------------+------------+---------+----+----------+---------------+-------------------+---------------+---------------------------------+-------------------------------+\n",
      "|0150190076|YN01         |10      |000000000010010108|5600.0 |M3                              |12          |2020     |CL  |CHILE     |WE             |null               |null           |164952                           |null                           |\n",
      "|0150190076|YN01         |10      |000000000010010108|5600.0 |M3                              |12          |2020     |null|null      |VD             |null               |null           |null                             |null                           |\n",
      "|0150190076|YN01         |10      |000000000010010108|5600.0 |M3                              |12          |2020     |null|null      |VE             |null               |null           |null                             |null                           |\n",
      "|0150190076|YN01         |10      |000000000010010108|5600.0 |M3                              |12          |2020     |CL  |CHILE     |RE             |null               |null           |null                             |164952                         |\n",
      "|0150190076|YN01         |10      |000000000010010108|5600.0 |M3                              |12          |2020     |CL  |CHILE     |RG             |null               |164952         |null                             |null                           |\n",
      "|0150190076|YN01         |10      |000000000010010108|5600.0 |M3                              |12          |2020     |CL  |CHILE     |AG             |164952             |null           |null                             |null                           |\n",
      "|0150113050|YPVN         |60      |M100PLY000122     |0.0    |M3                              |12          |2020     |null|null      |WE             |null               |null           |169397                           |null                           |\n",
      "|0150113050|YPVN         |60      |M100PLY000122     |0.0    |M3                              |12          |2020     |null|null      |VD             |null               |null           |null                             |null                           |\n",
      "|0150113050|YPVN         |60      |M100PLY000122     |0.0    |M3                              |12          |2020     |null|null      |VE             |null               |null           |null                             |null                           |\n",
      "|0150113050|YPVN         |60      |M100PLY000122     |0.0    |M3                              |12          |2020     |CL  |CHILE     |RE             |null               |null           |null                             |17309                          |\n",
      "+----------+-------------+--------+------------------+-------+--------------------------------+------------+---------+----+----------+---------------+-------------------+---------------+---------------------------------+-------------------------------+\n",
      "only showing top 10 rows\n",
      "\n",
      "***************\n",
      "Dataframe Name: consulta1\n",
      "****\n",
      "+---------------+------------+\n",
      "|Tipo_de_Cliente|Cant_Factura|\n",
      "+---------------+------------+\n",
      "|WE             |80744       |\n",
      "|RE             |80708       |\n",
      "|RG             |80708       |\n",
      "|VE             |80708       |\n",
      "|AG             |80708       |\n",
      "|VD             |59754       |\n",
      "|SE             |54698       |\n",
      "|AV             |28421       |\n",
      "|EN             |22553       |\n",
      "|NF             |867         |\n",
      "+---------------+------------+\n",
      "only showing top 10 rows\n",
      "\n",
      "***************\n",
      "Dataframe Name: consulta2\n",
      "****\n",
      "+------+----+---------------------------------+-------------+\n",
      "|Top_10|Pais|Cliente_Destinatario_de_Mercancia|Volumen_total|\n",
      "+------+----+---------------------------------+-------------+\n",
      "|1     |null|169539                           |446195.55    |\n",
      "|2     |CL  |243596                           |122000.0     |\n",
      "|3     |CL  |164952                           |118530.0     |\n",
      "|4     |US  |C6102                            |10610.67     |\n",
      "|5     |US  |C6108                            |8836.12      |\n",
      "|6     |US  |C6121                            |8002.88      |\n",
      "|7     |AE  |156091                           |5495.42      |\n",
      "|8     |KR  |149510                           |5054.01      |\n",
      "|9     |AU  |67622                            |4991.91      |\n",
      "|10    |US  |C6111                            |4834.14      |\n",
      "+------+----+---------------------------------+-------------+\n",
      "\n",
      "***************\n",
      "Dataframe Name: consulta2_no_nulls\n",
      "****\n",
      "+------+----+---------------------------------+-------------+\n",
      "|Top_10|Pais|Cliente_Destinatario_de_Mercancia|Volumen_total|\n",
      "+------+----+---------------------------------+-------------+\n",
      "|1     |CL  |243596                           |122000.0     |\n",
      "|2     |CL  |164952                           |118530.0     |\n",
      "|3     |US  |C6102                            |10610.67     |\n",
      "|4     |US  |C6108                            |8836.12      |\n",
      "|5     |US  |C6121                            |8002.88      |\n",
      "|6     |AE  |156091                           |5495.42      |\n",
      "|7     |KR  |149510                           |5054.01      |\n",
      "|8     |AU  |67622                            |4991.91      |\n",
      "|9     |US  |C6111                            |4834.14      |\n",
      "|10    |US  |C6106                            |4443.16      |\n",
      "+------+----+---------------------------------+-------------+\n",
      "\n",
      "***************\n",
      "Dataframe Name: consulta3\n",
      "****\n",
      "+-----+----+-------------------+-------------+\n",
      "|Top_5|Pais|Cliente_Solicitante|Volumen_total|\n",
      "+-----+----+-------------------+-------------+\n",
      "|1    |CL  |15847              |446360.3     |\n",
      "|2    |CL  |243596             |122000.0     |\n",
      "|3    |CL  |164952             |118530.0     |\n",
      "|4    |US  |C6102              |10610.67     |\n",
      "|5    |US  |C6108              |8836.12      |\n",
      "+-----+----+-------------------+-------------+\n",
      "\n",
      "***************\n",
      "Dataframe Name: consulta3_no_nulls\n",
      "****\n",
      "+-----+----+-------------------+-------------+\n",
      "|Top_5|Pais|Cliente_Solicitante|Volumen_total|\n",
      "+-----+----+-------------------+-------------+\n",
      "|1    |CL  |15847              |446360.3     |\n",
      "|2    |CL  |243596             |122000.0     |\n",
      "|3    |CL  |164952             |118530.0     |\n",
      "|4    |US  |C6102              |10610.67     |\n",
      "|5    |US  |C6108              |8836.12      |\n",
      "+-----+----+-------------------+-------------+\n",
      "\n",
      "***************\n",
      "Dataframe Name: consulta4\n",
      "****\n",
      "+-------------+-------------+\n",
      "|Clase_factura|Volumen_total|\n",
      "+-------------+-------------+\n",
      "|YNDN         |2671169.27   |\n",
      "|YN01         |1443336.0    |\n",
      "|YPVE         |803543.68    |\n",
      "|ZINM         |390815.45    |\n",
      "|YPVN         |283282.42    |\n",
      "+-------------+-------------+\n",
      "\n",
      "***************\n",
      "Dataframe Name: consulta4_no_nulls\n",
      "****\n",
      "+-------------+-------------+\n",
      "|Clase_factura|Volumen_total|\n",
      "+-------------+-------------+\n",
      "|YNDN         |2671169.27   |\n",
      "|YN01         |1443336.0    |\n",
      "|YPVE         |803543.68    |\n",
      "|ZINM         |390815.45    |\n",
      "|YPVN         |283282.42    |\n",
      "+-------------+-------------+\n",
      "\n"
     ]
    }
   ],
   "source": [
    "for df in test.keys():\n",
    "    print('***************')\n",
    "    print(f'Dataframe Name: {df}')\n",
    "    print('****')\n",
    "    test[df].show(10, truncate=False)"
   ]
  }
 ],
 "metadata": {
  "kernelspec": {
   "display_name": "Python 3.10.5 64-bit",
   "language": "python",
   "name": "python3"
  },
  "language_info": {
   "codemirror_mode": {
    "name": "ipython",
    "version": 3
   },
   "file_extension": ".py",
   "mimetype": "text/x-python",
   "name": "python",
   "nbconvert_exporter": "python",
   "pygments_lexer": "ipython3",
   "version": "3.10.5"
  },
  "orig_nbformat": 4,
  "vscode": {
   "interpreter": {
    "hash": "98b7f83ea1f6816592be813d0a9257f9f3e2d15bf5c320e3b781c72faa584dce"
   }
  }
 },
 "nbformat": 4,
 "nbformat_minor": 2
}
