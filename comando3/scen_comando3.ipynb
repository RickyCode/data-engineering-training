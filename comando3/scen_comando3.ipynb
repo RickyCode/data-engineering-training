{
  "cells": [
    {
      "cell_type": "code",
      "execution_count": null,
      "metadata": {
        "id": "QveXO2KE7sq1",
        "outputId": "480ea0af-4f99-4e3e-bfe3-3f9ed1f226c6"
      },
      "outputs": [
        {
          "data": {
            "text/html": [
              "\n",
              "<style>\n",
              "    .output-plaintext, .output-stream, .output {\n",
              "        white-space: pre !important;\n",
              "    }\n",
              "    pre { white-space: pre !important; }\n",
              "</style>\n"
            ],
            "text/plain": [
              "<IPython.core.display.HTML object>"
            ]
          },
          "execution_count": 1,
          "metadata": {},
          "output_type": "execute_result"
        }
      ],
      "source": [
        "from IPython.core.display import HTML\n",
        "HTML(r\"\"\"\n",
        "<style>\n",
        "    .output-plaintext, .output-stream, .output {\n",
        "        white-space: pre !important;\n",
        "    }\n",
        "    pre { white-space: pre !important; }\n",
        "</style>\n",
        "\"\"\")"
      ]
    },
    {
      "cell_type": "markdown",
      "metadata": {
        "id": "lSWcuq2B7sq6"
      },
      "source": [
        "## Imports"
      ]
    },
    {
      "cell_type": "code",
      "execution_count": null,
      "metadata": {
        "id": "KQJUwNq_7srC"
      },
      "outputs": [],
      "source": [
        "import pyspark\n",
        "from pyspark.sql import SparkSession\n",
        "from pyspark.sql.functions import *\n",
        "from pyspark.sql.window import *\n",
        "from pyspark.sql.types import *\n",
        "\n",
        "spark=SparkSession.builder.appName('comando3').getOrCreate()"
      ]
    },
    {
      "cell_type": "markdown",
      "metadata": {
        "id": "jj7L8CaG7srD"
      },
      "source": [
        "## Load files"
      ]
    },
    {
      "cell_type": "code",
      "execution_count": null,
      "metadata": {
        "id": "0T6gcmo77srE"
      },
      "outputs": [],
      "source": [
        "dataframes_dict = { \n",
        "                'facturas'            : spark.read.parquet('./datasets/bkpf_vbrk.parquet'), \n",
        "                'facturas_x_clientes' : spark.read.parquet('./datasets/vbpa_kna1.parquet'),\n",
        "                'materiales'          : spark.read.parquet('./datasets/vbrp_mara_marm.parquet'),\n",
        "                'paises'              : spark.read.parquet('./datasets/T005T.parquet')\n",
        "                }"
      ]
    },
    {
      "cell_type": "markdown",
      "metadata": {
        "id": "Cc36f9OD7srE"
      },
      "source": [
        "### Select dataframes, filter and join"
      ]
    },
    {
      "cell_type": "code",
      "execution_count": null,
      "metadata": {
        "id": "Wwdt4sRi7srF"
      },
      "outputs": [],
      "source": [
        "def set_filters_and_joins(dataframes_dict):\n",
        "    \n",
        "    tabla_factura = dataframes_dict['facturas'].select('Factura','Clase_factura','Ejercicio','Per_contable')\n",
        "    facturas_x_clientes = dataframes_dict['facturas_x_clientes'].select('Factura','Posicion_de_Factura','Nombre','Pais','Tipo_de_Cliente','Cliente_Solicitante','Cliente_Pagador','Cliente_Destinatario_de_Mercancia','Cliente_Destinatario_de_factura')\n",
        "    tabla_materiales = dataframes_dict['materiales'].select('Factura','Posicion','Material','Volumen','Unidad_de_medida_Volumen_Destino')\n",
        "    maestro_paises = dataframes_dict['paises'].where((col('Idioma') == 'S') & (col('Mandante')==400))\n",
        "    \n",
        "    main_table = tabla_materiales.join(tabla_factura, 'Factura','left')\n",
        "    main_table = main_table.join(facturas_x_clientes, 'Factura','left') \n",
        "    main_table = main_table.join(maestro_paises, 'Pais', 'Left')\n",
        "    main_table = main_table.select('Factura','Clase_factura','Posicion','Material','Volumen','Unidad_de_medida_Volumen_Destino','Per_contable','Ejercicio','Pais','Pais_descr','Tipo_de_Cliente','Cliente_Solicitante','Cliente_Pagador','Cliente_Destinatario_de_Mercancia','Cliente_Destinatario_de_factura')\n",
        "    \n",
        "    return { 'main_table' : main_table }"
      ]
    },
    {
      "cell_type": "markdown",
      "metadata": {
        "id": "F9xMrQJQ7srH"
      },
      "source": [
        "## Realizar cuatro consultas\n",
        "  - Cantidad de facturas por tipo de cliente\n",
        "  - Top 10 Volumen total por país de cliente destinatario mercancía\n",
        "  - Top 5 Volumen total por cliente solicitante\n",
        "  - Volumen total por clase de factura, de mayor a menor volumen"
      ]
    },
    {
      "cell_type": "markdown",
      "metadata": {
        "id": "VlZVaYP37srI"
      },
      "source": [
        "### Consulta 1: Cantidad de facturas por tipo de cliente (numero_de_cliente)"
      ]
    },
    {
      "cell_type": "code",
      "execution_count": null,
      "metadata": {
        "id": "cwGkC5Qm7srI"
      },
      "outputs": [],
      "source": [
        "def set_consulta1(dataframes_dict):\n",
        "    \n",
        "    main_table = dataframes_dict['main_table']\n",
        "    \n",
        "    consulta1 = main_table.groupBy('Tipo_de_Cliente').count() \\\n",
        "                    .withColumnRenamed('count','Cant_Factura') \\\n",
        "                    .orderBy(col('Cant_Factura').desc())\n",
        "    \n",
        "    return { 'consulta1' : consulta1 }"
      ]
    },
    {
      "cell_type": "markdown",
      "metadata": {
        "id": "umDGDVws7srJ"
      },
      "source": [
        "### Consulta 2: Top 10 Volumen total por país de cliente destinatario mercancía"
      ]
    },
    {
      "cell_type": "code",
      "execution_count": null,
      "metadata": {
        "id": "x-CyTTrH7srK"
      },
      "outputs": [],
      "source": [
        "def set_consulta2(dataframes_dict):\n",
        "    \n",
        "    main_table = dataframes_dict['main_table']\n",
        "    \n",
        "    # filtrando los nulos de Cliente_Destinatario_de_Mercancia\n",
        "    consulta2 = main_table.where(col(\"Cliente_Destinatario_de_Mercancia\").isNotNull()) \\\n",
        "                .groupBy(\"Pais\",\"Cliente_Destinatario_de_Mercancia\").sum(\"Volumen\") \\\n",
        "                .select(\"Pais\",\"Cliente_Destinatario_de_Mercancia\", round(\"sum(Volumen)\",2).alias(\"Volumen_total\")) \\\n",
        "                .orderBy(col(\"Volumen_total\").desc())\\\n",
        "                .withColumn(\"Top_10\", monotonically_increasing_id()+1) \\\n",
        "                .select(\"Top_10\", \"Pais\",\"Cliente_Destinatario_de_Mercancia\",\"Volumen_total\").limit(10)\n",
        "    \n",
        "    # filtrando los nulos de Pais y Cliente_Destinatario_de_Mercancia\n",
        "    consulta2_no_nulls = main_table.where((col('Cliente_Destinatario_de_Mercancia') \\\n",
        "                .isNotNull()) & (col('Pais').isNotNull())) \\\n",
        "                .groupBy('Pais','Cliente_Destinatario_de_Mercancia').sum('Volumen') \\\n",
        "                .select(\"Pais\",\"Cliente_Destinatario_de_Mercancia\", round(\"sum(Volumen)\",2).alias(\"Volumen_total\")) \\\n",
        "                .orderBy(col('Volumen_total').desc()) \\\n",
        "                .withColumn(\"Top_10\", monotonically_increasing_id()+1) \\\n",
        "                .select(\"Top_10\", \"Pais\",\"Cliente_Destinatario_de_Mercancia\",\"Volumen_total\").limit(10)\n",
        "\n",
        "    return {\n",
        "        'consulta2'          : consulta2,\n",
        "        'consulta2_no_nulls' : consulta2_no_nulls\n",
        "        }"
      ]
    },
    {
      "cell_type": "markdown",
      "metadata": {
        "id": "1OzHtUEv7srL"
      },
      "source": [
        "### Consulta 3: Top 5 Volumen total por cliente solicitante"
      ]
    },
    {
      "cell_type": "code",
      "execution_count": null,
      "metadata": {
        "id": "GkU4hPVe7srL"
      },
      "outputs": [],
      "source": [
        "def set_consulta3(dataframes_dict):\n",
        "    \n",
        "    main_table = dataframes_dict['main_table']\n",
        "    \n",
        "    consulta3 = main_table.where(col('Cliente_Solicitante').isNotNull()) \\\n",
        "                .groupBy('Pais','Cliente_Solicitante').sum('Volumen') \\\n",
        "                .select(\"Pais\", \"Cliente_Solicitante\", round(\"sum(Volumen)\",2).alias(\"Volumen_total\")) \\\n",
        "                .orderBy(col('Volumen_total').desc()) \\\n",
        "                .withColumn(\"Top_5\", monotonically_increasing_id()+1) \\\n",
        "                .select(\"Top_5\", \"Pais\",\"Cliente_Solicitante\",\"Volumen_total\").limit(5)\n",
        "    \n",
        "    consulta3_no_nulls = main_table.where((col('Cliente_Solicitante').isNotNull()) & (col('Pais').isNotNull())) \\\n",
        "                .groupBy('Pais','Cliente_Solicitante').sum('Volumen') \\\n",
        "                .select(\"Pais\", \"Cliente_Solicitante\", round(\"sum(Volumen)\",2).alias(\"Volumen_total\")) \\\n",
        "                .orderBy(col('Volumen_total').desc()) \\\n",
        "                .withColumn(\"Top_5\", monotonically_increasing_id()+1) \\\n",
        "                .select(\"Top_5\", \"Pais\",\"Cliente_Solicitante\",\"Volumen_total\").limit(5)\n",
        "\n",
        "    return {\n",
        "        'consulta3'          : consulta3,\n",
        "        'consulta3_no_nulls' : consulta3_no_nulls\n",
        "        }"
      ]
    },
    {
      "cell_type": "markdown",
      "metadata": {
        "id": "rUaaslxH7srO"
      },
      "source": [
        "### Consulta 4: Volumen total por clase de factura, de mayor a menor volumen"
      ]
    },
    {
      "cell_type": "code",
      "execution_count": null,
      "metadata": {
        "id": "98pXtaha7srQ"
      },
      "outputs": [],
      "source": [
        "def set_consulta4(dataframes_dict):\n",
        "    \n",
        "    main_table = dataframes_dict['main_table']\n",
        "    \n",
        "    consulta4 = main_table.groupBy('Clase_factura').sum('Volumen') \\\n",
        "                .select('Clase_factura', round('sum(Volumen)',2).alias('Volumen_total')) \\\n",
        "                .orderBy(col('Volumen_total').desc()).limit(5)\n",
        "    \n",
        "    consulta4_no_nulls = main_table.where(col('Clase_factura').isNotNull()) \\\n",
        "                .groupBy('Clase_factura').sum('Volumen') \\\n",
        "                .select('Clase_factura', round('sum(Volumen)',2).alias('Volumen_total')) \\\n",
        "                .orderBy(col('Volumen_total').desc()).limit(5)\n",
        "\n",
        "    return {\n",
        "        'consulta4'          : consulta4,\n",
        "        'consulta4_no_nulls' : consulta4_no_nulls\n",
        "        }"
      ]
    },
    {
      "cell_type": "markdown",
      "metadata": {
        "id": "LGoAkvrf7srQ"
      },
      "source": [
        "### Clean dataframes_dict to setup final dictionary"
      ]
    },
    {
      "cell_type": "code",
      "execution_count": null,
      "metadata": {
        "id": "V0ZAJsz97srR"
      },
      "outputs": [],
      "source": [
        "def set_delete_dfs(dataframes_dict):\n",
        "    \n",
        "    to_delete_list = [\n",
        "        'facturas',\n",
        "        'facturas_x_clientes',\n",
        "        'materiales',\n",
        "        'paises'\n",
        "    ]\n",
        "    \n",
        "    for delete_df in to_delete_list:\n",
        "        del dataframes_dict[delete_df]\n",
        "    \n",
        "    return dataframes_dict"
      ]
    },
    {
      "cell_type": "markdown",
      "metadata": {
        "id": "W48fpEmf7srS"
      },
      "source": [
        "# Main Function:"
      ]
    },
    {
      "cell_type": "code",
      "execution_count": null,
      "metadata": {
        "id": "vE5qQpFj7srS"
      },
      "outputs": [],
      "source": [
        "def gen_comando3(dataframes_dict):\n",
        "    \n",
        "    functions_list = [\n",
        "        set_filters_and_joins,\n",
        "        set_consulta1,\n",
        "        set_consulta2,\n",
        "        set_consulta3,\n",
        "        set_consulta4,\n",
        "        set_delete_dfs\n",
        "    ]\n",
        "\n",
        "    for function in functions_list:\n",
        "        print(function)\n",
        "        result_element = function(dataframes_dict)\n",
        "        dataframes_dict.update(result_element)\n",
        "    \n",
        "    return dataframes_dict"
      ]
    },
    {
      "cell_type": "markdown",
      "metadata": {
        "id": "6oUlrqq-7srT"
      },
      "source": [
        "# Exporting notebook to .py extension"
      ]
    },
    {
      "cell_type": "code",
      "execution_count": null,
      "metadata": {
        "id": "j1XvZTwS7srT",
        "outputId": "737597ae-8afa-4df8-d3d4-f5146bb96731"
      },
      "outputs": [
        {
          "name": "stderr",
          "output_type": "stream",
          "text": [
            "[NbConvertApp] Converting notebook scen_comando3.ipynb to script\n",
            "[NbConvertApp] Writing 7331 bytes to scen_comando3.py\n"
          ]
        }
      ],
      "source": [
        "!jupyter nbconvert --to script --no-prompt scen_comando3.ipynb"
      ]
    },
    {
      "cell_type": "markdown",
      "metadata": {
        "id": "QeRQN-dv7srT"
      },
      "source": [
        "# Testing"
      ]
    },
    {
      "cell_type": "code",
      "execution_count": null,
      "metadata": {
        "id": "WKWhX4Rh7srU",
        "outputId": "6d8adb95-dbf5-4532-98a9-4db2fd19e7d7"
      },
      "outputs": [
        {
          "name": "stdout",
          "output_type": "stream",
          "text": [
            "<function set_filters_and_joins at 0x0000015F838BFD00>\n",
            "<function set_consulta1 at 0x0000015F83959EA0>\n",
            "<function set_consulta2 at 0x0000015F821BED40>\n",
            "<function set_consulta3 at 0x0000015F821BF910>\n",
            "<function set_consulta4 at 0x0000015F821BEB00>\n",
            "<function set_delete_dfs at 0x0000015F821BEC20>\n"
          ]
        }
      ],
      "source": [
        "test = gen_comando3(dataframes_dict)"
      ]
    },
    {
      "cell_type": "code",
      "execution_count": null,
      "metadata": {
        "id": "1gCaTQdv7srU",
        "outputId": "4c151561-c19b-4d81-d5a0-9f681f9763bb"
      },
      "outputs": [
        {
          "data": {
            "text/plain": [
              "dict_keys(['main_table', 'consulta1', 'consulta2', 'consulta2_no_nulls', 'consulta3', 'consulta3_no_nulls', 'consulta4', 'consulta4_no_nulls'])"
            ]
          },
          "execution_count": 13,
          "metadata": {},
          "output_type": "execute_result"
        }
      ],
      "source": [
        "test.keys()"
      ]
    },
    {
      "cell_type": "markdown",
      "source": [
        "# Probando guardar cambios desde colab"
      ],
      "metadata": {
        "id": "_dvPFo6b75A8"
      }
    },
    {
      "cell_type": "code",
      "source": [],
      "metadata": {
        "id": "ABgZx9xZ79YI"
      },
      "execution_count": null,
      "outputs": []
    }
  ],
  "metadata": {
    "kernelspec": {
      "display_name": "Python 3.10.5 64-bit",
      "language": "python",
      "name": "python3"
    },
    "language_info": {
      "codemirror_mode": {
        "name": "ipython",
        "version": 3
      },
      "file_extension": ".py",
      "mimetype": "text/x-python",
      "name": "python",
      "nbconvert_exporter": "python",
      "pygments_lexer": "ipython3",
      "version": "3.10.5"
    },
    "orig_nbformat": 4,
    "vscode": {
      "interpreter": {
        "hash": "98b7f83ea1f6816592be813d0a9257f9f3e2d15bf5c320e3b781c72faa584dce"
      }
    },
    "colab": {
      "provenance": []
    }
  },
  "nbformat": 4,
  "nbformat_minor": 0
}