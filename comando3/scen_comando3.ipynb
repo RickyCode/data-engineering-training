{
 "cells": [
  {
   "cell_type": "code",
   "execution_count": 4,
   "metadata": {},
   "outputs": [
    {
     "data": {
      "text/html": [
       "\n",
       "<style>\n",
       "    .output-plaintext, .output-stream, .output {\n",
       "        white-space: pre !important;\n",
       "    }\n",
       "    pre { white-space: pre !important; }\n",
       "</style>\n"
      ],
      "text/plain": [
       "<IPython.core.display.HTML object>"
      ]
     },
     "execution_count": 4,
     "metadata": {},
     "output_type": "execute_result"
    }
   ],
   "source": [
    "from IPython.core.display import HTML\n",
    "HTML(r\"\"\"\n",
    "<style>\n",
    "    .output-plaintext, .output-stream, .output {\n",
    "        white-space: pre !important;\n",
    "    }\n",
    "    pre { white-space: pre !important; }\n",
    "</style>\n",
    "\"\"\")"
   ]
  },
  {
   "cell_type": "markdown",
   "metadata": {},
   "source": [
    "## Imports"
   ]
  },
  {
   "cell_type": "code",
   "execution_count": 5,
   "metadata": {},
   "outputs": [],
   "source": [
    "import pyspark\n",
    "from pyspark.sql import SparkSession\n",
    "from pyspark.sql.functions import *\n",
    "from pyspark.sql.window import *\n",
    "from pyspark.sql.types import *\n",
    "\n",
    "spark=SparkSession.builder.appName('comando3v1').getOrCreate()"
   ]
  },
  {
   "cell_type": "markdown",
   "metadata": {},
   "source": [
    "## Load files"
   ]
  },
  {
   "cell_type": "code",
   "execution_count": 6,
   "metadata": {},
   "outputs": [],
   "source": [
    "dataframes_dict = { \n",
    "                'facturas'            : spark.read.parquet('./datasets/bkpf_vbrk.parquet'), \n",
    "                'facturas_x_clientes' : spark.read.parquet('./datasets/vbpa_kna1.parquet'),\n",
    "                'materiales'          : spark.read.parquet('./datasets/vbrp_mara_marm.parquet'),\n",
    "                'paises'              : spark.read.parquet('./datasets/T005T.parquet')\n",
    "                }"
   ]
  },
  {
   "cell_type": "markdown",
   "metadata": {},
   "source": [
    "### Select dataframes, filter and join"
   ]
  },
  {
   "cell_type": "code",
   "execution_count": 7,
   "metadata": {},
   "outputs": [],
   "source": [
    "def set_filters_and_joins(dataframes_dict):\n",
    "    \n",
    "    tabla_factura = dataframes_dict['facturas'].select('Factura','Clase_factura','Ejercicio','Per_contable')\n",
    "    facturas_x_clientes = dataframes_dict['facturas_x_clientes'].select('Factura','Posicion_de_Factura','Nombre','Pais','Tipo_de_Cliente','Cliente_Solicitante','Cliente_Pagador','Cliente_Destinatario_de_Mercancia','Cliente_Destinatario_de_factura')\n",
    "    tabla_materiales = dataframes_dict['materiales'].select('Factura','Posicion','Material','Volumen','Unidad_de_medida_Volumen_Destino')\n",
    "    maestro_paises = dataframes_dict['paises'].where((col('Idioma') == 'S') & (col('Mandante')==400))\n",
    "    \n",
    "    main_table = tabla_materiales.join(tabla_factura, 'Factura','left')\n",
    "    main_table = main_table.join(facturas_x_clientes, 'Factura','left') \n",
    "    main_table = main_table.join(maestro_paises, 'Pais', 'Left')\n",
    "    main_table = main_table.select('Factura','Clase_factura','Posicion','Material','Volumen','Unidad_de_medida_Volumen_Destino','Per_contable','Ejercicio','Pais','Pais_descr','Tipo_de_Cliente','Cliente_Solicitante','Cliente_Pagador','Cliente_Destinatario_de_Mercancia','Cliente_Destinatario_de_factura')\n",
    "    \n",
    "    return { 'main_table' : main_table }"
   ]
  },
  {
   "cell_type": "markdown",
   "metadata": {},
   "source": [
    "## Realizar cuatro consultas\n",
    "  - Cantidad de facturas por tipo de cliente\n",
    "  - Top 10 Volumen total por país de cliente destinatario mercancía\n",
    "  - Top 5 Volumen total por cliente solicitante\n",
    "  - Volumen total por clase de factura, de mayor a menor volumen"
   ]
  },
  {
   "cell_type": "markdown",
   "metadata": {},
   "source": [
    "### Consulta 1: Cantidad de facturas por tipo de cliente (numero_de_cliente)"
   ]
  },
  {
   "cell_type": "code",
   "execution_count": 8,
   "metadata": {},
   "outputs": [],
   "source": [
    "def set_consulta1(dataframes_dict):\n",
    "    \n",
    "    main_table = dataframes_dict['main_table']\n",
    "    \n",
    "    consulta1 = main_table.groupBy('Tipo_de_Cliente').count() \\\n",
    "                    .withColumnRenamed('count','Cant_Factura') \\\n",
    "                    .orderBy(col('Cant_Factura').desc())\n",
    "    \n",
    "    return { 'consulta1' : consulta1 }"
   ]
  },
  {
   "cell_type": "markdown",
   "metadata": {},
   "source": [
    "### Consulta 2: Top 10 Volumen total por país de cliente destinatario mercancía"
   ]
  },
  {
   "cell_type": "code",
   "execution_count": 9,
   "metadata": {},
   "outputs": [],
   "source": [
    "def set_consulta2(dataframes_dict):\n",
    "    \n",
    "    main_table = dataframes_dict['main_table']\n",
    "    \n",
    "    # filtrando los nulos de Cliente_Destinatario_de_Mercancia\n",
    "    consulta2 = main_table.where(col(\"Cliente_Destinatario_de_Mercancia\").isNotNull()) \\\n",
    "                .groupBy(\"Pais\",\"Cliente_Destinatario_de_Mercancia\").sum(\"Volumen\") \\\n",
    "                .select(\"Pais\",\"Cliente_Destinatario_de_Mercancia\", round(\"sum(Volumen)\",2).alias(\"Volumen_total\")) \\\n",
    "                .orderBy(col(\"Volumen_total\").desc())\\\n",
    "                .withColumn(\"Top_10\", monotonically_increasing_id()+1) \\\n",
    "                .select(\"Top_10\", \"Pais\",\"Cliente_Destinatario_de_Mercancia\",\"Volumen_total\").limit(10)\n",
    "    \n",
    "    # filtrando los nulos de Pais y Cliente_Destinatario_de_Mercancia\n",
    "    consulta2_no_nulls = main_table.where((col('Cliente_Destinatario_de_Mercancia') \\\n",
    "                .isNotNull()) & (col('Pais').isNotNull())) \\\n",
    "                .groupBy('Pais','Cliente_Destinatario_de_Mercancia').sum('Volumen') \\\n",
    "                .select(\"Pais\",\"Cliente_Destinatario_de_Mercancia\", round(\"sum(Volumen)\",2).alias(\"Volumen_total\")) \\\n",
    "                .orderBy(col('Volumen_total').desc()) \\\n",
    "                .withColumn(\"Top_10\", monotonically_increasing_id()+1) \\\n",
    "                .select(\"Top_10\", \"Pais\",\"Cliente_Destinatario_de_Mercancia\",\"Volumen_total\").limit(10)\n",
    "\n",
    "    return {\n",
    "        'consulta2'          : consulta2,\n",
    "        'consulta2_no_nulls' : consulta2_no_nulls\n",
    "        }"
   ]
  },
  {
   "cell_type": "markdown",
   "metadata": {},
   "source": [
    "### Consulta 3: Top 5 Volumen total por cliente solicitante"
   ]
  },
  {
   "cell_type": "code",
   "execution_count": 10,
   "metadata": {},
   "outputs": [],
   "source": [
    "def set_consulta3(dataframes_dict):\n",
    "    \n",
    "    main_table = dataframes_dict['main_table']\n",
    "    \n",
    "    consulta3 = main_table.where(col('Cliente_Solicitante').isNotNull()) \\\n",
    "                .groupBy('Pais','Cliente_Solicitante').sum('Volumen') \\\n",
    "                .select(\"Pais\", \"Cliente_Solicitante\", round(\"sum(Volumen)\",2).alias(\"Volumen_total\")) \\\n",
    "                .orderBy(col('Volumen_total').desc()) \\\n",
    "                .withColumn(\"Top_5\", monotonically_increasing_id()+1) \\\n",
    "                .select(\"Top_5\", \"Pais\",\"Cliente_Solicitante\",\"Volumen_total\").limit(5)\n",
    "    \n",
    "    consulta3_no_nulls = main_table.where((col('Cliente_Solicitante').isNotNull()) & (col('Pais').isNotNull())) \\\n",
    "                .groupBy('Pais','Cliente_Solicitante').sum('Volumen') \\\n",
    "                .select(\"Pais\", \"Cliente_Solicitante\", round(\"sum(Volumen)\",2).alias(\"Volumen_total\")) \\\n",
    "                .orderBy(col('Volumen_total').desc()) \\\n",
    "                .withColumn(\"Top_5\", monotonically_increasing_id()+1) \\\n",
    "                .select(\"Top_5\", \"Pais\",\"Cliente_Solicitante\",\"Volumen_total\").limit(5)\n",
    "\n",
    "    return {\n",
    "        'consulta3'          : consulta3,\n",
    "        'consulta3_no_nulls' : consulta3_no_nulls\n",
    "        }"
   ]
  },
  {
   "cell_type": "markdown",
   "metadata": {},
   "source": [
    "### Consulta 4: Volumen total por clase de factura, de mayor a menor volumen"
   ]
  },
  {
   "cell_type": "code",
   "execution_count": 11,
   "metadata": {},
   "outputs": [],
   "source": [
    "def set_consulta4(dataframes_dict):\n",
    "    \n",
    "    main_table = dataframes_dict['main_table']\n",
    "    \n",
    "    consulta4 = main_table.groupBy('Clase_factura').sum('Volumen') \\\n",
    "                .select('Clase_factura', round('sum(Volumen)',2).alias('Volumen_total')) \\\n",
    "                .orderBy(col('Volumen_total').desc()).limit(5)\n",
    "    \n",
    "    consulta4_no_nulls = main_table.where(col('Clase_factura').isNotNull()) \\\n",
    "                .groupBy('Clase_factura').sum('Volumen') \\\n",
    "                .select('Clase_factura', round('sum(Volumen)',2).alias('Volumen_total')) \\\n",
    "                .orderBy(col('Volumen_total').desc()).limit(5)\n",
    "\n",
    "    return {\n",
    "        'consulta4'          : consulta4,\n",
    "        'consulta4_no_nulls' : consulta4_no_nulls\n",
    "        }"
   ]
  },
  {
   "cell_type": "markdown",
   "metadata": {},
   "source": [
    "### Clean dataframes_dict to setup final dictionary"
   ]
  },
  {
   "cell_type": "code",
   "execution_count": 12,
   "metadata": {},
   "outputs": [],
   "source": [
    "def set_delete_dfs(dataframes_dict):\n",
    "    \n",
    "    to_delete_list = [\n",
    "        'facturas',\n",
    "        'facturas_x_clientes',\n",
    "        'materiales',\n",
    "        'paises'\n",
    "    ]\n",
    "    \n",
    "    for delete_df in to_delete_list:\n",
    "        del dataframes_dict[delete_df]\n",
    "    \n",
    "    return dataframes_dict"
   ]
  },
  {
   "cell_type": "markdown",
   "metadata": {},
   "source": [
    "# Main Function:"
   ]
  },
  {
   "cell_type": "code",
   "execution_count": 13,
   "metadata": {},
   "outputs": [],
   "source": [
    "def gen_comando3(dataframes_dict):\n",
    "    \n",
    "    functions_list = [\n",
    "        set_filters_and_joins,\n",
    "        set_consulta1,\n",
    "        set_consulta2,\n",
    "        set_consulta3,\n",
    "        set_consulta4,\n",
    "        #set_delete_dfs\n",
    "    ]\n",
    "\n",
    "    for function in functions_list:\n",
    "        print(function)\n",
    "        result_element = function(dataframes_dict)\n",
    "        dataframes_dict.update(result_element)\n",
    "    \n",
    "    return dataframes_dict"
   ]
  },
  {
   "cell_type": "markdown",
   "metadata": {},
   "source": [
    "# Exporting notebook to .py extension"
   ]
  },
  {
   "cell_type": "code",
   "execution_count": 11,
   "metadata": {},
   "outputs": [
    {
     "name": "stderr",
     "output_type": "stream",
     "text": [
      "[NbConvertApp] Converting notebook scen_comando3.ipynb to script\n",
      "[NbConvertApp] Writing 7353 bytes to scen_comando3.py\n"
     ]
    }
   ],
   "source": [
    "!jupyter nbconvert --to script --no-prompt scen_comando3.ipynb"
   ]
  },
  {
   "cell_type": "markdown",
   "metadata": {},
   "source": [
    "# Testing"
   ]
  },
  {
   "cell_type": "code",
   "execution_count": 14,
   "metadata": {},
   "outputs": [
    {
     "name": "stdout",
     "output_type": "stream",
     "text": [
      "<function set_filters_and_joins at 0x000001BD0A499C60>\n",
      "<function set_consulta1 at 0x000001BD06B3BEB0>\n",
      "<function set_consulta2 at 0x000001BD06B3B490>\n",
      "<function set_consulta3 at 0x000001BD06B3BD00>\n",
      "<function set_consulta4 at 0x000001BD0A498CA0>\n"
     ]
    }
   ],
   "source": [
    "test = gen_comando3(dataframes_dict)"
   ]
  },
  {
   "cell_type": "code",
   "execution_count": 15,
   "metadata": {},
   "outputs": [
    {
     "data": {
      "text/plain": [
       "dict_keys(['main_table', 'consulta1', 'consulta2', 'consulta2_no_nulls', 'consulta3', 'consulta3_no_nulls', 'consulta4', 'consulta4_no_nulls'])"
      ]
     },
     "execution_count": 15,
     "metadata": {},
     "output_type": "execute_result"
    }
   ],
   "source": [
    "test.keys()"
   ]
  },
  {
   "cell_type": "code",
   "execution_count": 18,
   "metadata": {},
   "outputs": [],
   "source": [
    "tabla_factura = dataframes_dict['facturas'].select('Factura','Clase_factura','Ejercicio','Per_contable')\n",
    "facturas_x_clientes = dataframes_dict['facturas_x_clientes'].select('Factura','Posicion_de_Factura','Nombre','Pais','Tipo_de_Cliente','Cliente_Solicitante','Cliente_Pagador','Cliente_Destinatario_de_Mercancia','Cliente_Destinatario_de_factura')\n",
    "tabla_materiales = dataframes_dict['materiales'].select('Factura','Posicion','Material','Volumen','Unidad_de_medida_Volumen_Destino')\n",
    "maestro_paises = dataframes_dict['paises'].where((col('Idioma') == 'S') & (col('Mandante')==400))\n",
    "\n",
    "main_table1 = tabla_materiales.join(tabla_factura, 'Factura','left')\n",
    "main_table2 = main_table1.join(facturas_x_clientes, 'Factura','left') \n",
    "main_table3 = main_table2.join(maestro_paises, 'Pais', 'Left')\n",
    "main_table4 = main_table3.select('Factura','Clase_factura','Posicion','Material','Volumen','Unidad_de_medida_Volumen_Destino','Per_contable','Ejercicio','Pais','Pais_descr','Tipo_de_Cliente','Cliente_Solicitante','Cliente_Pagador','Cliente_Destinatario_de_Mercancia','Cliente_Destinatario_de_factura')\n"
   ]
  },
  {
   "cell_type": "code",
   "execution_count": 28,
   "metadata": {},
   "outputs": [
    {
     "name": "stdout",
     "output_type": "stream",
     "text": [
      "80708\n",
      "19135\n"
     ]
    }
   ],
   "source": [
    "print(main_table1.count())\n",
    "print(facturas_x_clientes.count())"
   ]
  },
  {
   "cell_type": "code",
   "execution_count": 26,
   "metadata": {},
   "outputs": [
    {
     "name": "stdout",
     "output_type": "stream",
     "text": [
      "+-----------------+\n",
      "|     sum(Volumen)|\n",
      "+-----------------+\n",
      "|899471.0868944847|\n",
      "+-----------------+\n",
      "\n",
      "+-----------------+\n",
      "|     sum(Volumen)|\n",
      "+-----------------+\n",
      "|899471.0868944847|\n",
      "+-----------------+\n",
      "\n",
      "+-----------------+\n",
      "|     sum(Volumen)|\n",
      "+-----------------+\n",
      "|5652128.297495328|\n",
      "+-----------------+\n",
      "\n",
      "+-----------------+\n",
      "|     sum(Volumen)|\n",
      "+-----------------+\n",
      "|5652128.297495328|\n",
      "+-----------------+\n",
      "\n",
      "+-----------------+\n",
      "|     sum(Volumen)|\n",
      "+-----------------+\n",
      "|5652128.297495328|\n",
      "+-----------------+\n",
      "\n"
     ]
    }
   ],
   "source": [
    "tabla_materiales.select(sum('Volumen')).show()\n",
    "#tabla_factura.select(sum('Volumen')).show()\n",
    "main_table1.select(sum('Volumen')).show()\n",
    "main_table2.select(sum('Volumen')).show()\n",
    "main_table3.select(sum('Volumen')).show()\n",
    "main_table4.select(sum('Volumen')).show()"
   ]
  },
  {
   "cell_type": "code",
   "execution_count": 60,
   "metadata": {},
   "outputs": [],
   "source": [
    "main_table2_CS = main_table2.where(col('Cliente_Solicitante').isNotNull())\n",
    "main_table2_CP = main_table2.where(col('Cliente_Pagador').isNotNull())\n",
    "main_table2_CDM = main_table2.where(col('Cliente_Destinatario_de_Mercancia').isNotNull())\n",
    "main_table2_CDF = main_table2.where(col('Cliente_Destinatario_de_factura').isNotNull())\n",
    "main_table2_allnulls = main_table2.where(~( (col('Cliente_Destinatario_de_factura').isNull())  & (col('Cliente_Destinatario_de_Mercancia').isNull()) & (col('Cliente_Pagador').isNull()) & (col('Cliente_Solicitante').isNull())))\n",
    "main_table2_allnulls2 = main_table2.where(( (col('Cliente_Destinatario_de_factura').isNull())  & (col('Cliente_Destinatario_de_Mercancia').isNull()) & (col('Cliente_Pagador').isNull()) & (col('Cliente_Solicitante').isNull())))"
   ]
  },
  {
   "cell_type": "code",
   "execution_count": 61,
   "metadata": {},
   "outputs": [
    {
     "name": "stdout",
     "output_type": "stream",
     "text": [
      "570466\n",
      "322868\n",
      "247598\n"
     ]
    }
   ],
   "source": [
    "print(main_table2.count())\n",
    "print(main_table2_allnulls.count())\n",
    "print(main_table2_allnulls2.count())"
   ]
  },
  {
   "cell_type": "code",
   "execution_count": 57,
   "metadata": {},
   "outputs": [
    {
     "name": "stdout",
     "output_type": "stream",
     "text": [
      "+---------------+----+-----+\n",
      "|Tipo_de_Cliente|Pais|count|\n",
      "+---------------+----+-----+\n",
      "|             VD|null|59754|\n",
      "|             AV|null|28421|\n",
      "|             EN|null|22361|\n",
      "|             SP|null|  597|\n",
      "|             VE|null|80708|\n",
      "|             EN|  CL|   52|\n",
      "|             SE|null|54698|\n",
      "|             NF|  CN|  647|\n",
      "|             EN|  US|  140|\n",
      "|             NF|  SG|  179|\n",
      "|             NF|  VN|   41|\n",
      "+---------------+----+-----+\n",
      "\n"
     ]
    }
   ],
   "source": [
    "main_table2_allnulls.groupBy('Tipo_de_Cliente', 'Pais').count().show()"
   ]
  },
  {
   "cell_type": "code",
   "execution_count": 39,
   "metadata": {},
   "outputs": [
    {
     "name": "stdout",
     "output_type": "stream",
     "text": [
      "+-----------------+\n",
      "|     sum(Volumen)|\n",
      "+-----------------+\n",
      "|5652128.297495328|\n",
      "+-----------------+\n",
      "\n",
      "+-----------------+\n",
      "|     sum(Volumen)|\n",
      "+-----------------+\n",
      "|899471.0868944847|\n",
      "+-----------------+\n",
      "\n",
      "+-----------------+\n",
      "|     sum(Volumen)|\n",
      "+-----------------+\n",
      "|899471.0868944847|\n",
      "+-----------------+\n",
      "\n",
      "+-----------------+\n",
      "|     sum(Volumen)|\n",
      "+-----------------+\n",
      "|899593.4532944837|\n",
      "+-----------------+\n",
      "\n",
      "+-----------------+\n",
      "|     sum(Volumen)|\n",
      "+-----------------+\n",
      "|899471.0868944847|\n",
      "+-----------------+\n",
      "\n"
     ]
    }
   ],
   "source": [
    "main_table2.select(sum('Volumen')).show()\n",
    "main_table2_CS.select(sum('Volumen')).show()\n",
    "main_table2_CP.select(sum('Volumen')).show()\n",
    "main_table2_CDM.select(sum('Volumen')).show()\n",
    "main_table2_CDF.select(sum('Volumen')).show()"
   ]
  }
 ],
 "metadata": {
  "kernelspec": {
   "display_name": "Python 3.10.5 64-bit",
   "language": "python",
   "name": "python3"
  },
  "language_info": {
   "codemirror_mode": {
    "name": "ipython",
    "version": 3
   },
   "file_extension": ".py",
   "mimetype": "text/x-python",
   "name": "python",
   "nbconvert_exporter": "python",
   "pygments_lexer": "ipython3",
   "version": "3.10.5"
  },
  "orig_nbformat": 4,
  "vscode": {
   "interpreter": {
    "hash": "98b7f83ea1f6816592be813d0a9257f9f3e2d15bf5c320e3b781c72faa584dce"
   }
  }
 },
 "nbformat": 4,
 "nbformat_minor": 2
}
