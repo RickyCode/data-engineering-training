{
 "cells": [
  {
   "cell_type": "markdown",
   "metadata": {},
   "source": [
    "# Transformaciones con Pyspark 2"
   ]
  },
  {
   "cell_type": "markdown",
   "metadata": {},
   "source": [
    "---\n",
    "\n",
    "## Primero lo primero... importamos los módulos que usaremos"
   ]
  },
  {
   "cell_type": "code",
   "execution_count": 1,
   "metadata": {},
   "outputs": [],
   "source": [
    "from pyspark.sql import SparkSession, SQLContext\n",
    "from pyspark.sql.functions import col, lit, concat\n",
    "\n",
    "from pyspark.sql.types import IntegerType, StringType, FloatType"
   ]
  },
  {
   "cell_type": "markdown",
   "metadata": {},
   "source": [
    "## Nos conectamos:"
   ]
  },
  {
   "cell_type": "code",
   "execution_count": 2,
   "metadata": {},
   "outputs": [
    {
     "name": "stderr",
     "output_type": "stream",
     "text": [
      "C:\\Users\\rdelr\\AppData\\Local\\Programs\\Python\\Python39\\lib\\site-packages\\pyspark\\sql\\context.py:77: FutureWarning: Deprecated in 3.0.0. Use SparkSession.builder.getOrCreate() instead.\n",
      "  warnings.warn(\n"
     ]
    }
   ],
   "source": [
    "# spark_session = SparkSession.builder.appName('data engineering training').getOrCreate()\n",
    "spark_session = (\n",
    "    SparkSession\n",
    "        .builder\n",
    "        .appName('data engineering training')\n",
    "        .getOrCreate()\n",
    ")\n",
    "spark_context = spark_session.sparkContext\n",
    "sql_context = SQLContext(spark_context)"
   ]
  },
  {
   "cell_type": "markdown",
   "metadata": {},
   "source": [
    "## Leemos el dataframe"
   ]
  },
  {
   "cell_type": "code",
   "execution_count": 3,
   "metadata": {},
   "outputs": [
    {
     "name": "stdout",
     "output_type": "stream",
     "text": [
      "+---+----------+----------------+---------+----+----------+-----+\n",
      "|_c0|student_id|    student_name|  subject|year|      date|score|\n",
      "+---+----------+----------------+---------+----+----------+-----+\n",
      "|  0|         1|    Ada Lovelace|Filosofía|2020|2020-03-31|  4.4|\n",
      "|  1|         2|     Hedy Lamarr|Filosofía|2020|2020-03-31|  5.7|\n",
      "|  2|         3|     Jude Milhon|Filosofía|2020|2020-03-31|  3.8|\n",
      "|  3|         4|     Ángela Ruiz|Filosofía|2020|2020-03-31|  6.9|\n",
      "|  4|         5|      Carol Shaw|Filosofía|2020|2020-03-31|  6.8|\n",
      "|  5|         6| Marisol Alarcón|Filosofía|2020|2020-03-31|  6.1|\n",
      "|  6|         7|    Katie Bouman|Filosofía|2020|2020-03-31|  3.4|\n",
      "|  7|         8|     Alan Turing|Filosofía|2020|2020-03-31|  6.7|\n",
      "|  8|         9|Jhon von Neumann|Filosofía|2020|2020-03-31|  6.3|\n",
      "|  9|        10|Richard Stallman|Filosofía|2020|2020-03-31|  3.8|\n",
      "| 10|         1|    Ada Lovelace|Filosofía|2020|2020-06-31|  5.7|\n",
      "| 11|         2|     Hedy Lamarr|Filosofía|2020|2020-06-31|  4.4|\n",
      "| 12|         3|     Jude Milhon|Filosofía|2020|2020-06-31|  4.3|\n",
      "| 13|         4|     Ángela Ruiz|Filosofía|2020|2020-06-31|  6.3|\n",
      "| 14|         5|      Carol Shaw|Filosofía|2020|2020-06-31|  6.4|\n",
      "| 15|         6| Marisol Alarcón|Filosofía|2020|2020-06-31|  6.8|\n",
      "| 16|         7|    Katie Bouman|Filosofía|2020|2020-06-31|  4.4|\n",
      "| 17|         8|     Alan Turing|Filosofía|2020|2020-06-31|  3.4|\n",
      "| 18|         9|Jhon von Neumann|Filosofía|2020|2020-06-31|  3.0|\n",
      "| 19|        10|Richard Stallman|Filosofía|2020|2020-06-31|  5.4|\n",
      "+---+----------+----------------+---------+----+----------+-----+\n",
      "only showing top 20 rows\n",
      "\n"
     ]
    }
   ],
   "source": [
    "scores_df = (\n",
    "    sql_context\n",
    "        .read\n",
    "        .option('header', True)\n",
    "        .csv('student_scores_2020.csv')\n",
    ")\n",
    "\n",
    "scores_df.show()"
   ]
  },
  {
   "cell_type": "code",
   "execution_count": null,
   "metadata": {},
   "outputs": [],
   "source": []
  },
  {
   "cell_type": "markdown",
   "metadata": {},
   "source": [
    "\n",
    "---"
   ]
  },
  {
   "cell_type": "code",
   "execution_count": 21,
   "metadata": {},
   "outputs": [
    {
     "data": {
      "text/plain": [
       "[1, 2, 3, 'hola', []]"
      ]
     },
     "execution_count": 21,
     "metadata": {},
     "output_type": "execute_result"
    }
   ],
   "source": [
    "my_list = [1, 2, 3, 'hola', []]\n",
    "\n",
    "my_list"
   ]
  },
  {
   "cell_type": "code",
   "execution_count": 24,
   "metadata": {},
   "outputs": [],
   "source": [
    "my_list[2] = 6538432849327"
   ]
  },
  {
   "cell_type": "code",
   "execution_count": 25,
   "metadata": {},
   "outputs": [
    {
     "data": {
      "text/plain": [
       "[1, 2, 6538432849327, 'hola', []]"
      ]
     },
     "execution_count": 25,
     "metadata": {},
     "output_type": "execute_result"
    }
   ],
   "source": [
    "my_list"
   ]
  },
  {
   "cell_type": "code",
   "execution_count": 27,
   "metadata": {},
   "outputs": [
    {
     "data": {
      "text/plain": [
       "(1, 2, 3, 4, 5, 'fdashldsa', [], ())"
      ]
     },
     "execution_count": 27,
     "metadata": {},
     "output_type": "execute_result"
    }
   ],
   "source": [
    "my_tuple = (1,2,3,4,5,'fdashldsa', [], ())\n",
    "my_tuple"
   ]
  },
  {
   "cell_type": "code",
   "execution_count": 29,
   "metadata": {},
   "outputs": [
    {
     "ename": "TypeError",
     "evalue": "'tuple' object does not support item assignment",
     "output_type": "error",
     "traceback": [
      "\u001b[1;31m---------------------------------------------------------------------------\u001b[0m",
      "\u001b[1;31mTypeError\u001b[0m                                 Traceback (most recent call last)",
      "\u001b[1;32m~\\AppData\\Local\\Temp/ipykernel_3716/2133405693.py\u001b[0m in \u001b[0;36m<module>\u001b[1;34m\u001b[0m\n\u001b[1;32m----> 1\u001b[1;33m \u001b[0mmy_tuple\u001b[0m\u001b[1;33m[\u001b[0m\u001b[1;36m2\u001b[0m\u001b[1;33m]\u001b[0m \u001b[1;33m=\u001b[0m \u001b[1;36m47109437021\u001b[0m\u001b[1;33m\u001b[0m\u001b[1;33m\u001b[0m\u001b[0m\n\u001b[0m",
      "\u001b[1;31mTypeError\u001b[0m: 'tuple' object does not support item assignment"
     ]
    }
   ],
   "source": [
    "my_tuple[2] = 47109437021"
   ]
  },
  {
   "cell_type": "code",
   "execution_count": 30,
   "metadata": {},
   "outputs": [
    {
     "data": {
      "text/plain": [
       "{1, 2, 3, 4, 5}"
      ]
     },
     "execution_count": 30,
     "metadata": {},
     "output_type": "execute_result"
    }
   ],
   "source": [
    "my_set = {1, 1, 2, 2, 3, 3, 4, 4, 5, 5}\n",
    "\n",
    "my_set"
   ]
  },
  {
   "cell_type": "code",
   "execution_count": null,
   "metadata": {},
   "outputs": [],
   "source": [
    "my_dict = {'key1':'value', }"
   ]
  },
  {
   "cell_type": "markdown",
   "metadata": {},
   "source": [
    "---"
   ]
  },
  {
   "cell_type": "code",
   "execution_count": 20,
   "metadata": {},
   "outputs": [
    {
     "name": "stdout",
     "output_type": "stream",
     "text": [
      "***** Row(_c0='0', student_id='1', student_name='Ada Lovelace', subject='Filosofía', year='2020', date='2020-03-31', score='4.4')\n",
      "***** Row(_c0='1', student_id='2', student_name='Hedy Lamarr', subject='Filosofía', year='2020', date='2020-03-31', score='5.7')\n",
      "***** Row(_c0='2', student_id='3', student_name='Jude Milhon', subject='Filosofía', year='2020', date='2020-03-31', score='3.8')\n",
      "***** Row(_c0='3', student_id='4', student_name='Ángela Ruiz', subject='Filosofía', year='2020', date='2020-03-31', score='6.9')\n",
      "***** Row(_c0='4', student_id='5', student_name='Carol Shaw', subject='Filosofía', year='2020', date='2020-03-31', score='6.8')\n"
     ]
    }
   ],
   "source": [
    "row_list = scores_df.head(5)\n",
    "\n",
    "for row in row_list:\n",
    "    print('*****', row)\n",
    "\n"
   ]
  },
  {
   "cell_type": "code",
   "execution_count": 33,
   "metadata": {},
   "outputs": [
    {
     "name": "stdout",
     "output_type": "stream",
     "text": [
      "+---+----------+----------------+---------+----+----------+-----+\n",
      "|_c0|student_id|    student_name|  subject|year|      date|score|\n",
      "+---+----------+----------------+---------+----+----------+-----+\n",
      "|  0|         1|    Ada Lovelace|Filosofía|2020|2020-03-31|  4.4|\n",
      "|  1|         2|     Hedy Lamarr|Filosofía|2020|2020-03-31|  5.7|\n",
      "|  2|         3|     Jude Milhon|Filosofía|2020|2020-03-31|  3.8|\n",
      "|  3|         4|     Ángela Ruiz|Filosofía|2020|2020-03-31|  6.9|\n",
      "|  4|         5|      Carol Shaw|Filosofía|2020|2020-03-31|  6.8|\n",
      "|  5|         6| Marisol Alarcón|Filosofía|2020|2020-03-31|  6.1|\n",
      "|  6|         7|    Katie Bouman|Filosofía|2020|2020-03-31|  3.4|\n",
      "|  7|         8|     Alan Turing|Filosofía|2020|2020-03-31|  6.7|\n",
      "|  8|         9|Jhon von Neumann|Filosofía|2020|2020-03-31|  6.3|\n",
      "|  9|        10|Richard Stallman|Filosofía|2020|2020-03-31|  3.8|\n",
      "| 10|         1|    Ada Lovelace|Filosofía|2020|2020-06-31|  5.7|\n",
      "| 11|         2|     Hedy Lamarr|Filosofía|2020|2020-06-31|  4.4|\n",
      "| 12|         3|     Jude Milhon|Filosofía|2020|2020-06-31|  4.3|\n",
      "| 13|         4|     Ángela Ruiz|Filosofía|2020|2020-06-31|  6.3|\n",
      "| 14|         5|      Carol Shaw|Filosofía|2020|2020-06-31|  6.4|\n",
      "| 15|         6| Marisol Alarcón|Filosofía|2020|2020-06-31|  6.8|\n",
      "| 16|         7|    Katie Bouman|Filosofía|2020|2020-06-31|  4.4|\n",
      "| 17|         8|     Alan Turing|Filosofía|2020|2020-06-31|  3.4|\n",
      "| 18|         9|Jhon von Neumann|Filosofía|2020|2020-06-31|  3.0|\n",
      "| 19|        10|Richard Stallman|Filosofía|2020|2020-06-31|  5.4|\n",
      "+---+----------+----------------+---------+----+----------+-----+\n",
      "only showing top 20 rows\n",
      "\n"
     ]
    },
    {
     "data": {
      "text/plain": [
       "NoneType"
      ]
     },
     "execution_count": 33,
     "metadata": {},
     "output_type": "execute_result"
    }
   ],
   "source": [
    "scores_df.show()"
   ]
  },
  {
   "cell_type": "markdown",
   "metadata": {},
   "source": [
    "## 2) Fe de Erratas: Las funciones que se importan nos sirven para usarlas dentro de otras funciones."
   ]
  },
  {
   "cell_type": "code",
   "execution_count": 54,
   "metadata": {},
   "outputs": [],
   "source": [
    "\n",
    "from pyspark.sql.functions import (\n",
    "    min as spark_min,\n",
    "    max as spark_max,\n",
    "    avg as spark_svg,\n",
    "    sum as spark_sum,\n",
    "    round as spark_round,\n",
    "    row_number\n",
    ")\n"
   ]
  },
  {
   "cell_type": "code",
   "execution_count": 47,
   "metadata": {},
   "outputs": [
    {
     "data": {
      "text/plain": [
       "5.484"
      ]
     },
     "execution_count": 47,
     "metadata": {},
     "output_type": "execute_result"
    }
   ],
   "source": [
    "round(5.48379017492074, 3)"
   ]
  },
  {
   "cell_type": "code",
   "execution_count": 55,
   "metadata": {},
   "outputs": [
    {
     "name": "stdout",
     "output_type": "stream",
     "text": [
      "+--------------------+----------+----------+-----------------+\n",
      "|round(sum(score), 0)|min(score)|max(score)|       avg(score)|\n",
      "+--------------------+----------+----------+-----------------+\n",
      "|              1210.0|       3.0|       6.9|5.042083333333329|\n",
      "+--------------------+----------+----------+-----------------+\n",
      "\n"
     ]
    }
   ],
   "source": [
    "(\n",
    "    scores_df\n",
    "        .agg(spark_round(sum(col('score'))), min(col('score')), max(col('score')), avg(col('score')))\n",
    ").show()"
   ]
  },
  {
   "cell_type": "markdown",
   "metadata": {},
   "source": [
    "## group by\n"
   ]
  },
  {
   "cell_type": "code",
   "execution_count": 56,
   "metadata": {},
   "outputs": [
    {
     "name": "stdout",
     "output_type": "stream",
     "text": [
      "+----------------+-------------------+-----------------+\n",
      "|    student_name|            subject|       avg(score)|\n",
      "+----------------+-------------------+-----------------+\n",
      "|     Ángela Ruiz|       Neurociencia|5.074999928474426|\n",
      "|     Hedy Lamarr|         Psicología|5.174999952316284|\n",
      "| Marisol Alarcón|   Educación Cívica|5.200000047683716|\n",
      "|     Alan Turing|       Neurociencia|5.075000047683716|\n",
      "|    Ada Lovelace|Finanzas y Economía|5.025000035762787|\n",
      "|    Ada Lovelace|       Programación|4.674999952316284|\n",
      "|     Jude Milhon|       Neurociencia|5.024999976158142|\n",
      "|Jhon von Neumann|         Psicología|5.274999976158142|\n",
      "|Richard Stallman|Finanzas y Economía|4.400000035762787|\n",
      "|    Katie Bouman|Finanzas y Economía|             5.25|\n",
      "|      Carol Shaw|          Filosofía|5.150000095367432|\n",
      "|     Jude Milhon|   Educación Cívica|5.199999988079071|\n",
      "|     Hedy Lamarr|          Filosofía|5.425000071525574|\n",
      "| Marisol Alarcón|Finanzas y Economía|5.275000035762787|\n",
      "|     Jude Milhon|       Programación|5.299999952316284|\n",
      "|     Alan Turing|          Filosofía|4.649999976158142|\n",
      "|     Jude Milhon|          Filosofía|5.074999988079071|\n",
      "|     Ángela Ruiz|          Filosofía|6.650000095367432|\n",
      "|Jhon von Neumann|   Educación Cívica|             6.25|\n",
      "|Richard Stallman|       Neurociencia|5.975000023841858|\n",
      "+----------------+-------------------+-----------------+\n",
      "only showing top 20 rows\n",
      "\n"
     ]
    }
   ],
   "source": [
    " (\n",
    "scores_df\n",
    "    .withColumn('score', col('score').cast(FloatType()))\n",
    "    .groupBy('student_name', 'subject').avg('score')\n",
    " ).show()"
   ]
  },
  {
   "cell_type": "code",
   "execution_count": null,
   "metadata": {},
   "outputs": [
    {
     "name": "stdout",
     "output_type": "stream",
     "text": [
      "+----------------+-------------------+-----------------+\n",
      "|    student_name|            subject|       avg(score)|\n",
      "+----------------+-------------------+-----------------+\n",
      "|     Ángela Ruiz|       Neurociencia|5.074999928474426|\n",
      "|     Hedy Lamarr|         Psicología|5.174999952316284|\n",
      "| Marisol Alarcón|   Educación Cívica|5.200000047683716|\n",
      "|     Alan Turing|       Neurociencia|5.075000047683716|\n",
      "|    Ada Lovelace|Finanzas y Economía|5.025000035762787|\n",
      "|    Ada Lovelace|       Programación|4.674999952316284|\n",
      "|     Jude Milhon|       Neurociencia|5.024999976158142|\n",
      "|Jhon von Neumann|         Psicología|5.274999976158142|\n",
      "|Richard Stallman|Finanzas y Economía|4.400000035762787|\n",
      "|    Katie Bouman|Finanzas y Economía|             5.25|\n",
      "|      Carol Shaw|          Filosofía|5.150000095367432|\n",
      "|     Jude Milhon|   Educación Cívica|5.199999988079071|\n",
      "|     Hedy Lamarr|          Filosofía|5.425000071525574|\n",
      "| Marisol Alarcón|Finanzas y Economía|5.275000035762787|\n",
      "|     Jude Milhon|       Programación|5.299999952316284|\n",
      "|     Alan Turing|          Filosofía|4.649999976158142|\n",
      "|     Jude Milhon|          Filosofía|5.074999988079071|\n",
      "|     Ángela Ruiz|          Filosofía|6.650000095367432|\n",
      "|Jhon von Neumann|   Educación Cívica|             6.25|\n",
      "|Richard Stallman|       Neurociencia|5.975000023841858|\n",
      "+----------------+-------------------+-----------------+\n",
      "only showing top 20 rows\n",
      "\n"
     ]
    }
   ],
   "source": [
    "scores_df = scores_df.withColumn('score', col('score').cast(FloatType()))\n",
    "scores_df = scores_df.groupBy('student_name', 'subject').avg('score')\n",
    "\n",
    "scores_df.show()"
   ]
  },
  {
   "cell_type": "markdown",
   "metadata": {},
   "source": [
    "## Windows Functions"
   ]
  },
  {
   "cell_type": "code",
   "execution_count": 10,
   "metadata": {},
   "outputs": [],
   "source": [
    "from pyspark.sql.window import Window"
   ]
  },
  {
   "cell_type": "code",
   "execution_count": 57,
   "metadata": {},
   "outputs": [
    {
     "name": "stdout",
     "output_type": "stream",
     "text": [
      "+---+----------+---------------+-------------------+----+----------+-----+-----------------+\n",
      "|_c0|student_id|   student_name|            subject|year|      date|score|             prom|\n",
      "+---+----------+---------------+-------------------+----+----------+-----+-----------------+\n",
      "|203|         4|    Ángela Ruiz|       Neurociencia|2020|2020-03-31|  5.6|              5.6|\n",
      "|213|         4|    Ángela Ruiz|       Neurociencia|2020|2020-06-31|  4.7|             5.15|\n",
      "|223|         4|    Ángela Ruiz|       Neurociencia|2020|2020-09-20|  4.3|4.866666666666667|\n",
      "|233|         4|    Ángela Ruiz|       Neurociencia|2020|2020-12-17|  5.7|            5.075|\n",
      "|161|         2|    Hedy Lamarr|         Psicología|2020|2020-03-31|  4.5|              4.5|\n",
      "|171|         2|    Hedy Lamarr|         Psicología|2020|2020-06-31|  6.2|             5.35|\n",
      "|181|         2|    Hedy Lamarr|         Psicología|2020|2020-09-20|  3.4|              4.7|\n",
      "|191|         2|    Hedy Lamarr|         Psicología|2020|2020-12-17|  6.6|            5.175|\n",
      "| 85|         6|Marisol Alarcón|   Educación Cívica|2020|2020-03-31|  4.8|              4.8|\n",
      "| 95|         6|Marisol Alarcón|   Educación Cívica|2020|2020-06-31|  6.9|             5.85|\n",
      "|105|         6|Marisol Alarcón|   Educación Cívica|2020|2020-09-20|  4.4|5.366666666666667|\n",
      "|115|         6|Marisol Alarcón|   Educación Cívica|2020|2020-12-17|  4.7|              5.2|\n",
      "|207|         8|    Alan Turing|       Neurociencia|2020|2020-03-31|  4.1|              4.1|\n",
      "|217|         8|    Alan Turing|       Neurociencia|2020|2020-06-31|  6.3|5.199999999999999|\n",
      "|227|         8|    Alan Turing|       Neurociencia|2020|2020-09-20|  5.4|5.266666666666667|\n",
      "|237|         8|    Alan Turing|       Neurociencia|2020|2020-12-17|  4.5|5.074999999999999|\n",
      "|120|         1|   Ada Lovelace|Finanzas y Economía|2020|2020-03-31|  4.7|              4.7|\n",
      "|130|         1|   Ada Lovelace|Finanzas y Economía|2020|2020-06-31|  6.4|5.550000000000001|\n",
      "|140|         1|   Ada Lovelace|Finanzas y Economía|2020|2020-09-20|  3.7|4.933333333333334|\n",
      "|150|         1|   Ada Lovelace|Finanzas y Economía|2020|2020-12-17|  5.3|            5.025|\n",
      "+---+----------+---------------+-------------------+----+----------+-----+-----------------+\n",
      "only showing top 20 rows\n",
      "\n"
     ]
    }
   ],
   "source": [
    "student_window = Window.partitionBy('student_name', 'subject').orderBy('date')\n",
    "\n",
    "\n",
    "(\n",
    "    scores_df\n",
    "        .withColumn('prom', avg('score').over(student_window))\n",
    ").show()"
   ]
  },
  {
   "cell_type": "code",
   "execution_count": 69,
   "metadata": {},
   "outputs": [
    {
     "name": "stdout",
     "output_type": "stream",
     "text": [
      "+---+----------+---------------+-------------------+----+----------+-----+----------+\n",
      "|_c0|student_id|   student_name|            subject|year|      date|score|row_number|\n",
      "+---+----------+---------------+-------------------+----+----------+-----+----------+\n",
      "|233|         4|    Ángela Ruiz|       Neurociencia|2020|2020-12-17|  5.7|         1|\n",
      "|223|         4|    Ángela Ruiz|       Neurociencia|2020|2020-09-20|  4.3|         2|\n",
      "|213|         4|    Ángela Ruiz|       Neurociencia|2020|2020-06-31|  4.7|         3|\n",
      "|203|         4|    Ángela Ruiz|       Neurociencia|2020|2020-03-31|  5.6|         4|\n",
      "|191|         2|    Hedy Lamarr|         Psicología|2020|2020-12-17|  6.6|         1|\n",
      "|181|         2|    Hedy Lamarr|         Psicología|2020|2020-09-20|  3.4|         2|\n",
      "|171|         2|    Hedy Lamarr|         Psicología|2020|2020-06-31|  6.2|         3|\n",
      "|161|         2|    Hedy Lamarr|         Psicología|2020|2020-03-31|  4.5|         4|\n",
      "|115|         6|Marisol Alarcón|   Educación Cívica|2020|2020-12-17|  4.7|         1|\n",
      "|105|         6|Marisol Alarcón|   Educación Cívica|2020|2020-09-20|  4.4|         2|\n",
      "| 95|         6|Marisol Alarcón|   Educación Cívica|2020|2020-06-31|  6.9|         3|\n",
      "| 85|         6|Marisol Alarcón|   Educación Cívica|2020|2020-03-31|  4.8|         4|\n",
      "|237|         8|    Alan Turing|       Neurociencia|2020|2020-12-17|  4.5|         1|\n",
      "|227|         8|    Alan Turing|       Neurociencia|2020|2020-09-20|  5.4|         2|\n",
      "|217|         8|    Alan Turing|       Neurociencia|2020|2020-06-31|  6.3|         3|\n",
      "|207|         8|    Alan Turing|       Neurociencia|2020|2020-03-31|  4.1|         4|\n",
      "|150|         1|   Ada Lovelace|Finanzas y Economía|2020|2020-12-17|  5.3|         1|\n",
      "|140|         1|   Ada Lovelace|Finanzas y Economía|2020|2020-09-20|  3.7|         2|\n",
      "|130|         1|   Ada Lovelace|Finanzas y Economía|2020|2020-06-31|  6.4|         3|\n",
      "|120|         1|   Ada Lovelace|Finanzas y Economía|2020|2020-03-31|  4.7|         4|\n",
      "+---+----------+---------------+-------------------+----+----------+-----+----------+\n",
      "only showing top 20 rows\n",
      "\n"
     ]
    }
   ],
   "source": [
    "student_window = Window.partitionBy('student_name', 'subject').orderBy(col('date').desc())\n",
    "\n",
    "\n",
    "(\n",
    "    scores_df\n",
    "        .withColumn('row_number', row_number().over(student_window))\n",
    "        # .where(col('row_number') == 1)\n",
    ").show()"
   ]
  },
  {
   "cell_type": "code",
   "execution_count": null,
   "metadata": {},
   "outputs": [],
   "source": []
  },
  {
   "cell_type": "code",
   "execution_count": null,
   "metadata": {},
   "outputs": [],
   "source": [
    "\n",
    "the zen of python\n",
    "\n",
    "estructura SQL\n",
    "crear columa\n",
    "renombrar columnas\n",
    "\n",
    "quitar columnas\n",
    "seleccionar columnas\n",
    "\n",
    "cambiar tipos de datos (castear)\n",
    "\n",
    "funciones de pyapark (concat, col, lit  etc...)\n",
    "group by\n",
    "join\n",
    "window function\n",
    "\n",
    "transformaciones con SQL en el where"
   ]
  }
 ],
 "metadata": {
  "interpreter": {
   "hash": "a702d9c495f6ad0e5a57a515430ed4ed924d6cbbf125362265516ddb537ce8a7"
  },
  "kernelspec": {
   "display_name": "Python 3.9.6 64-bit",
   "language": "python",
   "name": "python3"
  },
  "language_info": {
   "codemirror_mode": {
    "name": "ipython",
    "version": 3
   },
   "file_extension": ".py",
   "mimetype": "text/x-python",
   "name": "python",
   "nbconvert_exporter": "python",
   "pygments_lexer": "ipython3",
   "version": "3.9.6"
  },
  "orig_nbformat": 4
 },
 "nbformat": 4,
 "nbformat_minor": 2
}
